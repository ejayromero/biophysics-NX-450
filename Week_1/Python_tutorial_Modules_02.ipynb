{
 "cells": [
  {
   "cell_type": "markdown",
   "metadata": {
    "user_expressions": []
   },
   "source": [
    "<center><font size = \"10\"> Week 1 - Python 3 <center>\n",
    "<center><font size = \"8\">Tutorial 02: Useful Modules and Packages<center>"
   ]
  },
  {
   "cell_type": "markdown",
   "metadata": {
    "user_expressions": []
   },
   "source": [
    "# Module and Package\n",
    "\n",
    "<font size = \"3\"> We don't usually store all of our files in our computer in the same location. We use a well-organized hierarchy of directories for easier access. Similar files are kept in the same directory, for example, we may keep all the songs in the \"music\" directory\". Analogous to this, Python has __packages__ for directories and __modules__ for files. As our application program grows larger in size with a lot of modules, we place similar modules in one package and different modules in different packages. This makes a project (program) easy to manage and conceptually clear.\n",
    "    \n",
    "<font size = \"3\">- A __module__ is a file containing Python definitions and statements. The file name is the module name with the suffix \".py\" appended.\n",
    "  \n",
    "<font size = \"3\">- __Packages__ are a way of structuring Python’s module namespace by using “dotted module names”.\n",
    "\n",
    "<font size=\"3\">Let's see some important packages for this course so we learn how to deal with them. Much more information can be found online in the links provided or elsewhere."
   ]
  },
  {
   "cell_type": "markdown",
   "metadata": {
    "user_expressions": []
   },
   "source": [
    "## PANDAS\n",
    "\n",
    "<font size =\"3\">Pandas is a powerful package for data managing in Python. \n",
    "    \n",
    "<font size =\"3\">You can find info about it here: https://pandas.pydata.org/pandas-docs/stable/\n",
    "\n",
    "<font size =\"3\">We show you here a small example so you can understand how intereting this package could be."
   ]
  },
  {
   "cell_type": "code",
   "execution_count": 2,
   "metadata": {
    "tags": []
   },
   "outputs": [
    {
     "name": "stdout",
     "output_type": "stream",
     "text": [
      "    Name  Age\n",
      "0    Tom   20\n",
      "1   nick   21\n",
      "2  krish   19\n",
      "3   jack   18\n"
     ]
    }
   ],
   "source": [
    "# First, we create a pandas file (SQL, CSV or Excel)\n",
    "\n",
    "import pandas as pd          # \"as\" allows us to give a shorthand name to the module\n",
    "                             # which are usually conventional\n",
    "\n",
    "# intialise data of lists. \n",
    "data = {'Name':['Tom', 'nick', 'krish', 'jack'], 'Age':[20, 21, 19, 18]} \n",
    "\n",
    "# Create DataFrame \n",
    "df = pd.DataFrame(data) \n",
    "  \n",
    "# Print the data\n",
    "print(df)"
   ]
  },
  {
   "cell_type": "code",
   "execution_count": 3,
   "metadata": {
    "tags": []
   },
   "outputs": [
    {
     "name": "stdout",
     "output_type": "stream",
     "text": [
      "    Name  Age\n",
      "0    Tom   20\n",
      "1   nick   21\n",
      "2  krish   19\n",
      "3   jack   18\n",
      "  Name  Age\n",
      "0  Tom   20\n"
     ]
    }
   ],
   "source": [
    "# Nicer way of visualicing the data with head()\n",
    "\n",
    "print(df.head())     # shows by default the first 5 rows of the data\n",
    "print (df.head(1))   # shows only the first row"
   ]
  },
  {
   "cell_type": "code",
   "execution_count": 4,
   "metadata": {
    "tags": []
   },
   "outputs": [
    {
     "name": "stdout",
     "output_type": "stream",
     "text": [
      "(4, 2)\n",
      "2\n"
     ]
    }
   ],
   "source": [
    "# Check data shape and dimension\n",
    "\n",
    "print (df.shape)\n",
    "print (df.ndim)"
   ]
  },
  {
   "cell_type": "code",
   "execution_count": 5,
   "metadata": {
    "tags": []
   },
   "outputs": [
    {
     "data": {
      "text/plain": [
       "0    20\n",
       "1    21\n",
       "2    19\n",
       "3    18\n",
       "Name: Age, dtype: int64"
      ]
     },
     "execution_count": 5,
     "metadata": {},
     "output_type": "execute_result"
    }
   ],
   "source": [
    "# select a column\n",
    "df['Age']"
   ]
  },
  {
   "cell_type": "code",
   "execution_count": 6,
   "metadata": {
    "tags": []
   },
   "outputs": [
    {
     "data": {
      "text/plain": [
       "Name    nick\n",
       "Age       21\n",
       "Name: 1, dtype: object"
      ]
     },
     "execution_count": 6,
     "metadata": {},
     "output_type": "execute_result"
    }
   ],
   "source": [
    "# Select a specific row\n",
    "\n",
    "df.loc[1]      "
   ]
  },
  {
   "cell_type": "code",
   "execution_count": 7,
   "metadata": {
    "tags": []
   },
   "outputs": [
    {
     "data": {
      "text/plain": [
       "'nick'"
      ]
     },
     "execution_count": 7,
     "metadata": {},
     "output_type": "execute_result"
    }
   ],
   "source": [
    "# select row and column\n",
    "df.loc[1,'Name'] # 1 is the row index, 'Name' is the column name"
   ]
  },
  {
   "cell_type": "code",
   "execution_count": 9,
   "metadata": {
    "tags": []
   },
   "outputs": [
    {
     "data": {
      "text/html": [
       "<div>\n",
       "<style scoped>\n",
       "    .dataframe tbody tr th:only-of-type {\n",
       "        vertical-align: middle;\n",
       "    }\n",
       "\n",
       "    .dataframe tbody tr th {\n",
       "        vertical-align: top;\n",
       "    }\n",
       "\n",
       "    .dataframe thead th {\n",
       "        text-align: right;\n",
       "    }\n",
       "</style>\n",
       "<table border=\"1\" class=\"dataframe\">\n",
       "  <thead>\n",
       "    <tr style=\"text-align: right;\">\n",
       "      <th></th>\n",
       "      <th>Age</th>\n",
       "    </tr>\n",
       "    <tr>\n",
       "      <th>Name</th>\n",
       "      <th></th>\n",
       "    </tr>\n",
       "  </thead>\n",
       "  <tbody>\n",
       "    <tr>\n",
       "      <th>Tom</th>\n",
       "      <td>20</td>\n",
       "    </tr>\n",
       "    <tr>\n",
       "      <th>nick</th>\n",
       "      <td>21</td>\n",
       "    </tr>\n",
       "    <tr>\n",
       "      <th>krish</th>\n",
       "      <td>19</td>\n",
       "    </tr>\n",
       "    <tr>\n",
       "      <th>jack</th>\n",
       "      <td>18</td>\n",
       "    </tr>\n",
       "  </tbody>\n",
       "</table>\n",
       "</div>"
      ],
      "text/plain": [
       "       Age\n",
       "Name      \n",
       "Tom     20\n",
       "nick    21\n",
       "krish   19\n",
       "jack    18"
      ]
     },
     "execution_count": 9,
     "metadata": {},
     "output_type": "execute_result"
    }
   ],
   "source": [
    "# change row index\n",
    "df.set_index('Name')"
   ]
  },
  {
   "cell_type": "code",
   "execution_count": 12,
   "metadata": {
    "tags": []
   },
   "outputs": [
    {
     "name": "stdout",
     "output_type": "stream",
     "text": [
      "   height (cm)  age  likes bananas\n",
      "1          112   12          False\n",
      "4          200   20          False\n",
      "5          184   20          False\n",
      "   height (cm)  age  likes bananas\n",
      "0          100   10           True\n",
      "2          132   10           True\n",
      "3          115   14           True\n",
      "6          192   50           True\n",
      "7          153   20           True\n",
      "8          180   50           True\n"
     ]
    },
    {
     "data": {
      "text/plain": [
       "age\n",
       "10    116.0\n",
       "12    112.0\n",
       "14    115.0\n",
       "20    179.0\n",
       "50    186.0\n",
       "Name: height (cm), dtype: float64"
      ]
     },
     "execution_count": 12,
     "metadata": {},
     "output_type": "execute_result"
    }
   ],
   "source": [
    "# operate on groups\n",
    "import pandas as pd\n",
    "data = pd.DataFrame({\n",
    "    'height (cm)': [100, 112, 132, 115, 200, 184, 192, 153, 180],\n",
    "    'age': [10, 12, 10, 14, 20, 20, 50, 20, 50],\n",
    "    'likes bananas': [True, False, True, True, False, False, True, True, True]\n",
    "})\n",
    "\n",
    "for likes_bananas, subdata in data.groupby('likes bananas'):\n",
    "    print(subdata)\n",
    "    \n",
    "data.groupby('age')['height (cm)'].mean()"
   ]
  },
  {
   "cell_type": "markdown",
   "metadata": {
    "user_expressions": []
   },
   "source": [
    "## NUMPY\n",
    "\n",
    "<font size =\"3\">Is the fundamental Python package for scientific computing and array processing.\n",
    "\n",
    "<font size =\"3\">You can find more information here: https://numpy.org"
   ]
  },
  {
   "cell_type": "code",
   "execution_count": 13,
   "metadata": {
    "tags": []
   },
   "outputs": [
    {
     "name": "stdout",
     "output_type": "stream",
     "text": [
      "Array created using passed list:\n",
      " [[1. 2. 4.]\n",
      " [5. 8. 7.]]\n",
      "\n",
      "An array initialized with all zeros:\n",
      " [[0. 0. 0. 0.]\n",
      " [0. 0. 0. 0.]\n",
      " [0. 0. 0. 0.]]\n",
      "\n",
      "A random array:\n",
      " [[0.23164362 0.00181065]\n",
      " [0.74192337 0.11118147]]\n",
      "\n",
      "A sequential array with steps of 5:\n",
      " [ 0  5 10 15 20 25]\n"
     ]
    }
   ],
   "source": [
    "# Examples for array creation\n",
    "\n",
    "import numpy as np \n",
    "  \n",
    "# Creating array from list with type float \n",
    "a = np.array([[1, 2, 4], [5, 8, 7]], dtype = 'float') \n",
    "print (\"Array created using passed list:\\n\", a) \n",
    "    \n",
    "# Creating a 3X4 array with all zeros \n",
    "b = np.zeros((3, 4)) \n",
    "print (\"\\nAn array initialized with all zeros:\\n\", b) \n",
    "    \n",
    "# Create an array with random values \n",
    "c = np.random.random((2, 2)) \n",
    "print (\"\\nA random array:\\n\", c) \n",
    "  \n",
    "# Create a sequence of integers from 0 to 30 with steps of 5 \n",
    "d = np.arange(0, 30, 5) \n",
    "print (\"\\nA sequential array with steps of 5:\\n\", d) "
   ]
  },
  {
   "cell_type": "code",
   "execution_count": 14,
   "metadata": {
    "tags": []
   },
   "outputs": [
    {
     "name": "stdout",
     "output_type": "stream",
     "text": [
      "Adding 1 to every element: [2 3 6 4]\n",
      "Multiplying each element by 10: [10 20 50 30]\n",
      "\n",
      "Original array:\n",
      " [[1 2 3]\n",
      " [3 4 5]\n",
      " [9 6 0]]\n",
      "Transpose of array:\n",
      " [[1 3 9]\n",
      " [2 4 6]\n",
      " [3 5 0]]\n"
     ]
    }
   ],
   "source": [
    "# Basic operations on  a single array \n",
    "\n",
    "import numpy as np \n",
    "  \n",
    "a = np.array([1, 2, 5, 3]) \n",
    "  \n",
    "# add 1 to every element \n",
    "print (\"Adding 1 to every element:\", a+1) \n",
    "    \n",
    "# multiply each element by 10 \n",
    "print (\"Multiplying each element by 10:\", a*10) \n",
    "    \n",
    "# transpose of array \n",
    "a = np.array([[1, 2, 3], [3, 4, 5], [9, 6, 0]]) \n",
    "  \n",
    "print (\"\\nOriginal array:\\n\", a) \n",
    "print (\"Transpose of array:\\n\", a.T) "
   ]
  },
  {
   "cell_type": "code",
   "execution_count": 15,
   "metadata": {
    "tags": []
   },
   "outputs": [
    {
     "name": "stdout",
     "output_type": "stream",
     "text": [
      "Largest element is: 9\n",
      "\n",
      "Row-wise maximum elements: [6 7 9]\n",
      "\n",
      "Sum of all array elements: 38\n",
      "\n",
      "Cumulative sum along each row:\n",
      " [[ 1  6 12]\n",
      " [ 4 11 13]\n",
      " [ 3  4 13]]\n"
     ]
    }
   ],
   "source": [
    "# Unary operators in numpy \n",
    "\n",
    "import numpy as np \n",
    "  \n",
    "arr = np.array([[1, 5, 6], \n",
    "                [4, 7, 2], \n",
    "                [3, 1, 9]]) \n",
    "  \n",
    "# maximum element of array \n",
    "print (\"Largest element is:\", arr.max()) \n",
    "\n",
    "print (\"\\nRow-wise maximum elements:\", \n",
    "                    arr.max(axis = 1)) \n",
    "    \n",
    "# sum of array elements \n",
    "print (\"\\nSum of all array elements:\", \n",
    "                            arr.sum()) \n",
    "  \n",
    "# cumulative sum along each row \n",
    "print (\"\\nCumulative sum along each row:\\n\", \n",
    "                        arr.cumsum(axis = 1)) "
   ]
  },
  {
   "cell_type": "code",
   "execution_count": 16,
   "metadata": {
    "tags": []
   },
   "outputs": [
    {
     "name": "stdout",
     "output_type": "stream",
     "text": [
      "Array sum:\n",
      " [[5 5]\n",
      " [5 5]]\n",
      "\n",
      "Array multiplication:\n",
      " [[4 6]\n",
      " [6 4]]\n",
      "\n",
      "Matrix multiplication:\n",
      " [[ 8  5]\n",
      " [20 13]]\n"
     ]
    }
   ],
   "source": [
    "# Binary operators in Numpy \n",
    "\n",
    "import numpy as np \n",
    "  \n",
    "a = np.array([[1, 2], \n",
    "            [3, 4]]) \n",
    "b = np.array([[4, 3], \n",
    "            [2, 1]]) \n",
    "  \n",
    "# add arrays \n",
    "print (\"Array sum:\\n\", a + b) \n",
    "  \n",
    "# multiply arrays (elementwise multiplication) \n",
    "print (\"\\nArray multiplication:\\n\", a*b) \n",
    "  \n",
    "# matrix multiplication \n",
    "print (\"\\nMatrix multiplication:\\n\", a.dot(b)) "
   ]
  },
  {
   "cell_type": "markdown",
   "metadata": {
    "user_expressions": []
   },
   "source": [
    "## MATPLOTLIB\n",
    "\n",
    "<font size =\"3\">Is a python 2D plotting library\n",
    "\n",
    "<font size =\"3\">Find more information here: https://matplotlib.org"
   ]
  },
  {
   "cell_type": "code",
   "execution_count": 17,
   "metadata": {
    "tags": []
   },
   "outputs": [
    {
     "data": {
      "image/png": "[encoded data removed]",
      "text/plain": [
       "<Figure size 640x480 with 1 Axes>"
      ]
     },
     "metadata": {},
     "output_type": "display_data"
    }
   ],
   "source": [
    "# Easy example\n",
    "\n",
    "import matplotlib.pyplot as plt     # here we import a specific submodule of matplotlib\n",
    "                                    # and give it a shorthand name\n",
    "\n",
    "# IPython magic command: plots will be generated inline instead of in a separated window.\n",
    "# See http://ipython.org/ipython-doc/dev/interactive/magics.html\n",
    "%matplotlib inline\n",
    "\n",
    "x = list(range(0, 50, 2))\n",
    "y = list(range(0, 25, 1))\n",
    "\n",
    "plt.scatter(x, y, c=\"g\", alpha=0.5, marker='o', label=\"Luck\")\n",
    "plt.xlabel(\"Leprechauns\")\n",
    "plt.ylabel(\"Gold\")\n",
    "plt.legend(loc='upper left')\n",
    "plt.show()"
   ]
  },
  {
   "cell_type": "markdown",
   "metadata": {
    "user_expressions": []
   },
   "source": [
    "<font size =\"3\">Now a more complex example of data open file and plotting using __Numpy__ and __Matplotlib__"
   ]
  },
  {
   "cell_type": "code",
   "execution_count": 19,
   "metadata": {
    "tags": []
   },
   "outputs": [
    {
     "data": {
      "text/plain": [
       "Text(0, 0.5, 'Y0')"
      ]
     },
     "execution_count": 19,
     "metadata": {},
     "output_type": "execute_result"
    },
    {
     "data": {
      "image/png": "[encoded data removed]",
      "text/plain": [
       "<Figure size 1000x600 with 1 Axes>"
      ]
     },
     "metadata": {},
     "output_type": "display_data"
    }
   ],
   "source": [
    "import numpy as np\n",
    "import matplotlib.pyplot as plt\n",
    "\n",
    "# If you already run this line before you don't need to write it again\n",
    "# %matplotlib inline\n",
    "\n",
    "# Open data1.txt and safe data on different lists\n",
    "with open ('data1.txt', 'r') as d:\n",
    "    data = d.readlines()\n",
    "    #print (data)                   # check what is inside data1.txt by uncomment this line\n",
    "    \n",
    "# Organize data\n",
    "xdata = []\n",
    "ydata = []\n",
    "for d in data:\n",
    "    if d == data[0]:\n",
    "        pass\n",
    "    else:\n",
    "        d_split = d.split('\\t')\n",
    "        xdata.append(float(d_split[0]))\n",
    "        d_split[1].replace('\\n', '')\n",
    "        ydata.append(float(d_split[1]))\n",
    "    \n",
    "# Plot data\n",
    "fig0, ax = plt.subplots(figsize=(10,6))\n",
    "ax.scatter(xdata, ydata)\n",
    "ax.set_xlabel('t [ms]')\n",
    "ax.set_ylabel('Y0')"
   ]
  },
  {
   "cell_type": "markdown",
   "metadata": {
    "user_expressions": []
   },
   "source": [
    "<font size =\"3\">Let's  plot a histogram:"
   ]
  },
  {
   "cell_type": "code",
   "execution_count": 20,
   "metadata": {
    "tags": []
   },
   "outputs": [
    {
     "data": {
      "image/png": "[encoded data removed]",
      "text/plain": [
       "<Figure size 640x480 with 1 Axes>"
      ]
     },
     "metadata": {},
     "output_type": "display_data"
    }
   ],
   "source": [
    "import matplotlib.mlab as mlab\n",
    "\n",
    "x = np.random.normal(size = 1000)\n",
    "plt.hist(x, density=True, bins=100, facecolor='green', alpha=0.75)\n",
    "plt.ylabel('Probability')\n",
    "plt.title('Histogram')\n",
    "plt.grid(True)"
   ]
  },
  {
   "cell_type": "markdown",
   "metadata": {
    "user_expressions": []
   },
   "source": [
    "<font size =\"3\">Now let's plot for our data:"
   ]
  },
  {
   "cell_type": "code",
   "execution_count": 21,
   "metadata": {
    "tags": []
   },
   "outputs": [
    {
     "data": {
      "image/png": "[encoded data removed]",
      "text/plain": [
       "<Figure size 640x480 with 1 Axes>"
      ]
     },
     "metadata": {},
     "output_type": "display_data"
    }
   ],
   "source": [
    "plt.hist(ydata, density=True, bins=100, facecolor='blue', alpha=0.75)\n",
    "\n",
    "plt.xlabel('y')\n",
    "plt.ylabel('Probability')\n",
    "plt.title('Histogram')\n",
    "plt.grid(True)"
   ]
  },
  {
   "cell_type": "markdown",
   "metadata": {
    "user_expressions": []
   },
   "source": [
    "## Scipy\n",
    "\n",
    "<font size =\"3\">Scipy is an \"ecosystem\" of open-source software for mathematics, science, and engineering\n",
    "\n",
    "<font size =\"3\">Find more information here: https://docs.scipy.org/doc/scipy/reference/"
   ]
  },
  {
   "cell_type": "markdown",
   "metadata": {
    "user_expressions": []
   },
   "source": [
    "As an example, let's solve a system:\n",
    "\n",
    "\\begin{equation}\n",
    "                   x + 3y + 5z & = & 10 \\\\\n",
    "                   2x + 5y + z & = & 8  \\\\\n",
    "                   2x + 3y + 8z & = & 3\n",
    "\\end{equation}\n",
    " \n",
    "we can write it in this format:\n",
    "\n",
    "\\begin{split}\\left[\\begin{array}{ccc} 1 & 3 & 5\\\\ 2 & 5 & 1\\\\ 2 & 3 & 8\\end{array}\\right]\\left[\\begin{array}{c} x\\\\ y\\\\ z\\end{array}\\right]=\\left[\\begin{array}{c} 10\\\\ 8\\\\ 3\\end{array}\\right].\\end{split}"
   ]
  },
  {
   "cell_type": "code",
   "execution_count": 22,
   "metadata": {
    "tags": []
   },
   "outputs": [],
   "source": [
    "from scipy import linalg        # here we import only the linalg submodule from scipy\n",
    "                                # this is equivalent to \"import scipy.linalg as linalg\"\n",
    "\n",
    "A = np.array([[1,3,5], [2,5,1], [2,3,8]])\n",
    "b = np.array([10, 8, 3])\n",
    "\n",
    "x = linalg.solve(A,b)"
   ]
  },
  {
   "cell_type": "code",
   "execution_count": 23,
   "metadata": {
    "tags": []
   },
   "outputs": [
    {
     "name": "stdout",
     "output_type": "stream",
     "text": [
      "[[1 3 5]\n",
      " [2 5 1]\n",
      " [2 3 8]]\n",
      "-25.000000000000004\n",
      "14.0\n"
     ]
    }
   ],
   "source": [
    "# result, determinant and norm\n",
    "print (A)\n",
    "print (linalg.det(A))\n",
    "print (linalg.norm(A, 1))"
   ]
  },
  {
   "cell_type": "markdown",
   "metadata": {
    "user_expressions": []
   },
   "source": [
    "<font size =\"3\">Now we will fit a curve using the data in data1.txt file from the previous example"
   ]
  },
  {
   "cell_type": "code",
   "execution_count": 24,
   "metadata": {
    "tags": []
   },
   "outputs": [
    {
     "data": {
      "text/plain": [
       "<matplotlib.legend.Legend at 0x7f280b31ae50>"
      ]
     },
     "execution_count": 24,
     "metadata": {},
     "output_type": "execute_result"
    },
    {
     "data": {
      "image/png": "[encoded data removed]",
      "text/plain": [
       "<Figure size 1200x800 with 1 Axes>"
      ]
     },
     "metadata": {},
     "output_type": "display_data"
    }
   ],
   "source": [
    "# We will use the function \"curve_fit\", that can be found in the module \"optimize\" of the library \"SciPy\"\n",
    "\n",
    "from scipy.optimize import curve_fit\n",
    "\n",
    "def expcurve(x, a):\n",
    "    '''A model'''\n",
    "    return 1 - a*np.exp(-x)\n",
    "\n",
    "def betterexpcurve(x, a, b, c):\n",
    "    '''A better model'''\n",
    "    return a - b*np.exp(-x*c)\n",
    "\n",
    "\n",
    "# Fit model\n",
    "popt, pcov = curve_fit(betterexpcurve, xdata, ydata)\n",
    "\n",
    "# Standard deviation errors on the parameters, see curve_fit documentation\n",
    "perr = np.sqrt(np.diag(pcov))\n",
    "\n",
    "# Generate data from the model\n",
    "x = np.linspace(min(xdata)-1, max(xdata)+1)\n",
    "y = betterexpcurve(x, *popt)\n",
    "\n",
    "# Plot raw data and model\n",
    "fig1, ax = plt.subplots(figsize=(12,8))\n",
    "ax.scatter(xdata, ydata, label='Raw Data')\n",
    "ax.plot(x,y, '--g', lw=3, label='Model')\n",
    "ax.set_xlabel('t [ms]')\n",
    "ax.set_ylabel('Y0')\n",
    "ax.legend(loc=2)"
   ]
  },
  {
   "cell_type": "code",
   "execution_count": null,
   "metadata": {},
   "outputs": [],
   "source": []
  },
  {
   "cell_type": "code",
   "execution_count": null,
   "metadata": {},
   "outputs": [],
   "source": []
  },
  {
   "cell_type": "code",
   "execution_count": null,
   "metadata": {},
   "outputs": [],
   "source": []
  }
 ],
 "metadata": {
  "kernelspec": {
   "display_name": "Python3",
   "language": "python",
   "name": "python3"
  },
  "language_info": {
   "codemirror_mode": {
    "name": "ipython",
    "version": 3
   },
   "file_extension": ".py",
   "mimetype": "text/x-python",
   "name": "python",
   "nbconvert_exporter": "python",
   "pygments_lexer": "ipython3",
   "version": "3.11.4"
  }
 },
 "nbformat": 4,
 "nbformat_minor": 4
}
