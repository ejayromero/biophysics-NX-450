{
 "cells": [
  {
   "cell_type": "markdown",
   "metadata": {
    "user_expressions": []
   },
   "source": [
    "<center><font size = \"10\"> Week 1 - Python3 tutorial<center>\n",
    "<center><font size = \"8\">Tutorial 01: Introduction<center>\n",
    "<br>\n",
    "\n",
    "<font size = \"5\">__IMPORTANT:__ the exercises that can be found a long the notebook won't be graded"
   ]
  },
  {
   "cell_type": "markdown",
   "metadata": {
    "user_expressions": []
   },
   "source": [
    "# Data types (numbers, strings, booleans)\n",
    "\n",
    "<font size = \"3\"> Python supports a variety of data types, some examples are:\n",
    "    \n",
    "<font size = \"3\">- __Integers__: or ints are positive or negative whole numbers with no decimal point (2, 4, 789242876, 300)\n",
    "\n",
    "    \n",
    "<font size = \"3\">- __Floats__: or floating points real numbers, they represent real numbers and are written with a decimal point dividing the integer and fractional parts (3.4, 567.54, -34.5)\n",
    "\n",
    "\n",
    "<font size = \"3\">- __Strings__: is a squence of characters. Python strings can be created with single quotes, double quotes, or triple quotes. When we use triple quotes, strings can span several lines without using the escape character ('Hello world', \"Goodbey world\")\n",
    "\n",
    "\n",
    "<font size = \"3\">- __Booleans__: Bool is used to test whether the result of an expression is true or false.\n",
    "\n",
    "<font size = \"3\">Let's see some examples:"
   ]
  },
  {
   "cell_type": "code",
   "execution_count": 22,
   "metadata": {
    "tags": []
   },
   "outputs": [
    {
     "name": "stdout",
     "output_type": "stream",
     "text": [
      "<class 'int'>\n"
     ]
    }
   ],
   "source": [
    "# By using \"#\" before a sentence we can write comments on our code\n",
    "# The equals sign \"=\" is used to assign a value to a variable\n",
    "# print() will show us a representation of whatever is inside the parentheses\n",
    "\n",
    "# Variable names can use upper case and lower case letters, the underscore, and the digits 0-9\n",
    "# They cannot start with a digit\n",
    "\n",
    "my_num1 = 4\n",
    "\n",
    "# In Python there is no need to define the types of variable before, \n",
    "# but we can always ask about the data type\n",
    "\n",
    "print (type(my_num1))\n",
    "\n",
    "# TO RUN THE CELL PRESS CTRL + ENTER "
   ]
  },
  {
   "cell_type": "code",
   "execution_count": 23,
   "metadata": {
    "tags": []
   },
   "outputs": [
    {
     "name": "stdout",
     "output_type": "stream",
     "text": [
      "What if: \n",
      "I add a string to a string? \n",
      "\n",
      "lets\n",
      "write\n",
      "three lines \n",
      "\n",
      "<class 'float'>\n",
      "<class 'str'>\n",
      "<class 'str'>\n",
      "<class 'str'>\n",
      "<class 'bool'>\n"
     ]
    }
   ],
   "source": [
    "my_num2 = 4.0        \n",
    "\n",
    "name1 = 'What if: '  \n",
    "name2 = \"I add a string to a string? \" \n",
    "name3 = '''\n",
    "lets\n",
    "write\n",
    "three lines \n",
    "'''\n",
    "\n",
    "binary1 = True                        # Or 'False'.\n",
    "\n",
    "print(name1)\n",
    "print(name2)\n",
    "print(name3)\n",
    "print (type(my_num2))\n",
    "print (type(name1))\n",
    "print (type(name2))\n",
    "print (type(name3))\n",
    "print (type(binary1))"
   ]
  },
  {
   "cell_type": "markdown",
   "metadata": {
    "user_expressions": []
   },
   "source": [
    "## Operations with data\n",
    "<font size = \"3\"> For each data type there are some operations that can be performed on them, like arythmetic operations. "
   ]
  },
  {
   "cell_type": "code",
   "execution_count": 24,
   "metadata": {
    "tags": []
   },
   "outputs": [
    {
     "name": "stdout",
     "output_type": "stream",
     "text": [
      "8.0\n",
      "0.0\n",
      "0\n"
     ]
    }
   ],
   "source": [
    "# Is possible to define a new variable\n",
    "\n",
    "my_num12 = my_num1 + my_num2\n",
    "print (my_num12)\n",
    "\n",
    "# Or we can ask to print the result directly\n",
    "\n",
    "print (my_num1 - my_num2)\n",
    "print (my_num1 - my_num1)"
   ]
  },
  {
   "cell_type": "markdown",
   "metadata": {
    "user_expressions": []
   },
   "source": [
    "<font size = \"3\">** It is __important to notice__ that if the operation is done between integers (except division), the result will be an integer, if the operation is done between floats the result will be a float, and if the operation is done between integers and floats the result will be a float number."
   ]
  },
  {
   "cell_type": "code",
   "execution_count": 25,
   "metadata": {
    "tags": []
   },
   "outputs": [
    {
     "name": "stdout",
     "output_type": "stream",
     "text": [
      "1.0\n",
      "1\n",
      "1.0\n",
      "16.0\n",
      "16\n",
      "16.0\n"
     ]
    }
   ],
   "source": [
    "# Multiplication, division and exponential \n",
    "\n",
    "a = my_num1/my_num2\n",
    "b = my_num1//my_num1 # in python3 // represents integer division (rounded down)\n",
    "c = my_num1/my_num1\n",
    "print (a)\n",
    "print (b)\n",
    "print (c)\n",
    "print (my_num1 * my_num2)\n",
    "print (my_num1**2) \n",
    "print (my_num2**2)"
   ]
  },
  {
   "cell_type": "markdown",
   "metadata": {
    "user_expressions": []
   },
   "source": [
    "<font size = \"3\"> We can perform certain __arithmetic__ operations (addition and multiplication) on __strings as well__ "
   ]
  },
  {
   "cell_type": "code",
   "execution_count": 26,
   "metadata": {
    "tags": []
   },
   "outputs": [
    {
     "name": "stdout",
     "output_type": "stream",
     "text": [
      "What if: I add a string to a string? \n",
      "What if: What if: \n"
     ]
    }
   ],
   "source": [
    "name12 = name1 + name2\n",
    "\n",
    "name11 = name1*2\n",
    "\n",
    "print (name12)\n",
    "print (name11)       "
   ]
  },
  {
   "cell_type": "markdown",
   "metadata": {
    "user_expressions": []
   },
   "source": [
    "<font size = \"3\">It is possible to do other sorts of operations with strings in python"
   ]
  },
  {
   "cell_type": "code",
   "execution_count": 27,
   "metadata": {
    "scrolled": true,
    "tags": []
   },
   "outputs": [
    {
     "name": "stdout",
     "output_type": "stream",
     "text": [
      "['__add__', '__class__', '__contains__', '__delattr__', '__dir__', '__doc__', '__eq__', '__format__', '__ge__', '__getattribute__', '__getitem__', '__getnewargs__', '__gt__', '__hash__', '__init__', '__init_subclass__', '__iter__', '__le__', '__len__', '__lt__', '__mod__', '__mul__', '__ne__', '__new__', '__reduce__', '__reduce_ex__', '__repr__', '__rmod__', '__rmul__', '__setattr__', '__sizeof__', '__str__', '__subclasshook__', 'capitalize', 'casefold', 'center', 'count', 'encode', 'endswith', 'expandtabs', 'find', 'format', 'format_map', 'index', 'isalnum', 'isalpha', 'isascii', 'isdecimal', 'isdigit', 'isidentifier', 'islower', 'isnumeric', 'isprintable', 'isspace', 'istitle', 'isupper', 'join', 'ljust', 'lower', 'lstrip', 'maketrans', 'partition', 'removeprefix', 'removesuffix', 'replace', 'rfind', 'rindex', 'rjust', 'rpartition', 'rsplit', 'rstrip', 'split', 'splitlines', 'startswith', 'strip', 'swapcase', 'title', 'translate', 'upper', 'zfill']\n"
     ]
    }
   ],
   "source": [
    "# We can use dir() to list all methods of a variable,\n",
    "# that is, operations that we can do with that variable\n",
    "\n",
    "print (dir(name2))               "
   ]
  },
  {
   "cell_type": "code",
   "execution_count": 28,
   "metadata": {
    "tags": []
   },
   "outputs": [
    {
     "name": "stdout",
     "output_type": "stream",
     "text": [
      "I ADD A STRING TO A STRING? \n",
      "28\n",
      "I Xdd X string to X string? \n"
     ]
    }
   ],
   "source": [
    "# Let's try some\n",
    "\n",
    "print (name2.upper()) # capital leters\n",
    "print (len(name2))    # string size\n",
    "print (name2.replace('a','X'))"
   ]
  },
  {
   "cell_type": "markdown",
   "metadata": {
    "user_expressions": []
   },
   "source": [
    "<font size = \"3\"> __Ex.1: What does the \"split\" method do? Google it and try it.__"
   ]
  },
  {
   "cell_type": "code",
   "execution_count": 29,
   "metadata": {
    "tags": []
   },
   "outputs": [],
   "source": [
    "# your code here"
   ]
  },
  {
   "cell_type": "markdown",
   "metadata": {
    "user_expressions": []
   },
   "source": [
    "<font size = \"3\">What about the __BOOLEANS__?\n",
    "\n",
    "<font size = \"3\">Boolean expressions (or logical expressions) evaluate to one of two states: true or false. Python provides the boolean type that can have as value either False or True. Many functions and operations return boolean objects.\n",
    "\n",
    "<font size = \"3\">Every object has a boolean value. For instance, the following elements are False:\n",
    "\n",
    "<font size = \"3\">- None\n",
    "    \n",
    "<font size = \"3\">- False\n",
    "    \n",
    "<font size = \"3\">- 0 (whatever type from integer, float to complex)\n",
    "    \n",
    "<font size = \"3\">- Empty collections: “”, (), [], {}\n",
    "    \n",
    "<font size = \"3\">- Objects from classes that have the special method `__nonzero__`\n",
    "    \n",
    "<font size = \"3\">- Objects from classes that implements `__len__` to return False or zero\n",
    "\n",
    "<font size = \"3\">The rest of objects are True.\n",
    "\n",
    "<font size = \"3\">With booleans we can operate __comparisons__ by using the following operators: ==, <, >, =<, =>, !=.\n",
    "<font size = \"3\">Let's see some examples:"
   ]
  },
  {
   "cell_type": "code",
   "execution_count": 30,
   "metadata": {
    "tags": []
   },
   "outputs": [
    {
     "name": "stdout",
     "output_type": "stream",
     "text": [
      "False\n",
      "True\n",
      "True\n",
      "False\n"
     ]
    }
   ],
   "source": [
    "x = 2\n",
    "y = -5\n",
    "\n",
    "print (3 < x < 1)\n",
    "print (-2 > y < -1)\n",
    "print (y == -5)\n",
    "print (x != 2)"
   ]
  },
  {
   "cell_type": "markdown",
   "metadata": {
    "user_expressions": []
   },
   "source": [
    "<font size = \"3\">With booleans we can also make: \n",
    "\n",
    "<font size = \"3\">- logical operations using __AND__ and __OR__  \n",
    "    \n",
    "<font size = \"3\">- membership operations using __IN__ \n",
    "    \n",
    "<font size = \"3\">- identity operations using __IS__"
   ]
  },
  {
   "cell_type": "code",
   "execution_count": 31,
   "metadata": {
    "tags": []
   },
   "outputs": [
    {
     "name": "stdout",
     "output_type": "stream",
     "text": [
      "Example of logic operations \n",
      "True\n",
      "False\n",
      "False\n",
      "False\n",
      "False\n",
      "Example operations of membership\n",
      "True\n",
      "False\n",
      "Example operations of identity\n",
      "False\n",
      "True\n",
      "False\n"
     ]
    }
   ],
   "source": [
    "a = 50\n",
    "b = 25\n",
    "\n",
    "x = [1,2,3,4,5,6,7,8,9,10]\n",
    "y = [2,4,6,8,10,12,14,16,18,20]\n",
    "\n",
    "print ('Example of logic operations ')\n",
    "print (a>40 or b>40)                  # OR: if at least one of the conditions is True, it evaluates True\n",
    "print (a>100 and b<50)                # AND: both conditions have to be true to evaluate True\n",
    "print (a<0 and b<0)\n",
    "print (a==0 or b==0)\n",
    "print (a>0 and b<0)\n",
    "\n",
    "print ('Example operations of membership')\n",
    "print (6 in x)\n",
    "print (6 not in y)\n",
    "\n",
    "print ('Example operations of identity')\n",
    "print(x is y)\n",
    "print (y is y)\n",
    "print (x is not x)"
   ]
  },
  {
   "cell_type": "markdown",
   "metadata": {
    "user_expressions": []
   },
   "source": [
    "# Python data collections: Lists, Tuples and Dictionaries "
   ]
  },
  {
   "cell_type": "markdown",
   "metadata": {
    "user_expressions": []
   },
   "source": [
    "## Lists\n",
    "\n",
    "<font size = \"3\"> Python lists are similar to arrays or vectors in other programming languages. They are collections of data __ordered (support indexing) and changeable__, among others properties and allows duplicate members. In Python, lists are written with __square brackets__."
   ]
  },
  {
   "cell_type": "code",
   "execution_count": 32,
   "metadata": {
    "tags": []
   },
   "outputs": [
    {
     "name": "stdout",
     "output_type": "stream",
     "text": [
      "[[1, 2], 4, 'What if: ', 3]\n"
     ]
    }
   ],
   "source": [
    "couple = [1, 2]                        # This is a simple list with two integers\n",
    "items = [couple, my_num1, name1, 3]    # This is a list, it can contain any type of data, even other lists\n",
    "print (items)                   "
   ]
  },
  {
   "cell_type": "code",
   "execution_count": 33,
   "metadata": {
    "tags": []
   },
   "outputs": [
    {
     "name": "stdout",
     "output_type": "stream",
     "text": [
      "first element of the list =  [1, 2]\n",
      "elements 2 and 3 are  [4, 'What if: ']\n",
      "the last elements is =  3\n",
      "2\n",
      "at if:\n"
     ]
    }
   ],
   "source": [
    "# Let's see how to call a specific element from the list\n",
    "\n",
    "print ('first element of the list = ', items[0])  # Note that Python indices start count from 0!!!\n",
    "print ('elements 2 and 3 are ', items[1:3])       # a:b is a sequence of integers from a to b (non-inclusive)\n",
    "print ('the last elements is = ', items[-1])      # Negative indexing means beginning from the end, \n",
    "                                                  # -1 refers to the last item, -2 refers to the second last item etc.\n",
    "    \n",
    "print (items[0][1])    # As the first element is a list we can also ask for an element inside of it                \n",
    "print (items[2][2:8])  # Strings also support indexing                  \n",
    "                                      "
   ]
  },
  {
   "cell_type": "code",
   "execution_count": 34,
   "metadata": {
    "scrolled": true,
    "tags": []
   },
   "outputs": [
    {
     "name": "stdout",
     "output_type": "stream",
     "text": [
      "[2, 'abc', (3, 4, 5), 5, 2, 2]\n",
      "[0, 1, 2, 3, 4, 5, 6, 7, 8, 9]\n",
      "[2, 4, 6, 8, 10, 12, 14, 16, 18, 20, 22, 24, 26, 28, 30]\n"
     ]
    }
   ],
   "source": [
    "# Is also posible to define a list by using the list constructor (class)\n",
    "\n",
    "list1 = list((2,'abc', (3,4,5), 5, 2, 2))  # (3,4,5) is a tuple, not a list\n",
    "numbers1 = list(range(10))                 # range help us to create a list of consecutive numbers \n",
    "                                           # range(start, stop, step)\n",
    "numbers2 = list(range(2, 31, 2))\n",
    "\n",
    "print (list1)\n",
    "print (numbers1)\n",
    "print (numbers2)"
   ]
  },
  {
   "cell_type": "markdown",
   "metadata": {
    "user_expressions": []
   },
   "source": [
    "<font size = \"3\">Is also posible to make some operations with the lists such as: modifying the elements, removing elements, adding lists,... by using the methods defined for this class."
   ]
  },
  {
   "cell_type": "code",
   "execution_count": 35,
   "metadata": {
    "tags": []
   },
   "outputs": [
    {
     "name": "stdout",
     "output_type": "stream",
     "text": [
      "This is list1 before  [2, 'abc', (3, 4, 5), 5, 2, 2]\n",
      "This is list1 after  ['fgh', 'abc', (3, 4, 5), 5, 2, 2]\n"
     ]
    }
   ],
   "source": [
    "# Lists can be changed: renaming elements\n",
    "\n",
    "print ('This is list1 before ', list1)\n",
    "\n",
    "list1[0] = 'fgh'\n",
    "\n",
    "print ('This is list1 after ', list1)   # Be aware that list1 has been changed and won't be the same anymore"
   ]
  },
  {
   "cell_type": "code",
   "execution_count": 36,
   "metadata": {
    "tags": []
   },
   "outputs": [
    {
     "name": "stdout",
     "output_type": "stream",
     "text": [
      "[0, 1, 2, 3, 4, 5, 6, 7, 8, 9, 'fgh', 'abc', (3, 4, 5), 5, 2, 2, 2, 4, 6, 8, 10, 12, 14, 16, 18, 20, 22, 24, 26, 28, 30]\n",
      "['fgh', 'abc', (3, 4, 5), 5, 2, 2, 'fgh', 'abc', (3, 4, 5), 5, 2, 2, 'fgh', 'abc', (3, 4, 5), 5, 2, 2, 'fgh', 'abc', (3, 4, 5), 5, 2, 2, 'fgh', 'abc', (3, 4, 5), 5, 2, 2]\n"
     ]
    }
   ],
   "source": [
    "# operations:\n",
    "list2 = numbers1 + list1 + numbers2   # concatenate lists\n",
    "list3 = list1*5                       # repeat list\n",
    "\n",
    "print (list2)\n",
    "print (list3)"
   ]
  },
  {
   "cell_type": "code",
   "execution_count": 37,
   "metadata": {
    "tags": []
   },
   "outputs": [
    {
     "name": "stdout",
     "output_type": "stream",
     "text": [
      "Help on class list in module builtins:\n",
      "\n",
      "class list(object)\n",
      " |  list(iterable=(), /)\n",
      " |  \n",
      " |  Built-in mutable sequence.\n",
      " |  \n",
      " |  If no argument is given, the constructor creates a new empty list.\n",
      " |  The argument must be an iterable if specified.\n",
      " |  \n",
      " |  Methods defined here:\n",
      " |  \n",
      " |  __add__(self, value, /)\n",
      " |      Return self+value.\n",
      " |  \n",
      " |  __contains__(self, key, /)\n",
      " |      Return key in self.\n",
      " |  \n",
      " |  __delitem__(self, key, /)\n",
      " |      Delete self[key].\n",
      " |  \n",
      " |  __eq__(self, value, /)\n",
      " |      Return self==value.\n",
      " |  \n",
      " |  __ge__(self, value, /)\n",
      " |      Return self>=value.\n",
      " |  \n",
      " |  __getattribute__(self, name, /)\n",
      " |      Return getattr(self, name).\n",
      " |  \n",
      " |  __getitem__(...)\n",
      " |      x.__getitem__(y) <==> x[y]\n",
      " |  \n",
      " |  __gt__(self, value, /)\n",
      " |      Return self>value.\n",
      " |  \n",
      " |  __iadd__(self, value, /)\n",
      " |      Implement self+=value.\n",
      " |  \n",
      " |  __imul__(self, value, /)\n",
      " |      Implement self*=value.\n",
      " |  \n",
      " |  __init__(self, /, *args, **kwargs)\n",
      " |      Initialize self.  See help(type(self)) for accurate signature.\n",
      " |  \n",
      " |  __iter__(self, /)\n",
      " |      Implement iter(self).\n",
      " |  \n",
      " |  __le__(self, value, /)\n",
      " |      Return self<=value.\n",
      " |  \n",
      " |  __len__(self, /)\n",
      " |      Return len(self).\n",
      " |  \n",
      " |  __lt__(self, value, /)\n",
      " |      Return self<value.\n",
      " |  \n",
      " |  __mul__(self, value, /)\n",
      " |      Return self*value.\n",
      " |  \n",
      " |  __ne__(self, value, /)\n",
      " |      Return self!=value.\n",
      " |  \n",
      " |  __repr__(self, /)\n",
      " |      Return repr(self).\n",
      " |  \n",
      " |  __reversed__(self, /)\n",
      " |      Return a reverse iterator over the list.\n",
      " |  \n",
      " |  __rmul__(self, value, /)\n",
      " |      Return value*self.\n",
      " |  \n",
      " |  __setitem__(self, key, value, /)\n",
      " |      Set self[key] to value.\n",
      " |  \n",
      " |  __sizeof__(self, /)\n",
      " |      Return the size of the list in memory, in bytes.\n",
      " |  \n",
      " |  append(self, object, /)\n",
      " |      Append object to the end of the list.\n",
      " |  \n",
      " |  clear(self, /)\n",
      " |      Remove all items from list.\n",
      " |  \n",
      " |  copy(self, /)\n",
      " |      Return a shallow copy of the list.\n",
      " |  \n",
      " |  count(self, value, /)\n",
      " |      Return number of occurrences of value.\n",
      " |  \n",
      " |  extend(self, iterable, /)\n",
      " |      Extend list by appending elements from the iterable.\n",
      " |  \n",
      " |  index(self, value, start=0, stop=9223372036854775807, /)\n",
      " |      Return first index of value.\n",
      " |      \n",
      " |      Raises ValueError if the value is not present.\n",
      " |  \n",
      " |  insert(self, index, object, /)\n",
      " |      Insert object before index.\n",
      " |  \n",
      " |  pop(self, index=-1, /)\n",
      " |      Remove and return item at index (default last).\n",
      " |      \n",
      " |      Raises IndexError if list is empty or index is out of range.\n",
      " |  \n",
      " |  remove(self, value, /)\n",
      " |      Remove first occurrence of value.\n",
      " |      \n",
      " |      Raises ValueError if the value is not present.\n",
      " |  \n",
      " |  reverse(self, /)\n",
      " |      Reverse *IN PLACE*.\n",
      " |  \n",
      " |  sort(self, /, *, key=None, reverse=False)\n",
      " |      Sort the list in ascending order and return None.\n",
      " |      \n",
      " |      The sort is in-place (i.e. the list itself is modified) and stable (i.e. the\n",
      " |      order of two equal elements is maintained).\n",
      " |      \n",
      " |      If a key function is given, apply it once to each list item and sort them,\n",
      " |      ascending or descending, according to their function values.\n",
      " |      \n",
      " |      The reverse flag can be set to sort in descending order.\n",
      " |  \n",
      " |  ----------------------------------------------------------------------\n",
      " |  Class methods defined here:\n",
      " |  \n",
      " |  __class_getitem__(...) from builtins.type\n",
      " |      See PEP 585\n",
      " |  \n",
      " |  ----------------------------------------------------------------------\n",
      " |  Static methods defined here:\n",
      " |  \n",
      " |  __new__(*args, **kwargs) from builtins.type\n",
      " |      Create and return a new object.  See help(type) for accurate signature.\n",
      " |  \n",
      " |  ----------------------------------------------------------------------\n",
      " |  Data and other attributes defined here:\n",
      " |  \n",
      " |  __hash__ = None\n",
      "\n",
      "None\n"
     ]
    }
   ],
   "source": [
    "# Let's check what methods the class list has\n",
    "\n",
    "print (help(list))"
   ]
  },
  {
   "cell_type": "code",
   "execution_count": 38,
   "metadata": {
    "tags": []
   },
   "outputs": [
    {
     "name": "stdout",
     "output_type": "stream",
     "text": [
      "6\n",
      "2\n",
      "None\n",
      "[]\n"
     ]
    }
   ],
   "source": [
    "# Let's check a few of them:\n",
    "\n",
    "list_size = len(list1)   # how many elements are in the list\n",
    "count = list1.count(2)   # count items\n",
    "list4 = list1.clear()    # remove all items from list\n",
    "\n",
    "print (list_size)\n",
    "print(count)\n",
    "print(list4)\n",
    "print(list1)             # Careful!! Now list1 is an empty list!!\n",
    "\n"
   ]
  },
  {
   "cell_type": "markdown",
   "metadata": {
    "user_expressions": []
   },
   "source": [
    "<font size = \"3\">__Ex. 2: How can we add an element to the end of a list? And in other position?__ \n",
    "\n",
    "<font size = \"3\">You can google it or check the methods on 'help(list)'\n",
    " "
   ]
  },
  {
   "cell_type": "code",
   "execution_count": 39,
   "metadata": {
    "tags": []
   },
   "outputs": [],
   "source": [
    "# Add an elemend to end of the list \"items\"\n",
    "\n",
    "# Add an element after the first element of the list\n"
   ]
  },
  {
   "cell_type": "markdown",
   "metadata": {
    "user_expressions": []
   },
   "source": [
    "## Tuples\n",
    "<font size =\"3\">A tuple is an __immutable and ordered__ collection of data. Tuples are sequences, just like lists. The differences between tuples and lists are: the tuples cannot be changed unlike lists and tuples use __parentheses ( )__, whereas lists use square brackets [ ]."
   ]
  },
  {
   "cell_type": "code",
   "execution_count": 40,
   "metadata": {
    "tags": []
   },
   "outputs": [
    {
     "name": "stdout",
     "output_type": "stream",
     "text": [
      "[10, 12, 14, 16, 18, 20, 22, 24, 26, 28]\n",
      "(10, 12, 14, 16, 18, 20, 22, 24, 26, 28)\n"
     ]
    }
   ],
   "source": [
    "# Lists and tuples are very similar...\n",
    "\n",
    "numbers_mut = list(range(10,30,2))\n",
    "numbers_immut = tuple(range(10,30,2))  # tuples can be defined using the tuple constructor\n",
    "\n",
    "print (numbers_mut)\n",
    "print (numbers_immut)"
   ]
  },
  {
   "cell_type": "code",
   "execution_count": 41,
   "metadata": {
    "tags": []
   },
   "outputs": [
    {
     "name": "stdout",
     "output_type": "stream",
     "text": [
      "['changed', 12, 14, 16, 18, 20, 22, 24, 26, 28]\n"
     ]
    },
    {
     "ename": "TypeError",
     "evalue": "'tuple' object does not support item assignment",
     "output_type": "error",
     "traceback": [
      "\u001b[1;31m---------------------------------------------------------------------------\u001b[0m",
      "\u001b[1;31mTypeError\u001b[0m                                 Traceback (most recent call last)",
      "\u001b[1;32m~\\AppData\\Local\\Temp/ipykernel_19448/745939828.py\u001b[0m in \u001b[0;36m<module>\u001b[1;34m\u001b[0m\n\u001b[0;32m      5\u001b[0m \u001b[0mprint\u001b[0m\u001b[1;33m(\u001b[0m\u001b[0mnumbers_mut\u001b[0m\u001b[1;33m)\u001b[0m\u001b[1;33m\u001b[0m\u001b[1;33m\u001b[0m\u001b[0m\n\u001b[0;32m      6\u001b[0m \u001b[1;33m\u001b[0m\u001b[0m\n\u001b[1;32m----> 7\u001b[1;33m \u001b[0mnumbers_immut\u001b[0m\u001b[1;33m[\u001b[0m\u001b[1;36m0\u001b[0m\u001b[1;33m]\u001b[0m \u001b[1;33m=\u001b[0m \u001b[1;36m1\u001b[0m          \u001b[1;31m# traying to change an element in the tuple... will provoke an error\u001b[0m\u001b[1;33m\u001b[0m\u001b[1;33m\u001b[0m\u001b[0m\n\u001b[0m\u001b[0;32m      8\u001b[0m \u001b[1;33m\u001b[0m\u001b[0m\n\u001b[0;32m      9\u001b[0m \u001b[0mprint\u001b[0m\u001b[1;33m(\u001b[0m\u001b[0mnumbers_immut\u001b[0m\u001b[1;33m)\u001b[0m\u001b[1;33m\u001b[0m\u001b[1;33m\u001b[0m\u001b[0m\n",
      "\u001b[1;31mTypeError\u001b[0m: 'tuple' object does not support item assignment"
     ]
    }
   ],
   "source": [
    "# ...but not exactly the same\n",
    "\n",
    "numbers_mut[0] = 'changed'    # changing an element in the list\n",
    "\n",
    "print(numbers_mut)\n",
    "\n",
    "numbers_immut[0] = 1          # traying to change an element in the tuple... will provoke an error\n",
    "\n",
    "print(numbers_immut)"
   ]
  },
  {
   "cell_type": "markdown",
   "metadata": {},
   "source": [
    "## Dictionaries\n",
    "\n",
    "<font size =\"3\">A dictionary is a collection which is unordered, changeable and indexed. In Python, dictionaries are written with curly brackets { }, and they are composed of keys and values.\n",
    "    \n",
    "<font size =\"3\">Keys and values can be of any type and not only strings, as in language dictionaries."
   ]
  },
  {
   "cell_type": "code",
   "execution_count": 42,
   "metadata": {
    "tags": []
   },
   "outputs": [
    {
     "name": "stdout",
     "output_type": "stream",
     "text": [
      "[True, 140.0, 'Km/h']\n",
      "('Ana', 15)\n",
      "A\n",
      "140.0\n"
     ]
    }
   ],
   "source": [
    "# Let's create a simple dictionary\n",
    "\n",
    "random = {'neurons': ['pyramidal', 'GABA'], 'velocity': [True, 140.0, 'Km/h'], 'names and ages': [('Ana', 15), ('John', 34)]}\n",
    "\n",
    "# Search for elements\n",
    "\n",
    "print (random['velocity'])            # we first find an element,\n",
    "print (random['names and ages'][0])   # then index it.\n",
    "print (random['neurons'][1][3])       # We can index as many times as the values support it\n",
    "print (random['velocity'][1])"
   ]
  },
  {
   "cell_type": "code",
   "execution_count": 43,
   "metadata": {
    "tags": []
   },
   "outputs": [
    {
     "name": "stdout",
     "output_type": "stream",
     "text": [
      "Help on class dict in module builtins:\n",
      "\n",
      "class dict(object)\n",
      " |  dict() -> new empty dictionary\n",
      " |  dict(mapping) -> new dictionary initialized from a mapping object's\n",
      " |      (key, value) pairs\n",
      " |  dict(iterable) -> new dictionary initialized as if via:\n",
      " |      d = {}\n",
      " |      for k, v in iterable:\n",
      " |          d[k] = v\n",
      " |  dict(**kwargs) -> new dictionary initialized with the name=value pairs\n",
      " |      in the keyword argument list.  For example:  dict(one=1, two=2)\n",
      " |  \n",
      " |  Built-in subclasses:\n",
      " |      StgDict\n",
      " |  \n",
      " |  Methods defined here:\n",
      " |  \n",
      " |  __contains__(self, key, /)\n",
      " |      True if the dictionary has the specified key, else False.\n",
      " |  \n",
      " |  __delitem__(self, key, /)\n",
      " |      Delete self[key].\n",
      " |  \n",
      " |  __eq__(self, value, /)\n",
      " |      Return self==value.\n",
      " |  \n",
      " |  __ge__(self, value, /)\n",
      " |      Return self>=value.\n",
      " |  \n",
      " |  __getattribute__(self, name, /)\n",
      " |      Return getattr(self, name).\n",
      " |  \n",
      " |  __getitem__(...)\n",
      " |      x.__getitem__(y) <==> x[y]\n",
      " |  \n",
      " |  __gt__(self, value, /)\n",
      " |      Return self>value.\n",
      " |  \n",
      " |  __init__(self, /, *args, **kwargs)\n",
      " |      Initialize self.  See help(type(self)) for accurate signature.\n",
      " |  \n",
      " |  __ior__(self, value, /)\n",
      " |      Return self|=value.\n",
      " |  \n",
      " |  __iter__(self, /)\n",
      " |      Implement iter(self).\n",
      " |  \n",
      " |  __le__(self, value, /)\n",
      " |      Return self<=value.\n",
      " |  \n",
      " |  __len__(self, /)\n",
      " |      Return len(self).\n",
      " |  \n",
      " |  __lt__(self, value, /)\n",
      " |      Return self<value.\n",
      " |  \n",
      " |  __ne__(self, value, /)\n",
      " |      Return self!=value.\n",
      " |  \n",
      " |  __or__(self, value, /)\n",
      " |      Return self|value.\n",
      " |  \n",
      " |  __repr__(self, /)\n",
      " |      Return repr(self).\n",
      " |  \n",
      " |  __reversed__(self, /)\n",
      " |      Return a reverse iterator over the dict keys.\n",
      " |  \n",
      " |  __ror__(self, value, /)\n",
      " |      Return value|self.\n",
      " |  \n",
      " |  __setitem__(self, key, value, /)\n",
      " |      Set self[key] to value.\n",
      " |  \n",
      " |  __sizeof__(...)\n",
      " |      D.__sizeof__() -> size of D in memory, in bytes\n",
      " |  \n",
      " |  clear(...)\n",
      " |      D.clear() -> None.  Remove all items from D.\n",
      " |  \n",
      " |  copy(...)\n",
      " |      D.copy() -> a shallow copy of D\n",
      " |  \n",
      " |  get(self, key, default=None, /)\n",
      " |      Return the value for key if key is in the dictionary, else default.\n",
      " |  \n",
      " |  items(...)\n",
      " |      D.items() -> a set-like object providing a view on D's items\n",
      " |  \n",
      " |  keys(...)\n",
      " |      D.keys() -> a set-like object providing a view on D's keys\n",
      " |  \n",
      " |  pop(...)\n",
      " |      D.pop(k[,d]) -> v, remove specified key and return the corresponding value.\n",
      " |      \n",
      " |      If key is not found, default is returned if given, otherwise KeyError is raised\n",
      " |  \n",
      " |  popitem(self, /)\n",
      " |      Remove and return a (key, value) pair as a 2-tuple.\n",
      " |      \n",
      " |      Pairs are returned in LIFO (last-in, first-out) order.\n",
      " |      Raises KeyError if the dict is empty.\n",
      " |  \n",
      " |  setdefault(self, key, default=None, /)\n",
      " |      Insert key with a value of default if key is not in the dictionary.\n",
      " |      \n",
      " |      Return the value for key if key is in the dictionary, else default.\n",
      " |  \n",
      " |  update(...)\n",
      " |      D.update([E, ]**F) -> None.  Update D from dict/iterable E and F.\n",
      " |      If E is present and has a .keys() method, then does:  for k in E: D[k] = E[k]\n",
      " |      If E is present and lacks a .keys() method, then does:  for k, v in E: D[k] = v\n",
      " |      In either case, this is followed by: for k in F:  D[k] = F[k]\n",
      " |  \n",
      " |  values(...)\n",
      " |      D.values() -> an object providing a view on D's values\n",
      " |  \n",
      " |  ----------------------------------------------------------------------\n",
      " |  Class methods defined here:\n",
      " |  \n",
      " |  __class_getitem__(...) from builtins.type\n",
      " |      See PEP 585\n",
      " |  \n",
      " |  fromkeys(iterable, value=None, /) from builtins.type\n",
      " |      Create a new dictionary with keys from iterable and values set to value.\n",
      " |  \n",
      " |  ----------------------------------------------------------------------\n",
      " |  Static methods defined here:\n",
      " |  \n",
      " |  __new__(*args, **kwargs) from builtins.type\n",
      " |      Create and return a new object.  See help(type) for accurate signature.\n",
      " |  \n",
      " |  ----------------------------------------------------------------------\n",
      " |  Data and other attributes defined here:\n",
      " |  \n",
      " |  __hash__ = None\n",
      "\n",
      "None\n"
     ]
    }
   ],
   "source": [
    "# Let's check what methods the class dict has\n",
    "\n",
    "print (help(dict))"
   ]
  },
  {
   "cell_type": "code",
   "execution_count": 44,
   "metadata": {
    "tags": []
   },
   "outputs": [
    {
     "name": "stdout",
     "output_type": "stream",
     "text": [
      "dict_keys(['neurons', 'velocity', 'names and ages'])\n",
      "velocity\n",
      "3\n",
      "9\n"
     ]
    }
   ],
   "source": [
    "# Let's check a few of them\n",
    "\n",
    "keys = random.keys()\n",
    "\n",
    "print (keys)                      # object with all the keys\n",
    "print (list(keys)[1])             # we can redifine the object with the list constructor\n",
    "print (len(random))               # length of the dictionary\n",
    "print (len(random['neurons'][0])) # length of a specific element in the dictionary "
   ]
  },
  {
   "cell_type": "markdown",
   "metadata": {
    "user_expressions": []
   },
   "source": [
    "<font size = \"3\">__Ex. 3: How can we add a new key with some invented values?__"
   ]
  },
  {
   "cell_type": "code",
   "execution_count": 45,
   "metadata": {
    "tags": []
   },
   "outputs": [],
   "source": [
    "# Add a new key and new values to the dictionary"
   ]
  },
  {
   "cell_type": "markdown",
   "metadata": {
    "user_expressions": []
   },
   "source": [
    "# Iterations and conditions\n",
    "\n",
    "<font size =\"3\"> Strings, lists, tuples and dictionaries are examples of iterable python objects. This means that we can perform a repeated operation on each of their elements. "
   ]
  },
  {
   "cell_type": "markdown",
   "metadata": {
    "user_expressions": []
   },
   "source": [
    "## Python for loops\n",
    "\n",
    "<font size =\"3\">Definite iteration loops are frequently referred to as \"for-loops\", because \"for\" is the keyword that is used to introduce them in nearly all programming languages, including Python.\n",
    "    \n",
    "<font size =\"3\">A very simple example could be the next one:"
   ]
  },
  {
   "cell_type": "code",
   "execution_count": 46,
   "metadata": {
    "tags": []
   },
   "outputs": [
    {
     "name": "stdout",
     "output_type": "stream",
     "text": [
      "0\n",
      "1\n",
      "2\n",
      "3\n",
      "4\n",
      "5\n",
      "6\n",
      "7\n",
      "8\n",
      "9\n"
     ]
    }
   ],
   "source": [
    "num_list1 = list(range(10))\n",
    "\n",
    "for n in num_list1: \n",
    "    print(n)"
   ]
  },
  {
   "cell_type": "markdown",
   "metadata": {
    "user_expressions": []
   },
   "source": [
    "<font size =\"3\">To write a \"for-loop\" the first line starts with \"for\" and must end with \":\". The following lines inside the loop must be indented (increase space on the left margin). A condition statement (if, while, ...) follows the same syntactic rules (point 3.2)."
   ]
  },
  {
   "cell_type": "code",
   "execution_count": 47,
   "metadata": {
    "collapsed": true,
    "jupyter": {
     "outputs_hidden": true
    },
    "tags": []
   },
   "outputs": [
    {
     "name": "stdout",
     "output_type": "stream",
     "text": [
      "list1 number  0\n",
      "list2 number  10\n",
      "list2 number  11\n",
      "list2 number  12\n",
      "list2 number  13\n",
      "list2 number  14\n",
      "list2 number  15\n",
      "list2 number  16\n",
      "list2 number  17\n",
      "list2 number  18\n",
      "list2 number  19\n",
      "list1 number  1\n",
      "list2 number  10\n",
      "list2 number  11\n",
      "list2 number  12\n",
      "list2 number  13\n",
      "list2 number  14\n",
      "list2 number  15\n",
      "list2 number  16\n",
      "list2 number  17\n",
      "list2 number  18\n",
      "list2 number  19\n",
      "list1 number  2\n",
      "list2 number  10\n",
      "list2 number  11\n",
      "list2 number  12\n",
      "list2 number  13\n",
      "list2 number  14\n",
      "list2 number  15\n",
      "list2 number  16\n",
      "list2 number  17\n",
      "list2 number  18\n",
      "list2 number  19\n",
      "list1 number  3\n",
      "list2 number  10\n",
      "list2 number  11\n",
      "list2 number  12\n",
      "list2 number  13\n",
      "list2 number  14\n",
      "list2 number  15\n",
      "list2 number  16\n",
      "list2 number  17\n",
      "list2 number  18\n",
      "list2 number  19\n",
      "list1 number  4\n",
      "list2 number  10\n",
      "list2 number  11\n",
      "list2 number  12\n",
      "list2 number  13\n",
      "list2 number  14\n",
      "list2 number  15\n",
      "list2 number  16\n",
      "list2 number  17\n",
      "list2 number  18\n",
      "list2 number  19\n",
      "list1 number  5\n",
      "list2 number  10\n",
      "list2 number  11\n",
      "list2 number  12\n",
      "list2 number  13\n",
      "list2 number  14\n",
      "list2 number  15\n",
      "list2 number  16\n",
      "list2 number  17\n",
      "list2 number  18\n",
      "list2 number  19\n",
      "list1 number  6\n",
      "list2 number  10\n",
      "list2 number  11\n",
      "list2 number  12\n",
      "list2 number  13\n",
      "list2 number  14\n",
      "list2 number  15\n",
      "list2 number  16\n",
      "list2 number  17\n",
      "list2 number  18\n",
      "list2 number  19\n",
      "list1 number  7\n",
      "list2 number  10\n",
      "list2 number  11\n",
      "list2 number  12\n",
      "list2 number  13\n",
      "list2 number  14\n",
      "list2 number  15\n",
      "list2 number  16\n",
      "list2 number  17\n",
      "list2 number  18\n",
      "list2 number  19\n",
      "list1 number  8\n",
      "list2 number  10\n",
      "list2 number  11\n",
      "list2 number  12\n",
      "list2 number  13\n",
      "list2 number  14\n",
      "list2 number  15\n",
      "list2 number  16\n",
      "list2 number  17\n",
      "list2 number  18\n",
      "list2 number  19\n",
      "list1 number  9\n",
      "list2 number  10\n",
      "list2 number  11\n",
      "list2 number  12\n",
      "list2 number  13\n",
      "list2 number  14\n",
      "list2 number  15\n",
      "list2 number  16\n",
      "list2 number  17\n",
      "list2 number  18\n",
      "list2 number  19\n"
     ]
    }
   ],
   "source": [
    "# a more complex for loop\n",
    "\n",
    "num_list2 = list(range(10, 20))\n",
    "\n",
    "for n1 in num_list1:\n",
    "    print ('list1 number ', n1)\n",
    "    for n2 in num_list2:\n",
    "        print ('list2 number ', n2)\n",
    "        "
   ]
  },
  {
   "cell_type": "code",
   "execution_count": 48,
   "metadata": {
    "tags": []
   },
   "outputs": [
    {
     "name": "stdout",
     "output_type": "stream",
     "text": [
      "0 10\n",
      "1 11\n",
      "2 12\n",
      "3 13\n",
      "4 14\n",
      "5 15\n",
      "6 16\n",
      "7 17\n",
      "8 18\n",
      "9 19\n"
     ]
    }
   ],
   "source": [
    "# If we want to go through both lists at the same time...\n",
    "\n",
    "for n1, n2 in zip(num_list1, num_list2):\n",
    "    print (n1, n2)"
   ]
  },
  {
   "cell_type": "markdown",
   "metadata": {
    "user_expressions": []
   },
   "source": [
    "## Python conditions: if, elif, else and while\n",
    "\n",
    "<font size =\"3\">The best way of understanding this commands is by going thourgh some examples"
   ]
  },
  {
   "cell_type": "markdown",
   "metadata": {
    "user_expressions": []
   },
   "source": [
    "### IF and ELIF"
   ]
  },
  {
   "cell_type": "code",
   "execution_count": 49,
   "metadata": {
    "tags": []
   },
   "outputs": [
    {
     "name": "stdout",
     "output_type": "stream",
     "text": [
      "['0 is even', '1 is odd', '2 is even', '3 is odd', '4 is even', '5 is odd', '6 is even', '7 is odd', '8 is even', '9 is odd', '10 is even']\n"
     ]
    }
   ],
   "source": [
    "# For-loop that checks the parity of a list of integers through a couple of conditions\n",
    "\n",
    "numbers = [0,1,2,3,4,5,6,7,8,9,10]\n",
    "\n",
    "result = []                              # create an empty list in which the results will be saved\n",
    "for num in numbers:                      # iterate each element in \"numbers list\"\n",
    "    if num % 2 == 0:                     # condition for even numbers; Note the difference betweeen \"=\" and \"==\"\n",
    "        result.append(\"%d is even\" %num) # What is the \"%\" simbol on the string? Google it! \n",
    "    elif num % 2 == 1:                   # condition for odd numbers\n",
    "        result.append(\"%d is odd\" %num)  \n",
    "                                         \n",
    "print (result)        "
   ]
  },
  {
   "cell_type": "code",
   "execution_count": 50,
   "metadata": {
    "tags": []
   },
   "outputs": [
    {
     "name": "stdout",
     "output_type": "stream",
     "text": [
      "['0 is even', '1 is odd', '2 is even', '3 is odd', '4 is even', '5 is odd', '6 is even', '7 is odd', '8 is even', '9 is odd', '10 is even']\n"
     ]
    }
   ],
   "source": [
    "# We can achieve the same effect as above using a one line \"list comprehension\" (google it!)\n",
    "\n",
    "print ([\"%d is even\" %num if num % 2 == 0 else \"%d is odd\" %num for num in numbers]) "
   ]
  },
  {
   "cell_type": "markdown",
   "metadata": {
    "user_expressions": []
   },
   "source": [
    "<font size =\"3\">__Ex4: Create a dictionary in which the grades of 4 subjects \n",
    "(Maths, Physics, Literature and Phylosophy) are stored for 3 students (Peter, Ana and Lisa)__\n",
    "    \n",
    "<font size =\"3\">_Hint: define first the lists to iterate through_"
   ]
  },
  {
   "cell_type": "markdown",
   "metadata": {
    "user_expressions": []
   },
   "source": [
    "### ELSE"
   ]
  },
  {
   "cell_type": "code",
   "execution_count": 51,
   "metadata": {
    "tags": []
   },
   "outputs": [
    {
     "name": "stdout",
     "output_type": "stream",
     "text": [
      "['0 is less than 5', '1 is less than 5', '2 is less than 5', '3 is less than 5', '4 is less than 5', '5 is greater or equal than 5', '6 is greater or equal than 5', '7 is greater or equal than 5', '8 is greater or equal than 5', '9 is greater or equal than 5', '10 is greater or equal than 5']\n"
     ]
    }
   ],
   "source": [
    "# For loop that checks if numbers on a list are less than 5 or not\n",
    "\n",
    "result = []                              # create an empty list in which the results will be saved\n",
    "for num in numbers:                      # iterate each element in \"numbers\" list\n",
    "    if num < 5:                          # condition\n",
    "        result.append(\"%d is less than 5\" %num) \n",
    "    else:                                # rest of the elements that don't follow the previous condition...\n",
    "        result.append(\"%d is greater or equal than 5\" %num)\n",
    "                                         \n",
    "print(result)   "
   ]
  },
  {
   "cell_type": "markdown",
   "metadata": {
    "user_expressions": []
   },
   "source": [
    "### WHILE"
   ]
  },
  {
   "cell_type": "code",
   "execution_count": 52,
   "metadata": {
    "tags": []
   },
   "outputs": [
    {
     "name": "stdout",
     "output_type": "stream",
     "text": [
      "x is 11 smaller than 21\n",
      "x is 10 smaller than 21\n",
      "x is 9 smaller than 21\n",
      "x is 8 smaller than 21\n",
      "x is 7 smaller than 21\n",
      "x is 6 smaller than 21\n",
      "x is 5 smaller than 21\n",
      "x is 4 smaller than 21\n",
      "x is 3 smaller than 21\n",
      "x is 2 smaller than 21\n",
      "x is 1 smaller than 21\n",
      "x = 21\n"
     ]
    }
   ],
   "source": [
    "x = 10\n",
    "while x < 21:                                # this loop will continue until the condition evaluates to False\n",
    "    print('x is %d smaller than 21' %(21-x)) # you can also compute the replacement value\n",
    "    x = x + 1                                # you can also write it like this: x += 1\n",
    "else:\n",
    "    print ('x = 21')\n",
    "    "
   ]
  },
  {
   "cell_type": "markdown",
   "metadata": {
    "user_expressions": []
   },
   "source": [
    "# Functions \n",
    "\n",
    "<font size =\"3\">In programming, a function is a block of code that, usually, takes an input and returns an output. \n",
    "    \n",
    "<font size =\"3\">In Python, the first line of a function is preceeded by __\"def\"__ and following lines are indented. The last line of a function defines the output variable(s), preceded by an optional __\"return\"__ statement."
   ]
  },
  {
   "cell_type": "code",
   "execution_count": 53,
   "metadata": {
    "tags": []
   },
   "outputs": [],
   "source": [
    "def add_to_even_num(numb_list, num_to_add):\n",
    "    \"\"\"\n",
    "    This is a docstring. Is the usual way of documenting what a function does and its inputs and outputs.\n",
    "    This function corrects voltage values in a dictionary of electrophysiological features.\n",
    "    :param num_list: list with numbers\n",
    "    :param num_to_add: number to add to the even numbers in num_list\n",
    "    :return new_list:\n",
    "    \"\"\"\n",
    "    new_list = []                            # defining empty list to safe new values\n",
    "    for n in numb_list:\n",
    "        if n % 2 == 0: \n",
    "            new_list.append(n + num_to_add)  # add new values into the empty list\n",
    "        elif n % 2 == 1:                   \n",
    "            pass                             # if this happens do NOTHING (skip iteration)  \n",
    "    \n",
    "    return(new_list)                         # return the new list as solution\n",
    "        "
   ]
  },
  {
   "cell_type": "code",
   "execution_count": 54,
   "metadata": {
    "tags": []
   },
   "outputs": [
    {
     "name": "stdout",
     "output_type": "stream",
     "text": [
      "[32.3, 52.3, 66.3, 112.3, 812.3, 46.3]\n"
     ]
    }
   ],
   "source": [
    "# Now we will call the fuction, but first we should define the value for the input parameters\n",
    "\n",
    "numb_list = [22, 23, 42, 56, 102, 451, 802, 36]\n",
    "num_to_add = 10.3\n",
    "\n",
    "new_list = add_to_even_num(numb_list, num_to_add)\n",
    "\n",
    "print (new_list)"
   ]
  },
  {
   "cell_type": "code",
   "execution_count": 55,
   "metadata": {
    "tags": []
   },
   "outputs": [],
   "source": [
    "# Finally, some neuroscientific toy example: \n",
    "# a dictionary of some electrophysiological properties (or features) of a neuron\n",
    "# that will be checked for correction by the next function \"correct_voltage\"\n",
    "\n",
    "efel_features = {'corrected': False,\n",
    "                 'spike_threshold': [-40, 'mV'], 'V_rest': [-65, 'mV'], \n",
    "                 'spike_frequency': [110, 'Hz'] , 'Time_to_first_spike': [70, 'ms']}\n",
    "\n",
    "\n",
    "def correct_voltage(features_dict, correction):\n",
    "    \n",
    "    \"\"\"\n",
    "    This function corrects voltage values in a dictionary of electrophysiological features.\n",
    "    :param features_dict: dictionary with electrical features\n",
    "    :param correction: number to add as a correction\n",
    "    :return new_dict: dictionary similar to features_dict but with the values corrected.\n",
    "    \"\"\"\n",
    "    \n",
    "    new_dict = features_dict.copy()        # Create the dictionary in which the corrected values will be saved.\n",
    "    \n",
    "    if new_dict['corrected'] == True:      # If the data are already corrected there is no need for correction\n",
    "        print('no need for correction')\n",
    "    else:                     \n",
    "        k_list = list(new_dict.keys())     # make a list with the keys of the dictionary\n",
    "        k_list.remove('corrected')         # remove the key that we don't need\n",
    "        for k in k_list:                   # iterate over the keys\n",
    "            if new_dict[k][1] == 'mV':     # apply correction over voltage data only\n",
    "                new_dict[k][0] += correction\n",
    "        new_dict['corrected'] = True       # change the dictionary info to corrected\n",
    "        \n",
    "    return new_dict  \n",
    "    "
   ]
  },
  {
   "cell_type": "code",
   "execution_count": 56,
   "metadata": {
    "tags": []
   },
   "outputs": [
    {
     "name": "stdout",
     "output_type": "stream",
     "text": [
      "{'corrected': True, 'spike_threshold': [-30, 'mV'], 'V_rest': [-55, 'mV'], 'spike_frequency': [110, 'Hz'], 'Time_to_first_spike': [70, 'ms']}\n"
     ]
    }
   ],
   "source": [
    "# The following line calls the function with the appropriate number and types of arguments (inputs) and prints\n",
    "# the output. Calling the function in a script is not sufficient to see its output.\n",
    "\n",
    "\n",
    "new_dict = correct_voltage(efel_features,10)\n",
    "\n",
    "print (new_dict) "
   ]
  },
  {
   "cell_type": "markdown",
   "metadata": {
    "user_expressions": []
   },
   "source": [
    "<font size=\"3\">__NOTE:__ If you run the above function multiple times, you'll notice that the values keep changing. To understand why, look up the documentation of the copy() method of a dictionary and search online for the difference between a shallow and a deep copy."
   ]
  },
  {
   "cell_type": "markdown",
   "metadata": {
    "user_expressions": []
   },
   "source": [
    "# Classes\n",
    "\n",
    "\n",
    "<font size =\"3\">Python is a language that implements __\"object-oriented\" programming__ (OOP). In OOP, importance is given to data rather than just writing instructions to complete a task. \n",
    "\n",
    "<font size =\"3\">An __object__ is a thing or idea that you want to model in your program. An object can be anything, e.g. employee, bank account, car, neuron, etc.\n",
    "\n",
    "<font size =\"3\">A __class__ is a blueprint for creating an object. A class defines the data (attributes) and behaviors (or methods) of the object.\n",
    "    \n",
    "<font size =\"3\">An __instance__ of a class is a particular realization of a class, that is, a particular object among those defined by the same class.\n",
    "\n",
    "<font size =\"3\">For example, if we're writing a class representing a car, we can define attributes of the car such as make, model, fuel type, # of passengers, etc. and behaviors like start, break, accelerate, etc. These attributes and methods are not specific to just one particular car, but define the general properties of a car that we're including in our model and that all objects of this class will have. When we create particular instances of this class, then we'll be able to assign particular values to the attributes for each particular car.\n",
    "\n",
    "<font size =\"3\">In this way, OOP allows us to bundle together data and functions (attributes and methods) relevant to the object we're modeling, and create many instances of it, all sharing the same design, but each having particular values.\n",
    "\n",
    "<font size =\"3\">_HINT: if you want to know more about OOP look for information in google, there is plenty of tutorials that could be useful for you._"
   ]
  },
  {
   "cell_type": "code",
   "execution_count": 57,
   "metadata": {
    "tags": []
   },
   "outputs": [],
   "source": [
    "# Let's build the class Neuron than will have as atributes its name \n",
    "# and as methods (behavior) the morphology and biophysics\n",
    "\n",
    "class Neuron:                   # Class names usually starts with a capital letter\n",
    "    \n",
    "    \"\"\"\n",
    "    Simple class for creating a neuron.\n",
    "    \"\"\"\n",
    "    # In a class definition, the object itself is named \"self\". \n",
    "    # The self can have some attributes (= variable name inside a class definition) \n",
    "    # that can be retrieved from outside the class definition.\n",
    "    \n",
    "    # constructor\n",
    "    def __init__(self, name):   # Methods defined with \"__something__\" are special methods. \n",
    "                                # For example the __init__ method is automatically called when we instatiate a class. \n",
    "                                # It doesn't accept \"return\" statements.\n",
    "        self.name = name\n",
    "    \n",
    "    def morphology(self, n_dend, n_branches):\n",
    "        self.morphology = {}\n",
    "        self.morphology['soma'] = {'sections': range(1)}\n",
    "        self.morphology['dendrites'] = {'sections':[[dend for dend in range(n_dend)] for branch in range(n_branches)]}\n",
    "        self.morphology['axon'] = {'sections':range(5)}\n",
    "        return self.morphology\n",
    "    \n",
    "    def biophysics(self, channels):\n",
    "        \"\"\"\n",
    "        Distribute channels on neuron sections\n",
    "        \"\"\"\n",
    "        self.biophysics = {name:list(channels) for name in self.morphology.keys()}           \n",
    "        self.biophysics['axon'] = channels[:2]\n",
    "        self.biophysics['dendrites'].remove('NaT')\n",
    "        return self.biophysics"
   ]
  },
  {
   "cell_type": "code",
   "execution_count": 58,
   "metadata": {
    "tags": []
   },
   "outputs": [],
   "source": [
    "# This is the instantiation of the Neuron class. \n",
    "# It takes as arguments those specified in the __init__ method.\n",
    "\n",
    "my_neuron = Neuron('dummy_neuron')"
   ]
  },
  {
   "cell_type": "markdown",
   "metadata": {
    "user_expressions": []
   },
   "source": [
    "<font size =\"3\"> We call a class method by: __object.method_name( )__ \n",
    "\n",
    " <font size =\"3\">Note that the \"self\" in the class definition is replaced by the object name."
   ]
  },
  {
   "cell_type": "code",
   "execution_count": 59,
   "metadata": {
    "scrolled": true,
    "tags": []
   },
   "outputs": [
    {
     "name": "stdout",
     "output_type": "stream",
     "text": [
      "{'soma': {'sections': range(0, 1)}, 'dendrites': {'sections': [[0, 1, 2, 3, 4, 5, 6], [0, 1, 2, 3, 4, 5, 6], [0, 1, 2, 3, 4, 5, 6], [0, 1, 2, 3, 4, 5, 6], [0, 1, 2, 3, 4, 5, 6], [0, 1, 2, 3, 4, 5, 6], [0, 1, 2, 3, 4, 5, 6], [0, 1, 2, 3, 4, 5, 6], [0, 1, 2, 3, 4, 5, 6], [0, 1, 2, 3, 4, 5, 6], [0, 1, 2, 3, 4, 5, 6], [0, 1, 2, 3, 4, 5, 6], [0, 1, 2, 3, 4, 5, 6], [0, 1, 2, 3, 4, 5, 6], [0, 1, 2, 3, 4, 5, 6]]}, 'axon': {'sections': range(0, 5)}}\n"
     ]
    }
   ],
   "source": [
    "num_dend = 7\n",
    "num_branches = 15\n",
    "\n",
    "print (my_neuron.morphology(num_dend, num_branches))"
   ]
  },
  {
   "cell_type": "code",
   "execution_count": 60,
   "metadata": {
    "tags": []
   },
   "outputs": [
    {
     "name": "stdout",
     "output_type": "stream",
     "text": [
      "{'soma': ['NaT', 'Kv3.1', 'CaT', 'KCa3.1', 'HCN'], 'dendrites': ['Kv3.1', 'CaT', 'KCa3.1', 'HCN'], 'axon': ['NaT', 'Kv3.1']}\n"
     ]
    }
   ],
   "source": [
    "ion_channels = ['NaT', 'Kv3.1', 'CaT', 'KCa3.1','HCN']\n",
    "\n",
    "print (my_neuron.biophysics(ion_channels))"
   ]
  },
  {
   "cell_type": "code",
   "execution_count": 61,
   "metadata": {
    "tags": []
   },
   "outputs": [
    {
     "name": "stdout",
     "output_type": "stream",
     "text": [
      "class directory =  ['__class__', '__delattr__', '__dict__', '__dir__', '__doc__', '__eq__', '__format__', '__ge__', '__getattribute__', '__gt__', '__hash__', '__init__', '__init_subclass__', '__le__', '__lt__', '__module__', '__ne__', '__new__', '__reduce__', '__reduce_ex__', '__repr__', '__setattr__', '__sizeof__', '__str__', '__subclasshook__', '__weakref__', 'biophysics', 'morphology', 'name']\n",
      "\n",
      " class description =  \n",
      "    Simple class for creating a neuron.\n",
      "    \n"
     ]
    }
   ],
   "source": [
    "# Now you can have a more direct feeling of the \"dir\" and \"__doc__\" methods\n",
    "\n",
    "print ('class directory = ', dir(my_neuron))\n",
    "print ('\\n class description = ', my_neuron.__doc__)"
   ]
  },
  {
   "cell_type": "markdown",
   "metadata": {
    "user_expressions": []
   },
   "source": [
    "# Working with files: create, open, read, modify and safe"
   ]
  },
  {
   "cell_type": "markdown",
   "metadata": {
    "user_expressions": []
   },
   "source": [
    "<font size =\"3\">Learning how to deal with files is very important as we will work with files all the time."
   ]
  },
  {
   "cell_type": "code",
   "execution_count": 62,
   "metadata": {
    "tags": []
   },
   "outputs": [],
   "source": [
    "# Write something into a new file called \"my_first_file.txt\"\n",
    "\n",
    "with open('my_first_file.txt', 'w') as g:  # Here you can specify the path in which you want the file to be saved. \n",
    "                                           # 'w' means open file for writing\n",
    "    \n",
    "    g.write(str(123))   \n",
    "    g.write('this is a test')              # write something else between the 'quotes'\n",
    "    \n",
    "g.close()"
   ]
  },
  {
   "cell_type": "markdown",
   "metadata": {
    "user_expressions": []
   },
   "source": [
    "<font size =\"3\">Check if the file has been correctly created. \n",
    "\n",
    "<font size =\"3\">You can add new information to the same file by opening it in \"append\" mode."
   ]
  },
  {
   "cell_type": "code",
   "execution_count": 63,
   "metadata": {
    "tags": []
   },
   "outputs": [],
   "source": [
    "with open('my_first_file.txt', 'a+') as g: # 'a' Open for appending at the end of the file without truncating it. \n",
    "                                           # Creates a new file if it does not exist. \n",
    "                                           # '+' open a file for updating (reading and writing)\n",
    "    g.write('\\n bla bla bla')              # write something to file here\n",
    "                                           # the simbol '\\n' = jump line in the text\n",
    "g.close()"
   ]
  },
  {
   "cell_type": "code",
   "execution_count": 64,
   "metadata": {
    "tags": []
   },
   "outputs": [
    {
     "name": "stdout",
     "output_type": "stream",
     "text": [
      "['123this is a test\\n', ' bla bla bla']\n"
     ]
    }
   ],
   "source": [
    "with open('my_first_file.txt', 'r+') as g: # 'r+' means open for reading and appending  \n",
    "    # open for reading and appending\n",
    "    l = g.readlines()\n",
    "    print (l)"
   ]
  },
  {
   "cell_type": "markdown",
   "metadata": {},
   "source": [
    "<font size=\"3\">Look up the documentation for more advanced file manipulation."
   ]
  },
  {
   "cell_type": "markdown",
   "metadata": {},
   "source": []
  },
  {
   "cell_type": "markdown",
   "metadata": {},
   "source": []
  },
  {
   "cell_type": "markdown",
   "metadata": {},
   "source": []
  }
 ],
 "metadata": {
  "kernelspec": {
   "display_name": "Python3",
   "language": "python",
   "name": "python3"
  },
  "language_info": {
   "codemirror_mode": {
    "name": "ipython",
    "version": 3
   },
   "file_extension": ".py",
   "mimetype": "text/x-python",
   "name": "python",
   "nbconvert_exporter": "python",
   "pygments_lexer": "ipython3",
   "version": "3.9.7"
  }
 },
 "nbformat": 4,
 "nbformat_minor": 4
}
