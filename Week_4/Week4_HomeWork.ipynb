{
 "cells": [
  {
   "cell_type": "markdown",
   "metadata": {},
   "source": [
    "<center><font size = \"10\"> Week 4 - Ion Channels <center>\n",
    "<center><font size = \"8\">Home work SOLUTIONS<center>"
   ]
  },
  {
   "cell_type": "markdown",
   "metadata": {},
   "source": [
    "<font size = \"3\">Please, write your group number and the names and surnames of the group members here\n",
    "<br>Group number: 8\n",
    "<br>Group member1: Chiara Maria Matti\n",
    "<br>Group member2: Elena Grazia Gado\n",
    "<br>Group member3: ELiser Josan Romero"
   ]
  },
  {
   "cell_type": "code",
   "execution_count": null,
   "metadata": {
    "tags": []
   },
   "outputs": [],
   "source": [
    "# libraries used\n",
    "import h5py\n",
    "import pandas as pd\n",
    "import numpy as np\n",
    "import matplotlib.pyplot as plt\n",
    "import seaborn as sns\n",
    "sns.set_style('darkgrid')\n",
    "from scipy import stats\n",
    "from scipy.optimize import curve_fit\n"
   ]
  },
  {
   "cell_type": "markdown",
   "metadata": {
    "tags": []
   },
   "source": [
    "# Ex1. Extracting parameters from experimental data\n",
    "\n",
    "<font size=3>\n",
    "\n",
    "You have been provided with a .nwb file describing measurements of a potassium channel.\n",
    "The Activiation protocol contains current traces for an ion channel voltage clamped at potentials between -90 mV and +80 mV, at 10mV intervals.\n",
    "\n",
    "Plot each of the traces and inspect them.\n",
    "For each trace identify the maximum current $I_{max}$ and the activation time constant $ \\tau_m $.\n",
    "You can find $\\tau_m$ at each potential value by fitting an exponential function $\\displaystyle y = a + b e^{\\frac{-x}{\\tau_{m}}} $ to the activation curve.\n",
    "Fit each trace between some start time of your choice (choose carefully) and the point of maximum ionic current.\n",
    "\n",
    "    \n",
    "Finally, plot $tau_m$ and $I_k$ against membrane potential (on separate axes). How do they vary with voltage? What does this mean for the behavior of the channel?\n",
    "\n",
    "[2 pts]\n",
    "\n"
   ]
  },
  {
   "cell_type": "code",
   "execution_count": null,
   "metadata": {
    "tags": []
   },
   "outputs": [],
   "source": [
    "# Open data with python\n",
    "data_path = 'Group8/ion_channel.nwb'\n",
    "\n",
    "data = h5py.File(data_path, 'r')\n",
    "print(*data.keys())\n",
    "print(data['session_description'][0])"
   ]
  },
  {
   "cell_type": "code",
   "execution_count": null,
   "metadata": {
    "tags": []
   },
   "outputs": [],
   "source": [
    "list(data['acquisition']['timeseries'].keys())"
   ]
  },
  {
   "cell_type": "markdown",
   "metadata": {
    "tags": []
   },
   "source": [
    "## Plotting activation trace"
   ]
  },
  {
   "cell_type": "code",
   "execution_count": null,
   "metadata": {
    "tags": []
   },
   "outputs": [],
   "source": [
    "# setting plotting functions\n",
    "\n",
    "def plot_timeseries(timeseries_repetition):\n",
    "    traces = np.array(timeseries_repetition['data']).transpose()\n",
    "    if 'x_interval' in timeseries_repetition:\n",
    "        dts = np.array(timeseries_repetition['x_interval'])\n",
    "    else:\n",
    "        dts = np.array((len(traces), ))\n",
    "    fig = plt.figure()\n",
    "    ax = plt.subplot(111)\n",
    "    n=1\n",
    "    for trace, dt in zip(traces, dts):\n",
    "        time = np.linspace(0, len(trace) * dt, len(trace))\n",
    "        ax.plot(time, trace, label='trace: %.0f' %(n)) #label=label)\n",
    "        n+=1\n",
    "    plt.legend()\n",
    "    plt.title(timeseries_repetition.name)\n",
    "    plt.xlabel(\"Time (s)\")\n",
    "    plt.ylabel(\"Current (pA)\")\n",
    "    sns.move_legend(ax,\"upper left\", bbox_to_anchor=(1, 1))\n",
    "        \n",
    "\n",
    "def plot_recurse(group):\n",
    "    for k, grp in group.items():\n",
    "        if hasattr(grp, 'items'):\n",
    "            if 'data' in grp:\n",
    "                plot_timeseries(grp)\n",
    "            else:\n",
    "                plot_recurse(grp)"
   ]
  },
  {
   "cell_type": "code",
   "execution_count": null,
   "metadata": {
    "tags": []
   },
   "outputs": [],
   "source": [
    "# plot\n",
    "plot_recurse(data['acquisition']['timeseries']['Activation']['repetitions'])"
   ]
  },
  {
   "cell_type": "markdown",
   "metadata": {},
   "source": [
    "## Fitting"
   ]
  },
  {
   "cell_type": "code",
   "execution_count": null,
   "metadata": {
    "tags": []
   },
   "outputs": [],
   "source": [
    "# looking for directory of data arrays in nwb file\n",
    "list(data['acquisition']['timeseries']['Activation']['repetitions']['repetition1'].keys())"
   ]
  },
  {
   "cell_type": "code",
   "execution_count": null,
   "metadata": {
    "tags": []
   },
   "outputs": [],
   "source": [
    "# checking shape\n",
    "data['acquisition']['timeseries']['Activation']['repetitions']['repetition1']['data'].shape\n",
    "# we will need to Transpose"
   ]
  },
  {
   "cell_type": "code",
   "execution_count": null,
   "metadata": {},
   "outputs": [],
   "source": [
    "def plotDataFiles(data_pathway, pathway, repID):\n",
    "    ''' Function .....\n",
    "    :param data_pathway: the data path to file\n",
    "    :param pathway: the directory within the data file\n",
    "    :param repID: protocol repetition number\n",
    "    '''\n",
    "    \n",
    "    # Open the file\n",
    "    open_data = h5py.File(data_pathway, 'r')\n",
    "    \n",
    "    # Select on strings what do we want for ploting\n",
    "    string_data = pathway + str(repID) +'/data'\n",
    "    string_xinterval = pathway + str(repID) +'/x_interval'\n",
    "    string_xstart = pathway + str(repID) +'/x_start'\n",
    "    \n",
    "    # safe on different variables\n",
    "    data = open_data[(string_data)]\n",
    "    x_interval = open_data[(string_xinterval)]\n",
    "    x_start = open_data[(string_xstart)]\n",
    "    \n",
    "    # create time vector in ms\n",
    "    nRow, nCol = data.shape\n",
    "    x_end = x_start[0] + x_interval[0]*(float(nRow - 1))\n",
    "    time = np.linspace(x_start[0], x_end, nRow)*1000\n",
    "    \n",
    "    # each trace in different figures\n",
    "    data_t = np.transpose(data)\n",
    "    i = 0\n",
    "    taus = []\n",
    "    I_max = []\n",
    "    for trace in data_t:\n",
    "         \n",
    "        def func_exp(x, tau):\n",
    "            return np.amax(trace[1010:5991])-(np.amax(trace[1010:5991])-trace[1010])*np.exp(-x/tau)\n",
    "        plt.figure()\n",
    "        plt.title('%s repetition %s , trace %s' %(protocolName, repID,i))\n",
    "        plt.ylabel('voltage traces (mV)')\n",
    "        plt.xlabel('time (ms)')\n",
    "        rank_max = np.argmax(trace[1010:5991])+1010\n",
    "        plt.plot(time[1010:rank_max], trace[1010:rank_max], 'xk', label='original data')\n",
    "        popt, pcov = curve_fit(func_exp, np.concatenate(time)[1010:rank_max]-102, trace[1010:rank_max])\n",
    "        I_max+=[np.amax(trace[1010:5991])]\n",
    "        taus+=[popt[0]]\n",
    "        perr = np.sqrt(np.diag(pcov))\n",
    "        plt.plot(time[1010:rank_max], func_exp(time[1010:rank_max]-102, popt[0]), '-r',label='fit: tau=%.3f, error=%.3f' %(popt[0],perr))\n",
    "        plt.legend()\n",
    "        plt.show()\n",
    "\n",
    "        i += 1\n",
    "    return taus, I_max"
   ]
  },
  {
   "cell_type": "code",
   "execution_count": null,
   "metadata": {},
   "outputs": [],
   "source": [
    "# for repetition 1\n",
    "pathway = '/acquisition/timeseries/Activation/repetitions/repetition'\n",
    "repetition = 1\n",
    "taus, I_k=plotDataFiles(data_path, pathway, repetition)"
   ]
  },
  {
   "cell_type": "markdown",
   "metadata": {},
   "source": [
    "Finally, plot $tau_m$ and $I_k$ against membrane potential (on separate axes). How do they vary with voltage? What does this mean for the behavior of the channel?"
   ]
  },
  {
   "cell_type": "code",
   "execution_count": null,
   "metadata": {},
   "outputs": [],
   "source": [
    "# tau vs voltage\n",
    "mV = np.linspace(-90,80,18)\n",
    "# we have to set the first traces to 0 because the plot was too noisy to have an accurate Tau\n",
    "for i in range (4) :\n",
    "    taus[i]=0\n",
    "\n",
    "plt.figure()\n",
    "plt.plot(mV,taus)\n",
    "plt.scatter(mV,taus)\n",
    "plt.title('Channel time at each voltage steps')\n",
    "plt.ylabel('Channel time constant ((tau_m) (ms))')\n",
    "plt.xlabel('Voltage (mV)')\n",
    "plt.xticks(mV)\n",
    "plt.show()"
   ]
  },
  {
   "cell_type": "code",
   "execution_count": null,
   "metadata": {},
   "outputs": [],
   "source": [
    "#I_max vs voltage\n",
    "plt.figure()\n",
    "plt.plot(mV,I_k)\n",
    "plt.scatter(mV,I_k)\n",
    "plt.title('Channel current at each voltage steps (I-V curve)')\n",
    "plt.ylabel('Channel current (pA)')\n",
    "plt.xlabel('Voltage (mV)')\n",
    "plt.xticks(mV)\n",
    "plt.show()\n"
   ]
  },
  {
   "cell_type": "markdown",
   "metadata": {},
   "source": [
    "> As we can see from the plot, the time constant $\\tau_m$ decreases with the increase of the membrane potential. This means that the channel opens faster when the membrane potential is higher. The maximum current $I_{max}$ increases with the increase of the membrane potential. This means that the channel is more likely to open when the membrane potential is higher."
   ]
  },
  {
   "cell_type": "markdown",
   "metadata": {},
   "source": [
    "# Ex2. Implementing a Potassium channel\n",
    "\n",
    "<font size=3>\n",
    "\n",
    "See `SKv3.1.mod`. Your task is to fill it in to implement the following potassium channel model:\n",
    "\n",
    "$\\displaystyle I_K = g_k \\times (v - E_k)$\n",
    "    \n",
    "Where $I_k$ is potassium current, v is membrane potential, $g_k$ the potassium conductance, and $E_k$ is the reversal potential of potassium (provided for you within the NEURON simulator).\n",
    "\n",
    "$\\displaystyle g_k = \\bar{g_k} \\times m $\n",
    "    \n",
    "Where $\\bar{g_k}$ is the maximum potassium conductance and m evolves according to the differential equation:\n",
    "\n",
    "$\\displaystyle m' = \\frac{(m_{inf} - m)}{\\tau_m}$\n",
    "\n",
    "$\\displaystyle m_{inf} = \\frac{1}{1 + e^{\\frac{v - v_{half}}{ s_m}}}$\n",
    "    \n",
    "$\\displaystyle \\tau_m = \\frac{c_{\\tau}}{1 + e^{\\frac{v - v_{\\tau}}{s_{\\tau}}}} $\n",
    "    \n",
    "With some values fixed:\n",
    "    \n",
    "$s_m = -9.7$\n",
    "    \n",
    "$c_{\\tau} = 4$\n",
    "    \n",
    "$\\bar{g_k} = 0.0001 Scm^{-2}$\n",
    "\n",
    "$v_{\\tau} =  -46.560 V$\n",
    "    \n",
    "$s_{\\tau} = -44$\n",
    "\n",
    "The remaining parameter, $v_{half}$ we will vary.\n",
    "    \n",
    "Next, Create a cell in Neuron with the following characteristics: \n",
    "    \n",
    " - 1 section (soma) with one segment 15 µm of length and diameter, \n",
    " - 120 Ω*cm of axial radius and \n",
    " - 1.6 µF/cm^2 of capacitance. \n",
    "    \n",
    "Insert the channel you just created.\n",
    "Add a current clamp stimulus starting at 100ms and lasting 500ms.\n",
    "    \n",
    "Vary vhalf for to the values -30, -20, -10, 0, 10, 20. \n",
    "For each value of vhalf, vary stimulus amplitude between 0 and 1.5.\n",
    "Record the maximum membrane potential and potassium conductance for each.\n",
    "    \n",
    "plot the I/V curves for each v_half on the same axes. \n",
    "explain the meaning of the results.\n",
    "\n",
    "[2 pts]\n",
    "    "
   ]
  },
  {
   "cell_type": "code",
   "execution_count": null,
   "metadata": {},
   "outputs": [],
   "source": []
  },
  {
   "cell_type": "markdown",
   "metadata": {},
   "source": [
    "# Ex3. Finding the rheobase of a cell\n",
    "\n",
    "<font size = \"3\"> \n",
    "Create a cell in Neuron with the following characteristics: \n",
    "    \n",
    " - 1 section (soma) with one segment 15 µm of length and diameter, \n",
    " - 120 Ω*cm of axial radius and \n",
    " - 1.6 µF/cm^2 of capacitance. \n",
    "\n",
    "Add active sodium and potassium channels using the hodgekin-huxley (hh) mechanism. Set (gNa = 0.09 S and gK = 0.01 S).\n",
    "hh also includes a passive conductance driving the neuron to its resting potential.\n",
    "Set hh.el to -70 mV and hh.gl to 0.003 S/cm^2. \n",
    "    \n",
    "Generate a current clamp experiment in which you inject 0.016 mA current into the cell soma with 50 ms delay, 500ms in duration. Use a voltage base of -70 mV and set the total recording duration of the experiment to 800ms. This is your base experiment - plot the injected current and the resulting membrane potential. Vary the injected current to find the rheobase of this cell - what is its amplitude ? What is the threshold potential for this cell? \n",
    "\n",
    "Next, inject the rheobase current into the cell for 60 ms followed 200ms later by double rheobase current for only 30ms. Plot the voltage trace. What do you see? Why does this effect occur?\n",
    "    \n",
    "Finally, inject rheobase as in the first experiment but vary the sodium conductance with values 0.08, 0.09, 0.12. Plot the voltage traces. Is the excitability of the cell very sensitive to this parameter? How does this relate to the role of sodium channels in action potential generation?\n",
    "    \n",
    "<font size = \"3\">[2 pt]"
   ]
  },
  {
   "cell_type": "code",
   "execution_count": null,
   "metadata": {
    "tags": []
   },
   "outputs": [],
   "source": [
    "from neuron import h"
   ]
  },
  {
   "cell_type": "markdown",
   "metadata": {},
   "source": [
    "#### First experiment: base experiment"
   ]
  },
  {
   "cell_type": "code",
   "execution_count": null,
   "metadata": {
    "tags": []
   },
   "outputs": [],
   "source": [
    "# creating cell\n",
    "soma = h.Section(name='soma')\n",
    "soma.L = 15 #µm\n",
    "soma.diam = 15 #µm\n",
    "soma.Ra = 120 #Ω*cm\n",
    "soma.cm = 1.6 #µF/cm^2\n",
    "\n",
    "# adding properties\n",
    "soma.insert('hh')\n",
    "for seg in soma:\n",
    "    seg.hh.gkbar = 0.01   # S \n",
    "    seg.hh.gnabar = 0.09  # S\n",
    "    seg.hh.gl = 0.003 # S/cm^2\n",
    "    seg.hh.el = -70 # mV\n",
    "     \n",
    "# Insert current clamp experiment\n",
    "stim = h.IClamp(soma(0.5))        \n",
    "stim.delay = 50   # ms\n",
    "stim.dur = 500     # ms\n",
    "stim.amp = 0.16\n",
    "\n",
    "\n",
    "# Initialize vectors\n",
    "# time vector\n",
    "rec_t = h.Vector()\n",
    "rec_t.record(h._ref_t)\n",
    "# membrame potential vector\n",
    "rec_v = h.Vector()\n",
    "rec_v.record(soma(0.5)._ref_v)\n",
    "# current\n",
    "rec_i = h.Vector()\n",
    "rec_i.record(stim._ref_i)\n",
    "\n",
    "h.load_file('stdrun.hoc')\n",
    "h.finitialize(-70)\n",
    "h.continuerun(800)\n",
    "\n",
    "plt.figure()\n",
    "plt.title('cell response')\n",
    "plt.ylabel('V (mV)')\n",
    "plt.xlabel('t (ms)')\n",
    "plt.plot(rec_t,rec_v)\n",
    "# plt.ylim(top=-69)\n",
    "\n",
    "plt.figure()\n",
    "plt.title('stimulus')\n",
    "plt.ylabel('I (pA)')\n",
    "plt.xlabel('t (ms)')\n",
    "plt.plot(rec_t,rec_i);"
   ]
  },
  {
   "cell_type": "markdown",
   "metadata": {},
   "source": [
    "#### Second experiment: find rheobase"
   ]
  },
  {
   "cell_type": "code",
   "execution_count": null,
   "metadata": {
    "tags": []
   },
   "outputs": [],
   "source": [
    "for i in np.linspace(0.22, 0.23, 100): # set through trial and error\n",
    "    stim.amp = i\n",
    "    \n",
    "    # Initialize vectors\n",
    "    # time vector\n",
    "    rec_t = h.Vector()\n",
    "    rec_t.record(h._ref_t)\n",
    "    # membrame potential vector\n",
    "    rec_v = h.Vector()\n",
    "    rec_v.record(soma(0.5)._ref_v)\n",
    "    # current\n",
    "    rec_i = h.Vector()\n",
    "    rec_i.record(stim._ref_i)\n",
    "\n",
    "    h.finitialize(-70)\n",
    "    h.continuerun(800)\n",
    "    \n",
    "    # rheobase current found at the first iteration in which the membrane potential exceeds 0 (AP fired)\n",
    "    cell_v = np.array(rec_v)\n",
    "    \n",
    "    if np.any(cell_v>0):\n",
    "        rheobase = i\n",
    "        break\n",
    "    \n",
    "    # threshold potential is the maximum potential reached at the iteration right before the rheobase one\n",
    "    thr_time = np.argmax(cell_v)\n",
    "    thr_pot = cell_v[thr_time]\n",
    "    thr_ms = thr_time / len(cell_v) *800\n",
    "    \n",
    "print(\"Rheobase current: {:.5f} pA\".format(rheobase))\n",
    "print(\"Threshold potential: {:.5f} mV\".format(thr_pot))\n",
    "\n",
    "plt.figure()\n",
    "plt.title('cell response at rheobase stimulus')\n",
    "plt.ylabel('V (mV)')\n",
    "plt.xlabel('t (ms)')\n",
    "plt.plot(rec_t,rec_v)\n",
    "plt.hlines(thr_pot, thr_ms-15, thr_ms+15, colors='red', label='threshold potential')\n",
    "plt.legend()\n",
    "\n",
    "plt.figure()\n",
    "plt.title('stimulus')\n",
    "plt.ylabel('I (pA)')\n",
    "plt.xlabel('t (ms)')\n",
    "plt.plot(rec_t,rec_i);"
   ]
  },
  {
   "cell_type": "markdown",
   "metadata": {},
   "source": [
    "#### Third experiment: two stimuli"
   ]
  },
  {
   "cell_type": "code",
   "execution_count": null,
   "metadata": {
    "tags": []
   },
   "outputs": [],
   "source": [
    "# new stimulation with rheobase current \n",
    "stim = h.IClamp(soma(0.5))        \n",
    "stim.delay = 50   # ms\n",
    "stim.dur = 60     # ms\n",
    "stim.amp = rheobase \n",
    "\n",
    "stim2 = h.IClamp(soma(0.5))\n",
    "stim2.delay = 200+50+60\n",
    "stim2.dur = 30\n",
    "stim2.amp = rheobase*2\n",
    "\n",
    "# Initialize vectors\n",
    "# time vector\n",
    "rec_t = h.Vector()\n",
    "rec_t.record(h._ref_t)\n",
    "# membrame potential vector\n",
    "rec_v = h.Vector()\n",
    "rec_v.record(soma(0.5)._ref_v)\n",
    "# current\n",
    "rec_i = h.Vector()\n",
    "rec_i.record(stim._ref_i)\n",
    "rec_i2 = h.Vector()\n",
    "rec_i2.record(stim2._ref_i)\n",
    "\n",
    "h.finitialize(-70)\n",
    "h.continuerun(800)\n",
    "\n",
    "plt.figure()\n",
    "plt.title('cell active properties')\n",
    "plt.ylabel('V (mV)')\n",
    "plt.xlabel('t (ms)')\n",
    "plt.plot(rec_t,rec_v)\n",
    "\n",
    "plt.figure()\n",
    "plt.title('stimulus')\n",
    "plt.ylabel('I (pA)')\n",
    "plt.xlabel('t (ms)')\n",
    "plt.plot(rec_t,np.array(rec_i) + np.array(rec_i2));\n"
   ]
  },
  {
   "cell_type": "markdown",
   "metadata": {},
   "source": [
    "The first stimulus lasts long enough to evoke one action potential in the cell.  \n",
    "The second one, even if of shorter duration, has higher intensity. This causes the cell to fire a burst of three action potentials (firing throught the whole stimulation period).  \n",
    "\n",
    "In summary, even though the total electric charge is the same in both stimuli, the cell responds in two very different ways depending on its properties. In the second case the depolarization force is stronger, resulting in a burst of action potentials."
   ]
  },
  {
   "cell_type": "markdown",
   "metadata": {},
   "source": [
    "#### Fourth experiment: change sodium conductances"
   ]
  },
  {
   "cell_type": "code",
   "execution_count": null,
   "metadata": {
    "tags": []
   },
   "outputs": [],
   "source": [
    "# creating cell\n",
    "soma = h.Section(name='soma')\n",
    "soma.L = 15 #µm\n",
    "soma.diam = 15 #µm\n",
    "soma.Ra = 120 #Ω*cm\n",
    "soma.cm = 1.6 #µF/cm^2\n",
    "\n",
    "# adding properties\n",
    "soma.insert('hh')\n",
    "for seg in soma:\n",
    "    seg.hh.gkbar = 0.01   # S \n",
    "    seg.hh.gl = 0.003 # S/cm^2\n",
    "    seg.hh.el = -70 # mV\n",
    "    \n",
    "time_vects = []\n",
    "volt_vects = []\n",
    "stim_vects = []\n",
    "\n",
    "conductances = [0.08, 0.09, 0.12]\n",
    "\n",
    "h.load_file('stdrun.hoc')\n",
    "\n",
    "    \n",
    "for cond in conductances:\n",
    "    for seg in soma:\n",
    "        seg.hh.gnabar = cond  # S\n",
    "     \n",
    "    # Insert current clamp experiment\n",
    "    stim = h.IClamp(soma(0.5))        \n",
    "    stim.delay = 50   # ms\n",
    "    stim.dur =500     # ms\n",
    "    stim.amp = rheobase   \n",
    "\n",
    "\n",
    "    # Initialize vectors\n",
    "    # time vector\n",
    "    rec_t = h.Vector()\n",
    "    rec_t.record(h._ref_t)\n",
    "    # membrame potential vector\n",
    "    rec_v = h.Vector()\n",
    "    rec_v.record(soma(0.5)._ref_v)\n",
    "    # current\n",
    "    rec_i = h.Vector()\n",
    "    rec_i.record(stim._ref_i)\n",
    "\n",
    "    h.finitialize(-70)\n",
    "    h.continuerun(800)\n",
    "    \n",
    "    time_vects.append(np.array(rec_t))\n",
    "    volt_vects.append(np.array(rec_v))\n",
    "    stim_vects.append(np.array(rec_i))\n",
    "        \n",
    "    \n",
    "fig, axs = plt.subplots(2,3, figsize=(18,8))\n",
    "\n",
    "for i in range(3):\n",
    "    axs[0][i].plot(time_vects[i], volt_vects[i])\n",
    "    axs[0][i].set_title(\"cell response, g = {} S\".format(conductances[i]))\n",
    "    axs[0][i].set_ylabel('V (mV)')\n",
    "    axs[0][i].set_xlabel('t (ms)')\n",
    "    axs[0][i].set_ylim(top=40)\n",
    "    \n",
    "    axs[1][i].plot(time_vects[i], stim_vects[i])\n",
    "    axs[1][i].set_title(\"stimulus, g = {} S\".format(conductances[i]))\n",
    "    axs[1][i].set_ylabel('I (pA)')\n",
    "    axs[1][i].set_xlabel('t (ms)')\n",
    "\n",
    "plt.tight_layout()\n",
    "\n"
   ]
  },
  {
   "cell_type": "markdown",
   "metadata": {},
   "source": [
    "The cell response is sensitive to changes of sodium channels conductances. Increasing the conductance allows a faster depolarization when the stimulus is presented because more ions can enter the neuron. As a result, the higher the conductance, the stronger the neuron's response.  \n",
    "\n",
    "In this case, the lowest conductance is not enough to reach the threshold potential at the rheobase current computed for gNA = 0.09S. Instead, the response to the stimulus of the cell with the highest conductance is extremely fast and strong, reaching a very high peak. "
   ]
  }
 ],
 "metadata": {
  "kernelspec": {
   "display_name": "Python3",
   "language": "python",
   "name": "python3"
  },
  "language_info": {
   "codemirror_mode": {
    "name": "ipython",
    "version": 3
   },
   "file_extension": ".py",
   "mimetype": "text/x-python",
   "name": "python",
   "nbconvert_exporter": "python",
   "pygments_lexer": "ipython3",
   "version": "3.11.5"
  }
 },
 "nbformat": 4,
 "nbformat_minor": 4
}
