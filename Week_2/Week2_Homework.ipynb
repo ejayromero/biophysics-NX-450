{
 "cells": [
  {
   "cell_type": "markdown",
   "id": "36645f39",
   "metadata": {},
   "source": [
    "<center><font size = \"10\"> Week 2 <center>\n",
    "<center><font size = \"8\"> Homework 01: Neuroscience Datasets <center>"
   ]
  },
  {
   "cell_type": "markdown",
   "id": "80c2914f-716b-41df-a474-060cc3552a9a",
   "metadata": {
    "user_expressions": []
   },
   "source": [
    "<font size = “3” color=\"red\"> Please, write your group number and complete names of group members (also in the cell below)\n",
    "    \n",
    "<font size = “3” color=\"black\"> Group number: 8\n",
    "<br>Name: Elena Grazia Gado\n",
    "<br>Name: Chiara Maria Matti\n",
    "<br>Name: Eliser Josan Romero"
   ]
  },
  {
   "cell_type": "code",
   "execution_count": 1,
   "id": "85ab4887-0921-41d1-b818-9a87d1dd895d",
   "metadata": {
    "tags": []
   },
   "outputs": [],
   "source": [
    "student_names = 'Group 8: Elena, Chiara, Eliser'"
   ]
  },
  {
   "cell_type": "markdown",
   "id": "4c2d7b13",
   "metadata": {},
   "source": [
    "## Ex1. Morphologies\n",
    "\n",
    "<font size='3'> Go to [NeuroMorpho.Org](https://neuromorpho.org/) and answer the following questions:\n",
    "\n",
    "    A) How many Siberian tiger neurons are available? Which brain region are they from?\n",
    "    B) How many experiments have a protocol in ovo? Is the Shepherds-crook-neuron a principal cell?\n",
    "    \n",
    "    C) How many interneurons showing either parvalbumin or somatostatin are there in the hippocampus CA1? What about in any of the CA regions?\n",
    "    D) Tissue shrinkage can be a serious problem. How many morphologies report it? How many correct for it?\n",
    "    \n",
    "    E) What is the highest slice thickness reported (in millimetres)? Are these central nervous system cells?\n",
    "    F) Is there a Hungarian file format? How about a Viking one?\n",
    "    \n",
    "    G) Hippocampus CA is made up of the subfields CA1 + CA2 + CA3. Try answering question C again. What number do you get now? Why is that?\n",
    "       Write your reply (do not change your answer to C, it's ok). Remember: it can be dangerous to use wildcards... they are wild!\n",
    "    \n",
    "<font size='3'> Fill in your answers in the dictionary below. Format is already in place, just change the contents."
   ]
  },
  {
   "cell_type": "code",
   "execution_count": 4,
   "id": "f36db4e4-c05e-4d00-89dd-784604ac39e2",
   "metadata": {
    "tags": []
   },
   "outputs": [],
   "source": [
    "answers = {}\n",
    "\n",
    "answers['morphologies_A'] = (33, 'cerebellum') #done\n",
    "answers['morphologies_B'] = (1, True) #done\n",
    "   \n",
    "answers['morphologies_C'] = (159, 203) #done\n",
    "answers['morphologies_D'] = (0, 0) #not done yet\n",
    "    \n",
    "answers['morphologies_E'] = (5, False) #done\n",
    "answers['morphologies_F'] = (False, True) #done\n",
    "    \n",
    "answers['morphologies_G'] = (203, 'Same results, we didn$\\'t use wildcards because it works as a string and calls all string which contains ca, for example cats.') # done"
   ]
  },
  {
   "cell_type": "markdown",
   "id": "423ff8d0",
   "metadata": {
    "tags": []
   },
   "source": [
    "## Ex2. Ion Channels\n",
    "\n",
    "<font size='3'> Given what you learned from [Channelpedia](https://channelpedia.epfl.ch/) and the [Kv3.3 channel](https://channelpedia.epfl.ch/wiki/ionchannels/13), ask yourself:\n",
    "    \n",
    "    A) When you read ANY experiment reporting neural traces/activity/dynamics what is one key factor you should immediately look for in the methods?\n",
    "    B) What about in vivo studies that sometimes don't report it explicitly?"
   ]
  },
  {
   "cell_type": "code",
   "execution_count": null,
   "id": "993ca264",
   "metadata": {},
   "outputs": [],
   "source": [
    "answers['ion_channels_A'] = 'The temperature'\n",
    "answers['ion_channels_B'] = 'Write your reply here'"
   ]
  },
  {
   "cell_type": "markdown",
   "id": "859c75d5-0e8b-4768-a185-5624569a30ae",
   "metadata": {
    "tags": []
   },
   "source": [
    "## Ex3. Brain atlases\n",
    "\n",
    "<font size='3'> Go the [Allen Brain Atlas portal](http://atlas.brain-map.org/) and answer the following questions:\n",
    "    \n",
    "    Adult Mouse\n",
    "    A) How many specimens were used to create the latest adult mouse atlas?\n",
    "    B) What is the reason/purpose behind that?\n",
    "    C) Does this also mean there are caveats you should remember when consulting it?\n",
    "    \n",
    "    Adult Human\n",
    "    D) How many specimens were used to create the adult human atlas? What age on average (in years)?\n",
    "    E) Therefore we need to keep in mind __________ differences and ___ differences may play a role, particularly in certain regions\n",
    "    F) What is another tissue-handling artefact that has a higher impact in very low n cases? Did you mention it for the mouse or did you forget it?\n",
    "    \n",
    "    Developing Mouse\n",
    "    G) How many sections does the E11.5 atlas have and at what intervals? How about E13.5 and P14?\n",
    "    H) Why these differences in the number of sections? Why such variation in the intervals?\n",
    "    \n",
    "    Mouse Spinal Cord\n",
    "    I) How long are the intervals between sections in this case (in μm)? Why is that?\n",
    "    \n",
    "<font size='3'> Keeping this kind of perspective and common sense is very valuable when looking at datasets"
   ]
  },
  {
   "cell_type": "code",
   "execution_count": null,
   "id": "a8578952-1e6d-4628-bc65-33c9964ad81f",
   "metadata": {},
   "outputs": [],
   "source": [
    "answers['brain_atlases_A'] = 1675\n",
    "answers['brain_atlases_B'] = 'Having a greater average accuracy and avoiding individual differences.'\n",
    "answers['brain_atlases_C'] = 'The result is an average of many brains but all brains are different.'\n",
    "\n",
    "answers['brain_atlases_D'] = (1, 34)\n",
    "answers['brain_atlases_E'] = 'Sex differences and individual differences'\n",
    "answers['brain_atlases_F'] = 'Tissue shrinkage'\n",
    "\n",
    "answers['brain_atlases_G'] = ('28 at 40 μm', '15 at 100 μm', '39 at 125 μm')\n",
    "answers['brain_atlases_H'] = 'The number of sections or the interval width depend upon the interest in the brain and its size. Smaller brains require less sections with smaller intervals while the opposite happens with bigger brains.'\n",
    "\n",
    "answers['brain_atlases_I'] = (2000, 'Spinal cord is long, therefore larger intervals are used')"
   ]
  },
  {
   "cell_type": "markdown",
   "id": "00c726f2-d97a-45fd-9ce3-b34f0a9e2e46",
   "metadata": {},
   "source": [
    "## Ex4. Cell atlases\n",
    "\n",
    "<font size='3'> Go to the [Blue Brain Cell Atlas](https://bbp.epfl.ch/nexus/cell-atlas/) and answer the following questions:\n",
    "    \n",
    "    A) What is the ratio of excitatory to inhibitory neurons in the claustrum?\n",
    "    B) Can you find a brain region with no excitatory cells?\n",
    "    C) What is the total volume of the periaqueductal gray (in mm3)? And of the locus ceruleus?\n",
    "    D) What is the ratio between neurons and glia in the substantia innominata?\n",
    "    \n",
    "<font size='3'> Now go to [MouseLight Neuron Browser](http://ml-neuronbrowser.janelia.org/) and continue with these:\n",
    "    \n",
    "    E) How many available axons originating in the midbrain pass through the corpus callosum?\n",
    "    F) How many available cells project to the main olfactory bulb from outside the olfactory areas?\n",
    "    G) In which brain region is neuron AA1079?\n",
    "    H) Search the area around neuron AA1079 in a radius of 1.5 mm, how many neighbouring neurons can you find? "
   ]
  },
  {
   "cell_type": "code",
   "execution_count": 1,
   "id": "d468bba9-3ad0-4638-a7d9-2472b8954a81",
   "metadata": {
    "tags": []
   },
   "outputs": [
    {
     "ename": "NameError",
     "evalue": "name 'answers' is not defined",
     "output_type": "error",
     "traceback": [
      "\u001b[0;31m---------------------------------------------------------------------------\u001b[0m",
      "\u001b[0;31mNameError\u001b[0m                                 Traceback (most recent call last)",
      "Cell \u001b[0;32mIn[1], line 1\u001b[0m\n\u001b[0;32m----> 1\u001b[0m \u001b[43manswers\u001b[49m[\u001b[38;5;124m'\u001b[39m\u001b[38;5;124mcell_atlases_A\u001b[39m\u001b[38;5;124m'\u001b[39m] \u001b[38;5;241m=\u001b[39m \u001b[38;5;28mround\u001b[39m(\u001b[38;5;241m32662\u001b[39m\u001b[38;5;241m/\u001b[39m\u001b[38;5;241m28479\u001b[39m, \u001b[38;5;241m4\u001b[39m)                      \u001b[38;5;66;03m# use round(n, 4) to avoid gazillion decimals\u001b[39;00m\n\u001b[1;32m      2\u001b[0m answers[\u001b[38;5;124m'\u001b[39m\u001b[38;5;124mcell_atlases_B\u001b[39m\u001b[38;5;124m'\u001b[39m] \u001b[38;5;241m=\u001b[39m \u001b[38;5;124m'\u001b[39m\u001b[38;5;124msubstantia innominata\u001b[39m\u001b[38;5;124m'\u001b[39m\n\u001b[1;32m      3\u001b[0m answers[\u001b[38;5;124m'\u001b[39m\u001b[38;5;124mcell_atlases_C\u001b[39m\u001b[38;5;124m'\u001b[39m] \u001b[38;5;241m=\u001b[39m (\u001b[38;5;241m5.17\u001b[39m, \u001b[38;5;241m0.05\u001b[39m)\n",
      "\u001b[0;31mNameError\u001b[0m: name 'answers' is not defined"
     ]
    }
   ],
   "source": [
    "answers['cell_atlases_A'] = round(32662/28479, 4)                      # use round(n, 4) to avoid gazillion decimals\n",
    "answers['cell_atlases_B'] = 'substantia innominata'\n",
    "answers['cell_atlases_C'] = (5.17, 0.05)\n",
    "answers['cell_atlases_D'] = round(42929/155128, 4)\n",
    "\n",
    "answers['cell_atlases_E'] = 3\n",
    "answers['cell_atlases_F'] = 13\n",
    "answers['cell_atlases_G'] = 'arbor vitae'\n",
    "answers['cell_atlases_H'] = 0 #todo"
   ]
  },
  {
   "cell_type": "markdown",
   "id": "437ce823-c1a3-4d15-aa27-c2fc030a8589",
   "metadata": {},
   "source": [
    "## Ex5. Explore data in 3D and produce an image\n",
    "\n",
    "<font size='3'> To conclude the exercise go to the [Allen Brain Explorer](http://connectivity.brain-map.org/3d-viewer) and take a single screenshot showing:\n",
    "\n",
    "    - Your favourite injection experiment going from the olfactory areas to the cerebellum, change the colour to blue\n",
    "    - The isocortex and cerebellar cortex. Choose the camera angle that looks best to you\n",
    "    \n",
    "<font size='3'> Write the experiment ID below and attach the screenshot in your email together with your notebook. Try to paste the screenshot in a markdown cell to display it here, but don't stress if you can't or it does not save."
   ]
  },
  {
   "cell_type": "markdown",
   "id": "dfe539ab-43b6-4d33-bd5f-95b91dd394cd",
   "metadata": {
    "tags": []
   },
   "source": [
    "<img src=\"ABE_screenshot.png\">"
   ]
  },
  {
   "cell_type": "code",
   "execution_count": null,
   "id": "ad0f8e2e-566e-4ca6-a911-3f28fd47c677",
   "metadata": {},
   "outputs": [],
   "source": [
    "answers['screenshot_experiment_ID'] = 184259031"
   ]
  },
  {
   "cell_type": "markdown",
   "id": "037584f5-5af6-40d2-a196-a8d98ea4ae22",
   "metadata": {
    "tags": []
   },
   "source": [
    "## Grading\n",
    "\n",
    "6 points maximum:\n",
    "  - 5 from questions, all questions are equal\n",
    "  - 1 for the screenshot\n",
    "\n",
    "#### Python practice\n",
    "The exercise is over, but have a look at the grading function below. Grading here is done by displaying only those answers that are not == and counting mistakes"
   ]
  },
  {
   "cell_type": "code",
   "execution_count": null,
   "id": "bf6cc886-ed4d-4e72-a0d0-339347ee73ee",
   "metadata": {},
   "outputs": [],
   "source": [
    "from colorama import Fore\n",
    "\n",
    "def compare_answers(first, second):\n",
    "    assert first.keys() == second.keys(), f'Question labels have been changed'\n",
    "    for key in first.keys():\n",
    "        if first[key] != second[key]:\n",
    "            print(Fore.BLACK + '{}  |  '.format(key)    +\n",
    "                  Fore.RED   + '{}'.format(first[key])  +\n",
    "                  Fore.BLACK + '  |  '                  +\n",
    "                  Fore.GREEN + '{}'.format(second[key]) )\n",
    "    return"
   ]
  },
  {
   "cell_type": "markdown",
   "id": "1c9efea8-9ae1-4be9-9b43-59ac18ddc477",
   "metadata": {
    "jp-MarkdownHeadingCollapsed": true,
    "tags": []
   },
   "source": [
    "<font size=\"3\" color=\"red\"> --> Copy the correct answers dictionary here <-- "
   ]
  },
  {
   "cell_type": "code",
   "execution_count": null,
   "id": "7f4747df-4cce-408b-a785-3e8a8694160a",
   "metadata": {},
   "outputs": [],
   "source": [
    "max_points  = 5\n",
    "n_questions = len(correct_answers.keys())\n",
    "compare_answers(answers, correct_answers)\n",
    "\n",
    "#  TAs CHANGE THIS\n",
    "#-------------------\\\n",
    "screenshot = True   #\n",
    "n_mistakes = 4.5    # every wrong answer +1 mistake, partially correct tuples +0.5\n",
    "#-------------------|\n",
    "\n",
    "score = round(max_points * (n_questions - n_mistakes) / n_questions, 1) + screenshot\n",
    "print(Fore.BLUE + '\\n\\n--->  The score for  | {} |  is {} points  <---'.format(student_names, score))"
   ]
  }
 ],
 "metadata": {
  "kernelspec": {
   "display_name": "Python3",
   "language": "python",
   "name": "python3"
  },
  "language_info": {
   "codemirror_mode": {
    "name": "ipython",
    "version": 3
   },
   "file_extension": ".py",
   "mimetype": "text/x-python",
   "name": "python",
   "nbconvert_exporter": "python",
   "pygments_lexer": "ipython3",
   "version": "3.11.5"
  }
 },
 "nbformat": 4,
 "nbformat_minor": 5
}
