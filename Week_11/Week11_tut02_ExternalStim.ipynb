{
 "cells": [
  {
   "cell_type": "markdown",
   "id": "61baab7f-87b6-42e2-b169-62415241e54f",
   "metadata": {},
   "source": [
    "<center><font size = \"10\"> Week 11 - Networks <center>\n",
    "<center><font size = \"8\">Tutorial 02: External Stimulation <center>\n",
    "    \n"
   ]
  },
  {
   "cell_type": "markdown",
   "id": "830bcab2-5716-43fb-8418-eb3f70bc0997",
   "metadata": {
    "tags": []
   },
   "source": [
    "In this tutorial we will see the effect of an external stimulus on a small network."
   ]
  },
  {
   "cell_type": "code",
   "execution_count": null,
   "id": "aab510d4-8229-44cd-82d2-e71e79668a8a",
   "metadata": {
    "tags": []
   },
   "outputs": [],
   "source": [
    "!nrnivmodl"
   ]
  },
  {
   "cell_type": "code",
   "execution_count": null,
   "id": "fc50b11d-8053-4ed8-9881-f0fe699a72a1",
   "metadata": {
    "tags": []
   },
   "outputs": [],
   "source": [
    "from neuron import h\n",
    "import numpy as np\n",
    "import pandas as pd\n",
    "import matplotlib.pyplot as plt\n",
    "from scipy.signal import find_peaks\n",
    "\n",
    "np.random.seed(0)\n",
    "class Cell:\n",
    "    def __init__(self, filename, name, cell_type):\n",
    "        self.name = name\n",
    "        self.type = cell_type\n",
    "        self.synapses = []\n",
    "        self.build_morphology(filename)\n",
    "        self.biophysics()\n",
    "\n",
    "    def build_morphology(self, filename):\n",
    "        h.load_file(\"stdlib.hoc\")\n",
    "        h.load_file(\"import3d.hoc\")\n",
    "        if filename.endswith('.asc'):\n",
    "            morph_reader = h.Import3d_Neurolucida3()\n",
    "        else:\n",
    "            morph_reader = h.Import3d_SWC_read()\n",
    "        morph_reader.input(filename)\n",
    "        i3d = h.Import3d_GUI(morph_reader, 0)\n",
    "        i3d.instantiate(\n",
    "            self\n",
    "        )  # Notice this change to be able to instantiate several cells\n",
    "        # all_sections should have the same order as neurom\n",
    "        self.all_sections = self.soma + self.axon + self.dend\n",
    "        if hasattr(self, 'apic'):\n",
    "            self.all_sections += self.apic\n",
    "        print(len(self.dend), len(self.all_sections))\n",
    "        self.efferent_synapses = []\n",
    "        self.afferent_synapses = []\n",
    "\n",
    "    def biophysics(self):\n",
    "        for sec in h.allsec():\n",
    "            sec.Ra = 100  # Axial resistance in Ohm * cm\n",
    "            sec.cm = 1  # Membrane capacitance in micro Farads / cm^2\n",
    "            sec.insert(\"pas\")\n",
    "            for seg in sec:\n",
    "                seg.pas.g = 0.00003\n",
    "                seg.pas.e = -75\n",
    "\n",
    "        # Insert passive current in the dendrite\n",
    "        for sec in self.soma:\n",
    "            sec.insert(\"hh\")\n",
    "            for seg in sec:\n",
    "                seg.hh.gnabar = 0.12  # Sodium conductance in S/cm2\n",
    "                seg.hh.gkbar = 0.036  # Potassium conductance in S/cm2\n",
    "\n",
    "        if hasattr(self, \"apic\"):\n",
    "            for sec in self.apic:\n",
    "                sec.insert(\"hh\")\n",
    "                for seg in sec:\n",
    "                    seg.hh.gnabar = 0.12  # Sodium conductance in S/cm2\n",
    "                    seg.hh.gkbar = 0.036  # Potassium conductance in S/cm2\n",
    "\n",
    "        for sec in self.dend:\n",
    "            sec.insert(\"hh\")\n",
    "            for seg in sec:\n",
    "                seg.hh.gnabar = 0.12  # Sodium conductance in S/cm2\n",
    "                seg.hh.gkbar = 0.036  # Potassium conductance in S/cm2\n",
    "\n",
    "        for sec in self.axon:\n",
    "            sec.insert(\"hh\")\n",
    "            for seg in sec:\n",
    "                seg.hh.gnabar = 0.12  # Sodium conductance in S/cm2\n",
    "                seg.hh.gkbar = 0.036  # Potassium conductance in S/cm2"
   ]
  },
  {
   "cell_type": "code",
   "execution_count": null,
   "id": "ca03d9d1-bfad-43fd-a229-223c0e19d2ce",
   "metadata": {
    "tags": []
   },
   "outputs": [],
   "source": [
    "Pyr1 = Cell(\"Pyr_01.swc\", \"Pyr1\", \"Pyr\")\n",
    "Pyr2 = Cell(\"Pyr_02.swc\", \"Pyr2\", \"Pyr\")\n",
    "Int1 = Cell(\"Int_01.swc\", \"Int1\", \"Int\")\n",
    "cells_Pyr = [Pyr1, Pyr2]\n",
    "cells_Int = [Int1]\n",
    "cells = cells_Pyr + cells_Int"
   ]
  },
  {
   "cell_type": "code",
   "execution_count": null,
   "id": "255e55d8-504e-4f27-8b4a-5f373d3500bc",
   "metadata": {
    "tags": []
   },
   "outputs": [],
   "source": [
    "connprobs = np.array([[0.7, #pyr-pyr \n",
    "                       0.9], # pyr-int,\n",
    "                      [0.8, # int-pyr\n",
    "                       0]]) # int-int\n",
    "\n",
    "syn_per_conn = np.array([[2, 3], [4, 2]])\n",
    "\n",
    "synapses = []\n",
    "for pregid, pre in enumerate(cells):\n",
    "    for postgid, post in enumerate(cells):\n",
    "        if pre == post:\n",
    "            continue\n",
    "        if pre in cells_Pyr:\n",
    "            i = 0\n",
    "        else:\n",
    "            i = 1\n",
    "        if post in cells_Pyr:\n",
    "            j = 0\n",
    "        else:\n",
    "            j = 1\n",
    "        connprob = connprobs[i, j]\n",
    "        if np.random.uniform(0, 1) > connprob:\n",
    "            continue\n",
    "        if hasattr(post, 'apic'):\n",
    "            post_cell_dends = post.dend + post.apic\n",
    "        else:\n",
    "            post_cell_dends = post.dend\n",
    "        post_cell_offset = 1 + len(post.axon)\n",
    "        print(len(post.all_sections), len(post.dend), len(post_cell_dends), post_cell_offset, len(post_cell_dends) + post_cell_offset)\n",
    "        for _ in range(syn_per_conn[i, j]):\n",
    "            # done this way because it's similar to the data you will work with\n",
    "            synapses.append({\n",
    "                '@source_node': int(pregid),\n",
    "                '@target_node': int(postgid),\n",
    "                'efferent_section_id': np.random.randint(1, 1 + len(pre.axon)),\n",
    "                'afferent_section_id': np.random.randint(post_cell_offset, post_cell_offset + len(post_cell_dends)),\n",
    "                'afferent_section_pos': np.random.uniform(0, 1), \n",
    "                'efferent_section_pos': np.random.uniform(0, 1)})\n",
    "\n",
    "            \n",
    "synapses = pd.DataFrame(synapses)\n",
    "synapses"
   ]
  },
  {
   "cell_type": "code",
   "execution_count": null,
   "id": "38c7cedc-f749-457f-be4e-72f77a5be8e4",
   "metadata": {
    "tags": []
   },
   "outputs": [],
   "source": [
    "def place_synapse(pre_cell, post_cell, synapse_data):\n",
    "\n",
    "    post_segment = post_cell.all_sections[int(synapse['afferent_section_id'])](synapse['afferent_section_pos'])\n",
    "    pre_section = pre_cell.all_sections[int(synapse['efferent_section_id'])]\n",
    "    pre_segment = pre_section(synapse['efferent_section_pos'])\n",
    "    syn = h.ExpSyn(post_segment)\n",
    "    nc = h.NetCon(pre_segment._ref_v, syn, sec=pre_section)\n",
    "    nc.weight[0] = 0.5\n",
    "    nc.delay=5 # a 5ms delay gives us more interpretable results, but be aware synaptic transmission is usually a lot faster\n",
    "    pre_cell.efferent_synapses.append(syn)\n",
    "    post_cell.afferent_synapses.append(syn)\n",
    "\n",
    "    return syn, nc\n",
    "\n",
    "\n",
    "synapse_models = []\n",
    "netcons = []\n",
    "for _, synapse in synapses.iterrows():\n",
    "    source = cells[int(synapse['@source_node'])]\n",
    "    target = cells[int(synapse['@target_node'])]\n",
    "    syn, nc = place_synapse(source, target, synapse)\n",
    "    synapse_models.append(syn)\n",
    "    netcons.append(nc)"
   ]
  },
  {
   "cell_type": "code",
   "execution_count": null,
   "id": "c875147c-a374-4766-9e4d-445b4ec2149b",
   "metadata": {
    "tags": []
   },
   "outputs": [],
   "source": [
    "def run_simulation(simulation_time):\n",
    "    Vm = []\n",
    "    for cell in cells:\n",
    "        v = h.Vector()\n",
    "        v.record(cell.soma[0](0.5)._ref_v)\n",
    "        Vm.append(v)\n",
    "\n",
    "\n",
    "    time = h.Vector()\n",
    "    time.record(h._ref_t)\n",
    "\n",
    "\n",
    "    h.finitialize(-65)\n",
    "    h.load_file('stdrun.hoc')\n",
    "    h.continuerun(simulation_time)\n",
    "    return Vm, time"
   ]
  },
  {
   "cell_type": "code",
   "execution_count": null,
   "id": "8e34bfd6-fb2f-4e95-90c0-506d4bf1d792",
   "metadata": {
    "tags": []
   },
   "outputs": [],
   "source": [
    "def connectivity_plot(axis, synapses, cells_df):\n",
    "    for (pre, post), conn in synapses.reset_index().groupby(['@source_node', '@target_node'])['index'].count().items():\n",
    "        axis.plot([0, 1], [pre, post], linewidth=conn, color='red' if cells_df.loc[pre, 'morph_class'] == 'INT' else 'blue')\n",
    "    axis.set_yticks(range(len(cells_df)))\n",
    "    axis.set_xticks([])\n",
    "\n",
    "def spike_raster(Vm, time, axis):\n",
    "    for i, v in enumerate(Vm):\n",
    "        spiketimes = spike_detector(np.array(v), -20, np.array(time))\n",
    "        axis.scatter(spiketimes, [i] * len(spiketimes), marker='|', color='k')\n",
    "    axis.set_xlabel(\"time (ms)\")\n",
    "\n",
    "    \n",
    "def plot_results(Vm, time, cells_df):\n",
    "    f, axes = plt.subplots(1, 2, sharey=True, figsize=(10, 5))\n",
    "    \n",
    "    connectivity_plot(axes[0], synapses, cells_df)\n",
    "    spike_raster(Vm, time, axes[1])\n",
    "    \n",
    "    plt.ylabel('Neuron')\n",
    "    return f, axes\n",
    "\n",
    "\n",
    "def spike_detector(voltage, threshold, time):\n",
    "    # convert Neuron recording (voltage) to list\n",
    "    voltage_read = []\n",
    "    for v in voltage:\n",
    "        voltage_read.append(v)\n",
    "    # peak locations\n",
    "    spike_time, _ = find_peaks(voltage_read, height=threshold)\n",
    "    return time[spike_time]"
   ]
  },
  {
   "cell_type": "markdown",
   "id": "d6e46580-ef32-4395-9fda-ee19557c513a",
   "metadata": {},
   "source": [
    "# External stimulation\n",
    "\n",
    "We are going to add some synapses representing input from a distant brain region.\n",
    "In this case all our synapses will fire with the exact same timing: representing input from a single external cell onto multiple cells in the model.\n",
    "\n",
    "We are assuming a connection probability of 0.5"
   ]
  },
  {
   "cell_type": "code",
   "execution_count": null,
   "id": "97e6ed10-2be6-4688-90c0-00920eeb9095",
   "metadata": {
    "tags": []
   },
   "outputs": [],
   "source": [
    "simulation_time = 500\n",
    "\n",
    "stim_start = 0\n",
    "stim_end = 500\n",
    "\n",
    "external_synapses = []\n",
    "ext_netcons = []\n",
    "ext_stims = []\n",
    "connprob = 0.6\n",
    "ext_spike_trains = [] \n",
    "stimulated_nrns = []\n",
    "rate = 10 # Hz\n",
    "ext_spikes = stim_start + np.random.exponential(1000/rate, size=100).cumsum() # poisson train\n",
    "ext_spikes = ext_spikes[ext_spikes < stim_end]\n",
    "stimulated = []\n",
    "for i, cell in enumerate(cells):\n",
    "    if np.random.uniform(0, 1) > connprob:\n",
    "        continue\n",
    "    stimulated.append(i)\n",
    "    syn = h.ExpSyn(cell.soma[0](0.5))\n",
    "    stim = h.VecStim()\n",
    "    stim.play(h.Vector(ext_spikes))\n",
    "    nc = h.NetCon(stim, syn)\n",
    "    nc.weight[0] = 0.5\n",
    "    nc.delay = 0\n",
    "    external_synapses.append(syn)\n",
    "    ext_netcons.append(nc)\n",
    "    ext_stims.append(stim)\n",
    "    ext_spike_trains.append(ext_spikes)\n",
    "    stimulated_nrns.append(i)\n",
    "\n"
   ]
  },
  {
   "cell_type": "code",
   "execution_count": null,
   "id": "d88ac50e-0c5c-4343-89af-d2bee38eada5",
   "metadata": {
    "tags": []
   },
   "outputs": [],
   "source": [
    "Vm, time = run_simulation(simulation_time)\n",
    "\n",
    "f, a = plot_results(Vm, time, pd.DataFrame({'morph_class': ['PYR', 'PYR', 'INT']}))\n",
    "for i in stimulated:\n",
    "    a[1].scatter(ext_spikes, [i] * len(ext_spikes), color='r', marker='|')"
   ]
  }
 ],
 "metadata": {
  "kernelspec": {
   "display_name": "Python3",
   "language": "python",
   "name": "python3"
  },
  "language_info": {
   "codemirror_mode": {
    "name": "ipython",
    "version": 3
   },
   "file_extension": ".py",
   "mimetype": "text/x-python",
   "name": "python",
   "nbconvert_exporter": "python",
   "pygments_lexer": "ipython3",
   "version": "3.11.5"
  }
 },
 "nbformat": 4,
 "nbformat_minor": 5
}
