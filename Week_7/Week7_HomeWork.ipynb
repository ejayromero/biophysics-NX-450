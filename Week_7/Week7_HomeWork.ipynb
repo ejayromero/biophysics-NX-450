{
 "cells": [
  {
   "cell_type": "markdown",
   "metadata": {},
   "source": [
    "<center><font size = \"10\"> Week 7 - Connections <center>\n",
    "<center><font size = \"8\">Home work<center>"
   ]
  },
  {
   "cell_type": "markdown",
   "metadata": {},
   "source": [
    "<font size = \"3\">Please, write your group number and the names and surnames of the group members here\n",
    "<br>Group number: 8\n",
    "<br>Group member1: Chiara Maria Matti\n",
    "<br>Group member2: Elena Grazia Gado\n",
    "<br>Group member3: Eliser Josan Romero"
   ]
  },
  {
   "cell_type": "code",
   "execution_count": 1,
   "metadata": {
    "tags": []
   },
   "outputs": [
    {
     "name": "stderr",
     "output_type": "stream",
     "text": [
      "Warning: no DISPLAY environment variable.\n",
      "--No graphics will be displayed.\n"
     ]
    }
   ],
   "source": [
    "# Load useful packages\n",
    "import os\n",
    "from neuron import h, gui\n",
    "import numpy as np\n",
    "import math as m\n",
    "import random as rd\n",
    "import pandas as pd\n",
    "\n",
    "import matplotlib.pyplot as plt\n",
    "%matplotlib inline\n",
    "import seaborn as sns\n",
    "sns.set_style(\"darkgrid\")"
   ]
  },
  {
   "cell_type": "markdown",
   "metadata": {},
   "source": [
    "# <font color='red'> Ex1: </font> Connect all-to-all with random weights.\n",
    "\n",
    "<font size='3'>In week 3 Home Works (Morphologies) each group received a set of ten morphology files to check their quality. Each set of cells have __FIVE__ good morphology files.\n",
    "\n",
    "<font size='3'> For this exercise, connect your five cells all to all (unidirectionally) with random weights, as it is done in tutorial 01 of this week, and display the connectivity matrix with the weights.\n",
    "    \n",
    "<font color= 'red'>[1.5 pts]"
   ]
  },
  {
   "cell_type": "code",
   "execution_count": 2,
   "metadata": {
    "tags": []
   },
   "outputs": [
    {
     "data": {
      "text/plain": [
       "['../Week_3/input/group_08/morph_1.swc',\n",
       " '../Week_3/input/group_08/morph_4.swc',\n",
       " '../Week_3/input/group_08/morph_3.swc',\n",
       " '../Week_3/input/group_08/morph_0.swc',\n",
       " '../Week_3/input/group_08/morph_6.swc']"
      ]
     },
     "execution_count": 2,
     "metadata": {},
     "output_type": "execute_result"
    }
   ],
   "source": [
    "# path\n",
    "data_path = \"../Week_3/input/group_08/\"\n",
    "correct_morpho = [0, 1, 3, 4, 6]\n",
    "#get correct morpho files\n",
    "\n",
    "morph_path =[]\n",
    "for file in os.listdir(data_path):\n",
    "    for i in correct_morpho:\n",
    "        if str(i) in file:\n",
    "            morph_path.append(data_path + file)\n",
    "morph_path"
   ]
  },
  {
   "cell_type": "markdown",
   "metadata": {},
   "source": [
    "### Generating our cells of interest"
   ]
  },
  {
   "cell_type": "code",
   "execution_count": 3,
   "metadata": {
    "tags": []
   },
   "outputs": [],
   "source": [
    "class Cell:\n",
    "    def __init__(self, filename, name, cell_type):\n",
    "        self.name = name\n",
    "        self.type = cell_type\n",
    "        self.synapses = []\n",
    "        self.build_morphology(filename)\n",
    "        self.biophysics()\n",
    "        \n",
    "    def build_morphology(self, filename):\n",
    "        h.load_file('import3d.hoc')\n",
    "        h.load_file('stdlib.hoc')\n",
    "        #morph_reader = h.Import3d_Neurolucida3()\n",
    "        morph_reader = h.Import3d_SWC_read()\n",
    "        morph_reader.input(filename)\n",
    "        i3d = h.Import3d_GUI(morph_reader, 0)\n",
    "        i3d.instantiate(self) # Notice this change to be able to instantiate several cells\n",
    "    \n",
    "    def biophysics(self):\n",
    "        for sec in h.allsec():\n",
    "            sec.Ra = 100    # Axial resistance in Ohm * cm\n",
    "            sec.cm = 1      # Membrane capacitance in micro Farads / cm^2\n",
    "            sec.insert(\"pas\")\n",
    "            for seg in sec:\n",
    "                seg.pas.g = 0.00003\n",
    "                seg.pas.e = -75\n",
    "        \n",
    "        # Insert passive current in the dendrite\n",
    "        for sec in self.soma:\n",
    "            sec.insert('hh')\n",
    "            for seg in sec:\n",
    "                seg.hh.gnabar = 0.12  # Sodium conductance in S/cm2\n",
    "                seg.hh.gkbar = 0.036  # Potassium conductance in S/cm2\n",
    "        \n",
    "        if hasattr(self, 'apic'):\n",
    "            for sec in self.apic:\n",
    "                sec.insert('hh')\n",
    "                for seg in sec:\n",
    "                    seg.hh.gnabar = 0.12  # Sodium conductance in S/cm2\n",
    "                    seg.hh.gkbar = 0.036  # Potassium conductance in S/cm2\n",
    "        \n",
    "        for sec in self.dend:\n",
    "            sec.insert('hh')\n",
    "            for seg in sec:\n",
    "                seg.hh.gnabar = 0.12  # Sodium conductance in S/cm2\n",
    "                seg.hh.gkbar = 0.036  # Potassium conductance in S/cm2\n",
    "                \n",
    "        for sec in self.axon:\n",
    "            sec.insert('hh')\n",
    "            for seg in sec:    \n",
    "                seg.hh.gnabar = 0.12  # Sodium conductance in S/cm2\n",
    "                seg.hh.gkbar = 0.036  # Potassium conductance in S/cm2"
   ]
  },
  {
   "cell_type": "code",
   "execution_count": 4,
   "metadata": {
    "tags": []
   },
   "outputs": [],
   "source": [
    "# cell generation\n",
    "cells = []\n",
    "for i, morph in zip(correct_morpho, morph_path):\n",
    "    cells.append(Cell(morph,f'Morph_{i}', 'Morpho' ))"
   ]
  },
  {
   "cell_type": "code",
   "execution_count": 5,
   "metadata": {
    "tags": []
   },
   "outputs": [
    {
     "name": "stdout",
     "output_type": "stream",
     "text": [
      "Morph_0: 24 basal sections, 1 soma sections and 381 axon senctions\n",
      "Morph_1: 29 apical sections, 38 basal sections, 1 soma sections and 217 axon senctions\n",
      "Morph_3: 40 basal sections, 1 soma sections and 449 axon senctions\n",
      "Morph_4: 39 apical sections, 41 basal sections, 1 soma sections and 118 axon senctions\n",
      "Morph_6: 37 apical sections, 69 basal sections, 1 soma sections and 67 axon senctions\n"
     ]
    }
   ],
   "source": [
    "for c in cells:\n",
    "    if hasattr(c, \"apic\"):\n",
    "        print('%s: %d apical sections, %d basal sections, %d soma sections and %d axon senctions' % (c.name,len(c.apic),len(c.dend), len(c.soma), len(c.axon)))\n",
    "    else:\n",
    "        print('%s: %d basal sections, %d soma sections and %d axon senctions' % (c.name,len(c.dend), len(c.soma), len(c.axon)))"
   ]
  },
  {
   "cell_type": "markdown",
   "metadata": {},
   "source": [
    "### Connecting all to all (uni-directional) with random weigths"
   ]
  },
  {
   "cell_type": "code",
   "execution_count": 6,
   "metadata": {
    "tags": []
   },
   "outputs": [],
   "source": [
    "# returns NxN matrix of random weights in [0,1) with zero diagonal\n",
    "def random_weights(n):\n",
    "    rng = np.random.default_rng()\n",
    "    weights = rng.random((n,n))\n",
    "    np.fill_diagonal(weights,0.0)\n",
    "    return weights\n",
    "\n",
    "# connect two cells with an exponential synapse at given locations\n",
    "# returns the netcon\n",
    "def connect(source, target, weight = None, delay = 5, source_sec = None, source_neurite = 'axon', target_sec = None, target_neurite = 'dend'):\n",
    "    rng = np.random.default_rng()\n",
    "    \n",
    "    if weight is None:\n",
    "        weight = rng.uniform() # random weight\n",
    "    \n",
    "    target_neurite_ = getattr(target, target_neurite)\n",
    "    if target_sec is None:\n",
    "        target_sec = rng.integers(0,len(target_neurite_)) # random dendritic section\n",
    "    \n",
    "    source_neurite_ = getattr(source, source_neurite)\n",
    "    if source_sec is None:\n",
    "        source_sec = rng.integers(0,len(source_neurite_)) # random axonal section\n",
    "    \n",
    "    target_syn = h.ExpSyn(target_neurite_[target_sec](0.5))\n",
    "    target.synapses.append(target_syn) # store synapse\n",
    "    \n",
    "    netcon = h.NetCon(source_neurite_[source_sec](0.5)._ref_v, target_syn, sec=source_neurite_[source_sec])\n",
    "    netcon.weight[0] = weight\n",
    "    netcon.delay = delay\n",
    "    \n",
    "    print('Connected cells %s -> %s with weight %g and delay %g, from %s[%d] to %s[%d]' % (source.name,target.name,weight,delay,source_neurite,source_sec,target_neurite,target_sec))\n",
    "    return netcon\n",
    "\n",
    "# form unidirectional pairs\n",
    "def connect_all(X, weight_matrix):\n",
    "    connections = {}\n",
    "    for i, x_i in enumerate(X):\n",
    "        for j, x_j in enumerate(X):\n",
    "            if i != j:  # To avoid connecting x_i to itself\n",
    "                if x_i not in connections:\n",
    "                    connections[x_i] = set()\n",
    "                connections[x_i].add(x_j)  # Connect x_i to x_j\n",
    "\n",
    "    for x, connected_nodes in connections.items():\n",
    "        for node in connected_nodes:\n",
    "            weight = weight_matrix[X.index(x)][X.index(node)]\n",
    "            connect(x, node, weight)  # Perform the connection using the function f and weight\n"
   ]
  },
  {
   "cell_type": "code",
   "execution_count": 7,
   "metadata": {
    "tags": []
   },
   "outputs": [
    {
     "name": "stdout",
     "output_type": "stream",
     "text": [
      "Connected cells Morph_0 -> Morph_1 with weight 0.284992 and delay 5, from axon[63] to dend[32]\n",
      "Connected cells Morph_0 -> Morph_3 with weight 0.319551 and delay 5, from axon[72] to dend[28]\n",
      "Connected cells Morph_0 -> Morph_6 with weight 0.255876 and delay 5, from axon[90] to dend[24]\n",
      "Connected cells Morph_0 -> Morph_4 with weight 0.047198 and delay 5, from axon[232] to dend[15]\n",
      "Connected cells Morph_1 -> Morph_4 with weight 0.624891 and delay 5, from axon[55] to dend[6]\n",
      "Connected cells Morph_1 -> Morph_3 with weight 0.225584 and delay 5, from axon[119] to dend[13]\n",
      "Connected cells Morph_1 -> Morph_0 with weight 0.0839261 and delay 5, from axon[55] to dend[20]\n",
      "Connected cells Morph_1 -> Morph_6 with weight 0.990989 and delay 5, from axon[7] to dend[51]\n",
      "Connected cells Morph_3 -> Morph_1 with weight 0.668082 and delay 5, from axon[128] to dend[5]\n",
      "Connected cells Morph_3 -> Morph_0 with weight 0.451577 and delay 5, from axon[317] to dend[1]\n",
      "Connected cells Morph_3 -> Morph_6 with weight 0.295852 and delay 5, from axon[58] to dend[10]\n",
      "Connected cells Morph_3 -> Morph_4 with weight 0.812816 and delay 5, from axon[183] to dend[30]\n",
      "Connected cells Morph_4 -> Morph_1 with weight 0.784582 and delay 5, from axon[90] to dend[11]\n",
      "Connected cells Morph_4 -> Morph_3 with weight 0.335797 and delay 5, from axon[51] to dend[27]\n",
      "Connected cells Morph_4 -> Morph_0 with weight 0.819858 and delay 5, from axon[99] to dend[5]\n",
      "Connected cells Morph_4 -> Morph_6 with weight 0.1493 and delay 5, from axon[25] to dend[21]\n",
      "Connected cells Morph_6 -> Morph_1 with weight 0.889378 and delay 5, from axon[64] to dend[16]\n",
      "Connected cells Morph_6 -> Morph_3 with weight 0.97001 and delay 5, from axon[28] to dend[14]\n",
      "Connected cells Morph_6 -> Morph_0 with weight 0.0442678 and delay 5, from axon[45] to dend[7]\n",
      "Connected cells Morph_6 -> Morph_4 with weight 0.693302 and delay 5, from axon[30] to dend[39]\n"
     ]
    }
   ],
   "source": [
    "# connecting all 5 cells\n",
    "weight_matrix = random_weights(5)\n",
    "connect_all(cells, weight_matrix)"
   ]
  },
  {
   "cell_type": "markdown",
   "metadata": {},
   "source": [
    "### Testing connectivity"
   ]
  },
  {
   "cell_type": "code",
   "execution_count": 8,
   "metadata": {
    "tags": []
   },
   "outputs": [],
   "source": [
    "def stimulation(cell1, cell2, dend_num = 1, n_stim = 10, start = 10, delay = 10, weight= 0.8): \n",
    "    stim_cell = cell1\n",
    "    stim_syn = h.ExpSyn(stim_cell.dend[dend_num](0.5))\n",
    "    stim = h.NetStim() # Make a new stimulator\n",
    "    ncstim = h.NetCon(stim, stim_syn) # Connect stimulator to synapse\n",
    "\n",
    "    stim.number = n_stim # Number of spikes (average)\n",
    "    stim.start = start # First spike delay [ms]\n",
    "    ncstim.delay = delay # NetCon ms\n",
    "    ncstim.weight[0] = weight # NetCon weight\n",
    "\n",
    "    recording_cell = cell2\n",
    "\n",
    "    soma_v = h.Vector().record(recording_cell.soma[0](0.5)._ref_v)\n",
    "    dend_v = h.Vector().record(recording_cell.dend[dend_num](0.5)._ref_v)\n",
    "    time = h.Vector().record(h._ref_t)\n",
    "\n",
    "    h.finitialize(-65)\n",
    "    h.continuerun(100)\n",
    "\n",
    "    fig, ax = plt.subplots()\n",
    "\n",
    "    ax.plot(time, soma_v, label='soma(0.5)')\n",
    "    ax.plot(time, dend_v,  label='dend(0.5)')\n",
    "\n",
    "    ax.set_title(\"Cell response to synapse stimuli\", fontsize = 15)\n",
    "    ax.set_xlabel(\"Time (ms)\", fontsize = 12)\n",
    "    ax.set_ylabel(\"Voltage (mV)\", fontsize = 12)\n",
    "    ax.legend(loc='upper right')\n",
    "\n",
    "    plt.show()"
   ]
  },
  {
   "cell_type": "code",
   "execution_count": 9,
   "metadata": {
    "tags": []
   },
   "outputs": [
    {
     "data": {
      "image/png": "[encoded data removed]",
      "text/plain": [
       "<Figure size 640x480 with 1 Axes>"
      ]
     },
     "metadata": {},
     "output_type": "display_data"
    }
   ],
   "source": [
    "stimulation(cells[0],cells[4], dend_num = 19, n_stim = 10, start = 10, delay = 10, weight= 0.8)"
   ]
  },
  {
   "cell_type": "markdown",
   "metadata": {},
   "source": [
    "### Weight matrix connection"
   ]
  },
  {
   "cell_type": "code",
   "execution_count": 10,
   "metadata": {
    "tags": []
   },
   "outputs": [],
   "source": [
    "def plot_heatmap(weight_mat, cell_lab):\n",
    "    \"\"\"\n",
    "    Create a heatmap from a pandas DataFrame.\n",
    "\n",
    "    Parameters\n",
    "    ----------\n",
    "    weight_mat\n",
    "        A 2D numpy array of shape (N, M).\n",
    "    cell_lab\n",
    "        A list or array of length N with the cell labels\n",
    "        \n",
    "    \"\"\"\n",
    "    df = pd.DataFrame(weight_mat, columns= cell_lab, index= cell_lab)\n",
    "    \n",
    "    plt.figure()\n",
    "    ax = sns.heatmap(df, annot=True, linewidths=0.1, vmax=1)\n",
    "    ax.xaxis.tick_top()\n",
    "    ax.set_title(\"Connection weight matrix\", fontsize = 15)\n",
    "    ax.collections[0].colorbar.set_label(\"Connection weights\")\n",
    "    plt.tight_layout()\n",
    "    plt.show()"
   ]
  },
  {
   "cell_type": "code",
   "execution_count": 11,
   "metadata": {
    "tags": []
   },
   "outputs": [
    {
     "data": {
      "image/png": "[encoded data removed]",
      "text/plain": [
       "<Figure size 640x480 with 2 Axes>"
      ]
     },
     "metadata": {},
     "output_type": "display_data"
    }
   ],
   "source": [
    "cell_label = []\n",
    "for c in cells:\n",
    "    cell_label.append(c.name)\n",
    "cell_label\n",
    "\n",
    "plot_heatmap(weight_matrix, cell_label)"
   ]
  },
  {
   "cell_type": "markdown",
   "metadata": {
    "tags": []
   },
   "source": [
    "### **Grading**: \n",
    "- <font color= 'red'>[0.5 pts]</font> for a clear setup of all the functions you need\n",
    "- <font color= 'red'>[0.5 pts]</font> for a step by step process loading cells and connecting them\n",
    "- <font color= 'red'>[0.5 pts]</font> for connection weights plot, with labels and legend"
   ]
  },
  {
   "cell_type": "markdown",
   "metadata": {},
   "source": [
    "# <font color='red'> Ex2: </font> Connect your cells considering connection probability\n",
    "\n",
    "<font size='3'> Connect your five cells as it is done in tutorial 02, considering the following connection probabilities between cell types:<br>\n",
    "<br> PC - PC: 65 %\n",
    "<br> PC - Inh: 23 %\n",
    "<br> Inh - PC: 41 %\n",
    "<br> Inh - Inh: 36 %\n",
    "\n",
    "<font size='3'> Then show the results on a probability matrix.\n",
    "    \n",
    "<font color= 'red'>[1 pt]"
   ]
  },
  {
   "cell_type": "markdown",
   "metadata": {
    "tags": []
   },
   "source": [
    "### **Grading**: \n",
    "- <font color= 'red'>[0.5 pts]</font> for a step by step process loading cells and connecting them\n",
    "- <font color= 'red'>[0.5 pts]</font> for probability matrix plot"
   ]
  },
  {
   "cell_type": "markdown",
   "metadata": {},
   "source": [
    "# <font color='red'> Ex3: </font> Distribution of contacts: Convergence Matrix\n",
    "\n",
    "<font size='3'> Consider the following mean contact points between cell types: \n",
    "<br> PC_axon - PC_basal: 4\n",
    "<br> PC_axon - PC_apical: 1.5\n",
    "<br> PC_axon - Inh_basal: 3\n",
    "<br> Inh_axon - PC_soma: 3.5\n",
    "<br> Inh_axon - PC_basal: 2\n",
    "<br> Inh_axon - Inh_soma: 4\n",
    "<br> Inh_axon - Inh_basal: 1.6\n",
    "\n",
    "<font size='3'> Connect your cells by selecting the contact points from a normal distribution with a specific mean value per connection (values above). \n",
    "    \n",
    "<font size='3'> Show the results on a __convergence__ matrix (how many contacts each of the cells receives from the others). \n",
    "    \n",
    "<font color= 'red'>[2 pts]"
   ]
  },
  {
   "cell_type": "markdown",
   "metadata": {},
   "source": [
    "### **Grading**: \n",
    "- <font color= 'red'>[1 pt]</font> for correct cell connections\n",
    "- <font color= 'red'>[1 pt]</font> for the convergence matrix plot, with labels and legend"
   ]
  },
  {
   "cell_type": "markdown",
   "metadata": {},
   "source": [
    "# <font color='red'> Ex4: </font>  Real Connectivity Rules\n",
    "\n",
    "<font size='3'> Imagine that you have to build a network with your five cells (3 pyramidals and 2 GABAergic interneurons) from rat somatosensory cortex. <br> In this situation you'd have to extract real connectivity rules for articles and decide how you can use them as parameters.\n",
    "    \n",
    "<font size='3'> For this exercise read the short Gupta et al. (2000) paper provided and digest it, writing below all the points that seem important when thinking about connectivity rules for various Int --> Int and Int --> Pyr.\n",
    "    \n",
    "<font size='3'> Use a mix of bullet points and complete sentences to summarise and comment every piece of information. Take some time with expressing your ideas precisely and concisely. Consider it exam practice.    \n",
    "    \n",
    "<font color= 'red'> [1.5 pts]\n",
    "    \n",
    "<font size='3'> _Hint_: If you need help, you can follow these points:\n",
    "    1) give an overview of the paper and the parameters they report\n",
    "    2) what is the overall connection probability for the cells they are examining?\n",
    "    3) what are the three different classes of GABAergic synapses they observed?\n",
    "    4) what are the three principles of synapse formation they mention?"
   ]
  },
  {
   "cell_type": "markdown",
   "metadata": {},
   "source": [
    "### **Grading levels**: \n",
    "- <font color= 'red'>[1.5 pts]</font> if summary contains >80% of the points in the reference answer, well organised\n",
    "- <font color= 'red'>[1.2 pts]</font> if summary contains ~70% of the points in the reference answer\n",
    "- <font color= 'red'>[0.8 pts]</font> if summary contains ~50% of the points in the reference answer\n",
    "- <font color= 'red'>[0.4 pts]</font> if summary contains <30% of the points in the reference answer"
   ]
  }
 ],
 "metadata": {
  "kernelspec": {
   "display_name": "Python3",
   "language": "python",
   "name": "python3"
  },
  "language_info": {
   "codemirror_mode": {
    "name": "ipython",
    "version": 3
   },
   "file_extension": ".py",
   "mimetype": "text/x-python",
   "name": "python",
   "nbconvert_exporter": "python",
   "pygments_lexer": "ipython3",
   "version": "3.11.5"
  }
 },
 "nbformat": 4,
 "nbformat_minor": 4
}
