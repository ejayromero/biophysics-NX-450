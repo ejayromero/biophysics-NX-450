{
 "cells": [
  {
   "cell_type": "markdown",
   "metadata": {},
   "source": [
    "<center><font size = \"10\"> Week 8 - Synapses<center>\n",
    "<center><font size = \"8\">Tutorial 02: Tsodyks-Markram model<center>"
   ]
  },
  {
   "cell_type": "markdown",
   "metadata": {},
   "source": [
    "<font size='3'><font color='blue'> In this tutorial you will use an AMPA and NMDA model of glutamate receptors augmented with a model of synapse dynamics, the Tsodyks-Markram model. \n",
    "    \n",
    "<font size='3'><font color='blue'>You will learn how to implement the mathematical formulations into the MOD file and you will get a deeper understanding of this widely used formulation of synapse dynamics with a simplified and real morphologies."
   ]
  },
  {
   "cell_type": "markdown",
   "metadata": {},
   "source": [
    "## Some useful definitions and concepts:\n",
    "\n",
    "- Short-term plasticity: short-term (order of 10s or 100s of milliseconds) changes in the efficacy of a synapse.\n",
    "\n",
    "- Short-term facilitation: increase in synaptic efficacy. \n",
    "\n",
    "- Short-term depression: decreases in synaptic efficacy. \n",
    "\n",
    "One of the main mechanisms of short-term facilitation is transient increases in release probability of neurotransmitter-containing vesicles (due to increased presynaptic calcium concentration). Conversely, when many vesicles are released there will be fewer to release until the synapse has had a chance to replenish them, leading to short-term depression. \n",
    "\n",
    "This adds nonlinearities to the effects of individual synapses: for example, synapses which undergo short-term facilitation are much more effective at high firing rates than synapses which undergo short-term depression. The Tsodyks-Markram model captures these dynamics by modeling vesicle release.\n",
    "    \n",
    "*Slides: 24 - 27 of week 8 lecture"
   ]
  },
  {
   "cell_type": "markdown",
   "metadata": {},
   "source": [
    "### Compile MOD files"
   ]
  },
  {
   "cell_type": "code",
   "execution_count": null,
   "metadata": {},
   "outputs": [],
   "source": [
    "!nrnivmodl"
   ]
  },
  {
   "cell_type": "markdown",
   "metadata": {},
   "source": [
    "### Load the modules and hoc files that will be used"
   ]
  },
  {
   "cell_type": "code",
   "execution_count": null,
   "metadata": {},
   "outputs": [],
   "source": [
    "import neuron\n",
    "from neuron import h\n",
    "import numpy as np\n",
    "import matplotlib.pyplot as plt\n",
    "\n",
    "%matplotlib inline\n",
    "\n",
    "# Load external files & initialize\n",
    "neuron.h.load_file(\"stdrun.hoc\")\n",
    "neuron.h.stdinit()"
   ]
  },
  {
   "cell_type": "markdown",
   "metadata": {},
   "source": [
    "## 1. A simple neuron to host your synapse\n",
    "\n",
    "<font size='3'>Following the previous tutorial, we will create a single compartment soma neuron to host the synapse."
   ]
  },
  {
   "cell_type": "code",
   "execution_count": null,
   "metadata": {},
   "outputs": [],
   "source": [
    "# Define cell shape\n",
    "soma = neuron.h.Section()\n",
    "soma.L = 40\n",
    "soma.diam = 40\n",
    "soma.insert(\"pas\")"
   ]
  },
  {
   "cell_type": "code",
   "execution_count": null,
   "metadata": {},
   "outputs": [],
   "source": [
    "# Configure the passive biophysics\n",
    "for sec in h.allsec():\n",
    "    sec.Ra = 100\n",
    "    sec.cm = 1"
   ]
  },
  {
   "cell_type": "markdown",
   "metadata": {},
   "source": [
    "<font size='3'>Create the synapse at the center of the soma compartment"
   ]
  },
  {
   "cell_type": "code",
   "execution_count": null,
   "metadata": {},
   "outputs": [],
   "source": [
    "synapse = h.TsodyksMarkram_AMPA_NMDA(soma(0.5))"
   ]
  },
  {
   "cell_type": "markdown",
   "metadata": {},
   "source": [
    "### Define the stimulus:\n",
    "\n",
    "<font size='3'> 8 spikes at 20Hz + 1 spike 500 ms later"
   ]
  },
  {
   "cell_type": "code",
   "execution_count": null,
   "metadata": {},
   "outputs": [],
   "source": [
    "stimulator = h.VecStim()\n",
    "spike_times = [100.0, 150.0, 200.0, 250.0, 300.0, 350.0, 400.0, 450.0, 950.0]\n",
    "spikes_vector = h.Vector(spike_times)\n",
    "stimulator.play(spikes_vector)\n",
    "\n",
    "connection = h.NetCon(stimulator, synapse)\n",
    "connection.weight[0] = 1.0  # In units of [nS] due to the gmax scaling factor in our .mod file"
   ]
  },
  {
   "cell_type": "markdown",
   "metadata": {},
   "source": [
    "### Create a recorder for the synaptic conductance, current, the soma voltage, and the time intervals"
   ]
  },
  {
   "cell_type": "code",
   "execution_count": null,
   "metadata": {},
   "outputs": [],
   "source": [
    "g_syn = h.Vector()\n",
    "g_syn.record(synapse._ref_g)\n",
    "i_syn = h.Vector()\n",
    "i_syn.record(synapse._ref_i)\n",
    "v_soma = h.Vector()\n",
    "v_soma.record(soma(0.5)._ref_v)\n",
    "time = h.Vector()\n",
    "time.record(neuron.h._ref_t)\n",
    "R_syn = h.Vector()\n",
    "R_syn.record(synapse._ref_R)\n",
    "Use_syn = h.Vector()\n",
    "Use_syn.record(synapse._ref_Use)"
   ]
  },
  {
   "cell_type": "markdown",
   "metadata": {},
   "source": [
    "### AMPA and NMDA conductances\n",
    "\n",
    "<font size='3'>Let's configure biologically plausible values for the AMPA and NMDA model parameters"
   ]
  },
  {
   "cell_type": "code",
   "execution_count": null,
   "metadata": {
    "scrolled": true
   },
   "outputs": [],
   "source": [
    "synapse.gmax_AMPA = 0.002  # uS\n",
    "synapse.gmax_NMDA = (0.7 * 0.002)  # uS 0.7 is a biologically typical ratio of NMDA to AMPA conductance\n",
    "synapse.mg = 1.0  # mM"
   ]
  },
  {
   "cell_type": "markdown",
   "metadata": {
    "tags": []
   },
   "source": [
    "### Facilitating synapse: E1 \n",
    "(according to [Markarm et al., 1997](https://www.pnas.org/doi/10.1073/pnas.94.2.719))\n",
    "\n",
    "<font size='3'>Now let's configure parameters for facilitating synapse dynamics (E1), and simulate it. E1 type synapses have a small baseline release probability (U1), a shorter recovery time from depression (tau_rec), and a larger relaxation time of facilitation (tau_facil). This means that  the synapse does not easily run short of vesicles and the probability of vesicle release rises steadily with repeated synapse firing.\n",
    "    \n",
    "*Slides: 40 - 49 of week8 lecture"
   ]
  },
  {
   "cell_type": "code",
   "execution_count": null,
   "metadata": {
    "tags": []
   },
   "outputs": [],
   "source": [
    "synapse.U1 = 0.2  # Baseline release probability\n",
    "synapse.tau_rec = 10  # ms - recovery from depression\n",
    "synapse.tau_facil = 200  # ms - relaxation from facilitation\n",
    "\n",
    "h.tstop = 1000.0  # ms\n",
    "neuron.h.run()"
   ]
  },
  {
   "cell_type": "code",
   "execution_count": null,
   "metadata": {},
   "outputs": [],
   "source": [
    "# plot how the post-synaptic EPSPs look like \n",
    "plt.figure()\n",
    "plt.plot(time, v_soma)\n",
    "plt.axis([0, 1000, -70, -69.0])"
   ]
  },
  {
   "cell_type": "markdown",
   "metadata": {},
   "source": [
    "<font size = \"3\">Let's see how the fraction of available resources (R) and the Use of resources as well as\n",
    "the conductivity (g) behave during the stimulation"
   ]
  },
  {
   "cell_type": "code",
   "execution_count": null,
   "metadata": {},
   "outputs": [],
   "source": [
    "plt.figure()\n",
    "plt.plot(time, R_syn, label=\"$R$ - frac. of pool avail.\")\n",
    "plt.plot(time, Use_syn, label=\"$U_{SE}$ - running rel. prob.\")\n",
    "plt.legend()\n",
    "plt.axis([0, 1000, 0, 1.5])\n",
    "\n",
    "plt.figure()\n",
    "plt.plot(time, g_syn, label=\"$g_{syn}$\")\n",
    "plt.legend()"
   ]
  },
  {
   "cell_type": "markdown",
   "metadata": {},
   "source": [
    "## 2. Real neurons forming synapses."
   ]
  },
  {
   "cell_type": "markdown",
   "metadata": {},
   "source": [
    "### Depressing synapse: E2\n",
    "(according to [Markarm et al., 1997](https://www.pnas.org/doi/10.1073/pnas.94.2.719))\n",
    "\n",
    "<font size='3'>Now, let's configure a depressing synapse (E2) connecting two real morphologies.  E2 type synapses have a higher baseline release probability (U1), a longer recovery time from depression (tau_rec), and a very short relaxation time of facilitation (tau_facil). This means that the synapse runs out of vesicles fairly quickly and the probability of releasing vesicles increases for only a short time.\n",
    "\n",
    "The parameters in \"TsodyksMarkram_AMPA_NMDA.mod\" default to this kind of synapse\n",
    "    \n",
    "*Slides: 40 - 49 of week8 lecture"
   ]
  },
  {
   "cell_type": "markdown",
   "metadata": {},
   "source": [
    "### 2.1 Define a Cell class and instanciate the real morphologies "
   ]
  },
  {
   "cell_type": "code",
   "execution_count": null,
   "metadata": {},
   "outputs": [],
   "source": [
    "# First, we have to define Cell class with specific channel behavior\n",
    "\n",
    "class Cell:\n",
    "    def __init__(self, filename, name, cell_type):\n",
    "        self.name = name\n",
    "        self.type = cell_type\n",
    "        self.synapses = []\n",
    "        self.build_morphology(filename)\n",
    "        self.biophysics()\n",
    "        \n",
    "    def build_morphology(self, filename):\n",
    "        \"\"\"\n",
    "        Loads a 3D morphology of the neuron\n",
    "        \"\"\"\n",
    "        h.load_file(\"import3d.hoc\")\n",
    "        h.load_file(\"stdlib.hoc\")\n",
    "        morph_reader = h.Import3d_Neurolucida3()\n",
    "        #morph_reader = h.Import3d_SWC_read()\n",
    "        morph_reader.input(filename)\n",
    "        i3d = h.Import3d_GUI(morph_reader, 0)\n",
    "        i3d.instantiate(self)  # Notice this change to be able to instantiate several cells\n",
    "\n",
    "        # Create python lists from the morphology with the different sections: soma, dend, apic and axon\n",
    "        self.somatic = []\n",
    "        self.basal = []\n",
    "        self.apical = []\n",
    "        #self.axonal = [] # for the moment we will forget about the axon\n",
    "        self.all = []\n",
    "        for sec in h.allsec():\n",
    "            #print (sec)\n",
    "            if 'soma' in sec.name():\n",
    "                self.somatic.append(sec)\n",
    "            if 'dend' in sec.name():\n",
    "                self.basal.append(sec)\n",
    "            if 'apic' in sec.name():\n",
    "                self.apical.append(sec)\n",
    "            #if 'axon' in sec.name():\n",
    "            #    self.axonal.append(sec)\n",
    "    \n",
    "    def biophysics(self):\n",
    "        \"\"\"\n",
    "        Distributes passive mechanisms and the different types\n",
    "        of ion channels on the soma and dendrites\n",
    "        \"\"\"\n",
    "        # Define passive properties\n",
    "        # You can try to change the passice properties and see what happens\n",
    "        for sec in h.allsec():\n",
    "            sec.Ra = 100\n",
    "            sec.cm = 1\n",
    "            sec.insert(\"pas\")\n",
    "            for seg in sec:\n",
    "                seg.pas.g = 0.00003\n",
    "                seg.pas.e = -75\n",
    "                \n",
    "        # Define active properties for soma and dendrites (basal and apical)\n",
    "        for sec in self.somatic:\n",
    "            sec.insert('NaTs2_t')\n",
    "            for seg in sec:\n",
    "                seg.gNaTs2_tbar_NaTs2_t = 0.25 \n",
    "            sec.insert('SK_E2')\n",
    "            for seg in sec:\n",
    "                seg.gSK_E2bar_SK_E2 = 0.01\n",
    "            sec.insert('SKv3_1') \n",
    "            for seg in sec:\n",
    "                seg.gSKv3_1bar_SKv3_1 = 0.1\n",
    "          \n",
    "        for sec in self.apical:\n",
    "            sec.insert('NaTs2_t')\n",
    "            for seg in sec:\n",
    "                seg.gNaTs2_tbar_NaTs2_t = 0.25 \n",
    "            sec.insert('SK_E2')\n",
    "            for seg in sec:\n",
    "                seg.gSK_E2bar_SK_E2 = 0.01\n",
    "            sec.insert('SKv3_1') \n",
    "            for seg in sec:\n",
    "                seg.gSKv3_1bar_SKv3_1 = 0.1\n",
    "        \n",
    "        for sec in self.basal:\n",
    "            sec.insert('NaTs2_t')\n",
    "            for seg in sec:\n",
    "                seg.gNaTs2_tbar_NaTs2_t = 0.25 \n",
    "            sec.insert('SK_E2')\n",
    "            for seg in sec:\n",
    "                seg.gSK_E2bar_SK_E2 = 0.01\n",
    "            sec.insert('SKv3_1') \n",
    "            for seg in sec:\n",
    "                seg.gSKv3_1bar_SKv3_1 = 0.1"
   ]
  },
  {
   "cell_type": "code",
   "execution_count": null,
   "metadata": {},
   "outputs": [],
   "source": [
    "# Second, we can instantiate the Cells that we will use for the simulation.\n",
    "\n",
    "path_pyr1 = \"morphologies/dend-C261296A-P1_axon-C060114A4_-_Scale_x1.000_y0.975_z1.000.asc\"\n",
    "path_pyr2 = \"morphologies/dend-vd111221_idB_axon-vd110330_idB_-_Scale_x1.000_y1.050_z1.000.asc\"\n",
    "\n",
    "Pyr1 = Cell(path_pyr1, \"Pyr1\", \"Pyr\")\n",
    "Pyr2 = Cell(path_pyr2, \"Pyr2\", \"Pyr\")"
   ]
  },
  {
   "cell_type": "code",
   "execution_count": null,
   "metadata": {},
   "outputs": [],
   "source": [
    "# Just for curiosity, let's check which sections formed these cells.\n",
    "\n",
    "cells_Pyr = [Pyr1, Pyr2]\n",
    "\n",
    "for c in cells_Pyr:\n",
    "    print(\n",
    "        \"%s: %d apical sections, %d basal sections, %d soma sections and %d axon sections\"\n",
    "        % (c.name, len(c.apic), len(c.dend), len(c.soma), len(c.axon))\n",
    "    )"
   ]
  },
  {
   "cell_type": "markdown",
   "metadata": {},
   "source": [
    "### 2.2 Connect the cells \n",
    "The connect function establishes a synapse between a random neurite on the source cell, and a random dendrite on the target cell."
   ]
  },
  {
   "cell_type": "code",
   "execution_count": null,
   "metadata": {},
   "outputs": [],
   "source": [
    "# Third, we can connect the two cells with an TM synapse at given locations\n",
    "# This function returns the netcon\n",
    "\n",
    "def connect(\n",
    "    source,\n",
    "    target,\n",
    "    weight=None,\n",
    "    delay=5,\n",
    "    source_sec=None,\n",
    "    source_neurite=\"axon\",\n",
    "    target_sec=None,\n",
    "    target_neurite=\"dend\",\n",
    "    ):\n",
    "    rng = np.random.default_rng()\n",
    "\n",
    "    if weight is None:\n",
    "        weight = rng.uniform()  # random weight\n",
    "\n",
    "    target_neurite_ = getattr(target, target_neurite)\n",
    "    if target_sec is None:\n",
    "        target_sec = rng.integers(0, len(target_neurite_))  # random dendritic section\n",
    "\n",
    "    source_neurite_ = getattr(source, source_neurite)\n",
    "    if source_sec is None:\n",
    "        source_sec = rng.integers(0, len(source_neurite_))  # random axonal section\n",
    "    \n",
    "    # HERE WE INTRODUCE THE SYNAPTIC MECHANISM !!!!!!!\n",
    "    target_syn = h.TsodyksMarkram_AMPA_NMDA(target_neurite_[target_sec](0.5))\n",
    "    target_syn.gmax_AMPA = 0.002  # uS\n",
    "    target_syn.gmax_NMDA = (0.7 * 0.002)  # uS 0.7 is a biologically typical ratio of NMDA to AMPA conductance\n",
    "    target.synapses.append(target_syn)  # store synapse\n",
    "\n",
    "    netcon = h.NetCon(\n",
    "        source_neurite_[source_sec](0.5)._ref_v,\n",
    "        target_syn,\n",
    "        sec=source_neurite_[source_sec],\n",
    "    )\n",
    "    netcon.weight[0] = weight\n",
    "\n",
    "    print(\n",
    "        f\"Connected cells {source.name} -> {target.name} with weight {weight} and delay {delay}, from {source_neurite}[{source_sec}] to {target_neurite}[{target_sec}]\"\n",
    "    )\n",
    "\n",
    "    return netcon"
   ]
  },
  {
   "cell_type": "code",
   "execution_count": null,
   "metadata": {},
   "outputs": [],
   "source": [
    "# Now we connect Pyr1 to Pyr2 by executing the previous function\n",
    "# We create 5 randomly connected dendo-dendritic connections\n",
    "# yes, most synapses usually form axon-to-dendrite, but dendro-dendritic synapses exist as well.\n",
    "\n",
    "nc1 = connect(Pyr1, Pyr2, weight=1.0, source_neurite = \"dend\")\n",
    "nc2 = connect(Pyr1, Pyr2, weight=1.0, source_neurite = \"dend\")\n",
    "nc3 = connect(Pyr1, Pyr2, weight=1.0, source_neurite = \"dend\")\n",
    "nc4 = connect(Pyr1, Pyr2, weight=1.0, source_neurite = \"dend\")\n",
    "nc5 = connect(Pyr1, Pyr2, weight=1.0, source_neurite = \"dend\")"
   ]
  },
  {
   "cell_type": "markdown",
   "metadata": {},
   "source": [
    "### 2.3. Run the simulation"
   ]
  },
  {
   "cell_type": "code",
   "execution_count": null,
   "metadata": {},
   "outputs": [],
   "source": [
    "# first we create a stimulation vector with the times of the stimulation.\n",
    "stimulator = h.VecStim()\n",
    "spike_times = [100.0, 150.0, 200.0, 250.0, 300.0, 350.0, 400.0, 450.0, 950.0] # ms\n",
    "spikes_vector = h.Vector(spike_times)\n",
    "stimulator.play(spikes_vector)\n",
    "\n",
    "# We want to stimulate the pre-cell and see the effet on the post-cell.\n",
    "# For this we add an exponential synapse (h.ExpSyn mechanism) stimulating the soma of the pre-cell\n",
    "# There are different mechanisms that you can use for that, like h.IClamp.\n",
    "stim_place1 = h.ExpSyn(Pyr1.soma[0](0.5))\n",
    "stim_place1.tau = 2  # ms\n",
    "\n",
    "# Add stimulator to synapses\n",
    "connection1 = h.NetCon(stimulator, stim_place1)\n",
    "connection1.weight[0] = 0.5  # In units of [nS] due to the gmax scaling factor in our .mod file"
   ]
  },
  {
   "cell_type": "code",
   "execution_count": null,
   "metadata": {},
   "outputs": [],
   "source": [
    "# record voltage at pre and post-cell somas and plot them\n",
    "soma_v1 = h.Vector().record(Pyr1.soma[0](0.5)._ref_v)\n",
    "soma_v2 = h.Vector().record(Pyr2.soma[0](0.5)._ref_v)\n",
    "\n",
    "#record time\n",
    "time = h.Vector().record(h._ref_t)\n",
    "\n",
    "# run simulation\n",
    "h.finitialize(-65)\n",
    "h.continuerun(1200)"
   ]
  },
  {
   "cell_type": "code",
   "execution_count": null,
   "metadata": {},
   "outputs": [],
   "source": [
    "# Plot pre and post-cells voltage traces\n",
    "plt.figure(figsize=(15, 5))\n",
    "plt.plot(time, soma_v1, label=\"pre\", color=\"blue\")\n",
    "plt.plot(time, soma_v2, label=\"post\", color=\"red\")\n",
    "plt.legend()\n",
    "plt.show()"
   ]
  },
  {
   "cell_type": "code",
   "execution_count": null,
   "metadata": {},
   "outputs": [],
   "source": [
    "# Plot only post-cell voltage trace\n",
    "time_arr = np.array(time)\n",
    "soma_v2_arr = np.array(soma_v2)\n",
    "\n",
    "print(time_arr.shape)\n",
    "\n",
    "plt.figure(figsize=(15, 5))\n",
    "plt.plot(time_arr[4000:], soma_v2_arr[4000:], label=\"post\", color=\"red\")\n",
    "plt.legend()\n",
    "plt.show()"
   ]
  }
 ],
 "metadata": {
  "kernelspec": {
   "display_name": "Python3",
   "language": "python",
   "name": "python3"
  },
  "language_info": {
   "codemirror_mode": {
    "name": "ipython",
    "version": 3
   },
   "file_extension": ".py",
   "mimetype": "text/x-python",
   "name": "python",
   "nbconvert_exporter": "python",
   "pygments_lexer": "ipython3",
   "version": "3.11.5"
  }
 },
 "nbformat": 4,
 "nbformat_minor": 4
}
