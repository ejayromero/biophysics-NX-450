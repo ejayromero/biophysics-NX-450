{
 "cells": [
  {
   "cell_type": "markdown",
   "metadata": {},
   "source": [
    "<center><font size = \"10\"> Week 8 - Synapses<center>\n",
    "<center><font size = \"8\">Tutorial 01: NMDA and AMPA model<center>"
   ]
  },
  {
   "cell_type": "markdown",
   "metadata": {},
   "source": [
    "<font size='3'><font color='blue'> In this tutorial you will see how to:\n",
    "    \n",
    "<font size='3'><font color='blue'> - create a synapse model of AMPA and NMDA glutamate receptors described in a MOD file.\n",
    "    \n",
    "<font size='3'><font color='blue'> - integrate the synaptic models into a simple neuron.\n",
    "    \n",
    "<font size='3'><font color='blue'> - make simulations to understand NMDA and AMPA receptors mechanisms\n",
    "    \n",
    "AMPA receptors are ion channels activated by glutamate, they hyperpolarize the cell and open and close quickly (low time constant).\n",
    "NMDA receptors are likewise hyperpolarizing and activated by glutamate, but their dynamics are slower and their opening/closing is affected by membrane potential as well as the presence of glutamate.\n",
    "\n",
    "Glutamate is the neurotransmitter produced by many of the cells in the brain, and as the ion channels that react to it are hyperpolarizing, these cells are called excitatory.\n",
    "It also is the flavor molecule responsible for the 'meaty' or 'umami' flavor of meats, mushrooms, seaweeds, etc. It isn't relevant to anything in the course but just know that your excitatory synapses are delicious.\n",
    "    \n",
    "Through the release of glutamate in a presynaptic cell (when that cell fires an action potential) onto the AMPA and NMDA receptors in a post-synaptic cell increases that cell's membrane potential and makes it more likely to fire an action potential itself.\n",
    "    \n",
    "<img src=\"images/NMDA_AMPA_pic.png\" width=\"920\"> \n",
    "    \n",
    "*Slides: 20, 21 and 22 from lecture."
   ]
  },
  {
   "cell_type": "markdown",
   "metadata": {},
   "source": [
    "### Compile the MOD files"
   ]
  },
  {
   "cell_type": "code",
   "execution_count": null,
   "metadata": {
    "tags": []
   },
   "outputs": [],
   "source": [
    "!nrnivmodl"
   ]
  },
  {
   "cell_type": "markdown",
   "metadata": {},
   "source": [
    "### Load the modules and hoc files that will be used"
   ]
  },
  {
   "cell_type": "code",
   "execution_count": null,
   "metadata": {
    "tags": []
   },
   "outputs": [],
   "source": [
    "import neuron\n",
    "from neuron import h\n",
    "import numpy as np\n",
    "import matplotlib.pyplot as plt\n",
    "\n",
    "%matplotlib inline\n",
    "\n",
    "# Load external files & initialize\n",
    "h.load_file(\"stdrun.hoc\")\n",
    "h.stdinit()"
   ]
  },
  {
   "cell_type": "markdown",
   "metadata": {},
   "source": [
    "### A neuron to host your synapse\n",
    "\n",
    "<font size='3'>As the point of the tutorial is understand AMPA and NMDA receptors mechanism, we will create a single compartment soma neuron to host the synapse."
   ]
  },
  {
   "cell_type": "code",
   "execution_count": null,
   "metadata": {
    "tags": []
   },
   "outputs": [],
   "source": [
    "soma = neuron.h.Section()\n",
    "soma.L = 40\n",
    "soma.diam = 40\n",
    "soma.insert(\"pas\")"
   ]
  },
  {
   "cell_type": "code",
   "execution_count": null,
   "metadata": {
    "tags": []
   },
   "outputs": [],
   "source": [
    "# Configure the passive biophysics\n",
    "for sec in h.allsec():\n",
    "    sec.Ra = 100\n",
    "    sec.cm = 1"
   ]
  },
  {
   "cell_type": "markdown",
   "metadata": {},
   "source": [
    "## the synapse model\n",
    "\n",
    "The SimpleAmpa_NMDA object is defined in SimpleAMPA_NMDA.mod.\n",
    "`POINT_PROCESS SimpleAMPA_NMDA` states that it is a subclass of h.PointProcess, which is the norm for synapse models.\n",
    "The parameters of the model and what they mean are written in the PARAMETERS block.\n",
    "It implements a double exponential function for each receptor type (see below).\n",
    "\n",
    "You can find more documentation on  modfiles here https://www.neuron.yale.edu/neuron/static/py_doc/modelspec/programmatic/mechanisms/nmodl.html#model-description-language\n",
    "\n",
    "\n",
    "Create the synapse at the center of the soma compartment"
   ]
  },
  {
   "cell_type": "code",
   "execution_count": null,
   "metadata": {
    "tags": []
   },
   "outputs": [],
   "source": [
    "synapse = h.SimpleAMPA_NMDA(soma(0.5))"
   ]
  },
  {
   "cell_type": "markdown",
   "metadata": {},
   "source": [
    "### Define the stimulus:\n",
    "\n",
    "<font size='3'> 8 spikes at 20Hz + 1 spike 500 ms later"
   ]
  },
  {
   "cell_type": "code",
   "execution_count": null,
   "metadata": {
    "tags": []
   },
   "outputs": [],
   "source": [
    "stimulator = h.VecStim()\n",
    "spike_times = [100.0, 150.0, 200.0, 250.0, 300.0, 350.0, 400.0, 450.0, 950.0]\n",
    "spikes_vector = h.Vector(spike_times)\n",
    "stimulator.play(spikes_vector)\n",
    "\n",
    "connection = h.NetCon(stimulator, synapse)\n",
    "connection.weight[0] = 1.0  # In units of [nS] due to the gmax scaling factor in our .mod file"
   ]
  },
  {
   "cell_type": "markdown",
   "metadata": {},
   "source": [
    "### Create a recorder for the synaptic conductance, current, the soma voltage, and the time intervals"
   ]
  },
  {
   "cell_type": "code",
   "execution_count": null,
   "metadata": {
    "tags": []
   },
   "outputs": [],
   "source": [
    "g_syn = h.Vector()\n",
    "g_syn.record(synapse._ref_g)\n",
    "i_syn = h.Vector()\n",
    "i_syn.record(synapse._ref_i)\n",
    "v_soma = h.Vector()\n",
    "v_soma.record(soma(0.5)._ref_v)\n",
    "time = h.Vector()\n",
    "time.record(neuron.h._ref_t)"
   ]
  },
  {
   "cell_type": "markdown",
   "metadata": {},
   "source": [
    "### AMPA conductance\n",
    "\n",
    "To look at only the AMPA conductance, let's set NMDA conductance to 0.\n",
    "\n"
   ]
  },
  {
   "cell_type": "code",
   "execution_count": null,
   "metadata": {
    "scrolled": true,
    "tags": []
   },
   "outputs": [],
   "source": [
    "DURATION = 1100\n",
    "synapse.gmax_NMDA = 0.0\n",
    "synapse.gmax_AMPA = 0.001  # uS\n",
    "h.finitialize(-70)\n",
    "h.continuerun(DURATION)\n",
    "# note we use an alternative way to run to the h.continuerun we have so far."
   ]
  },
  {
   "cell_type": "code",
   "execution_count": null,
   "metadata": {
    "tags": []
   },
   "outputs": [],
   "source": [
    "values = i_syn, g_syn, v_soma\n",
    "labels = 'current (uA)', 'conductance (uS)', 'V_m (mV)'\n",
    "f, axs = plt.subplots(3, 1, figsize=(20, 10))\n",
    "for ax, label, value in zip(axs, labels, values):\n",
    "    ax.plot(time, value)\n",
    "    ax.set_ylabel(label)\n"
   ]
  },
  {
   "cell_type": "markdown",
   "metadata": {},
   "source": [
    "#### Conductance\n",
    "\n",
    "<font size='3'>The dual exponential model (exponential activation, exponential deactivation) for the conductance time course has a closed form for the response due to a single pulse.\n",
    "Below we verify the model in the .mod file implementation running in NEURON against this closed form solution. \n",
    "\n",
    "<center><img src=\"images/DualExpConductance.png\" width=\"600\"><center>\n",
    "    \n",
    "*Slide 34 of lecture\n"
   ]
  },
  {
   "cell_type": "code",
   "execution_count": null,
   "metadata": {
    "tags": []
   },
   "outputs": [],
   "source": [
    "def dual_exp(t, tau_r, tau_d, t_start):\n",
    "    \"\"\"Compute the dual exponential time course using the closed form expression.\"\"\"\n",
    "    t = np.array(t)\n",
    "    time_to_peak = (tau_r * tau_d) / (tau_d - tau_r) * np.log(tau_d / tau_r)\n",
    "    factor = -np.exp(-time_to_peak / tau_r) + np.exp(-time_to_peak / tau_d)\n",
    "    f_dual_exp = lambda t: (np.exp(-t / tau_d) - np.exp(-t / tau_r)) / factor\n",
    "    \n",
    "    dual_exp = np.zeros_like(t)\n",
    "    dual_exp[t >= t_start] = f_dual_exp(t[t >= t_start] - t_start)\n",
    "    \n",
    "    return dual_exp"
   ]
  },
  {
   "cell_type": "code",
   "execution_count": null,
   "metadata": {
    "tags": []
   },
   "outputs": [],
   "source": [
    "def compare_exp(t, g, tau_r, tau_d, t_start, t_end):\n",
    "    time = np.array(t)\n",
    "    g_syn = np.array(g)\n",
    "\n",
    "    firstspike = np.logical_and(time > t_start, time < t_end)\n",
    "    plt.figure(figsize=(20, 10))\n",
    "    plt.plot(time[firstspike], g_syn[firstspike], label=\"conductance\")\n",
    "    plt.plot(\n",
    "        time[firstspike],\n",
    "        0.001 * connection.weight[0] * dual_exp(\n",
    "            time[firstspike], tau_r, tau_d, t_start=100.0 + connection.delay\n",
    "        ),\n",
    "        \"r--\",\n",
    "        lw=2,\n",
    "        label=\"math. expr.\",\n",
    "    )\n",
    "    plt.legend();\n",
    "\n"
   ]
  },
  {
   "cell_type": "markdown",
   "metadata": {},
   "source": [
    "### NMDA conductance\n",
    "\n",
    "Now let's take a look at the NMDA receptor alone.\n",
    "    channels\n",
    "At resting membrane potentials, magnesium ions block the NMDA channels.\n",
    "Without any AMPA conductance to depolarize the membrane, this means we won't see much of a current.\n",
    "So, to see the dynamics of NMDA receptors we will set the magnesium concentration to zero."
   ]
  },
  {
   "cell_type": "code",
   "execution_count": null,
   "metadata": {
    "tags": []
   },
   "outputs": [],
   "source": [
    "synapse.gmax_NMDA = 0.001  # uS\n",
    "synapse.mg = 0.0  # mM\n",
    "synapse.gmax_AMPA = 0  # uS\n",
    "h.finitialize(-70)\n",
    "h.continuerun(DURATION)"
   ]
  },
  {
   "cell_type": "code",
   "execution_count": null,
   "metadata": {
    "tags": []
   },
   "outputs": [],
   "source": [
    "# This could take a while\n",
    "compare_exp(time, g_syn, synapse.tau_r_NMDA, synapse.tau_d_NMDA, 100, 170)"
   ]
  },
  {
   "cell_type": "markdown",
   "metadata": {},
   "source": [
    "### AMPA and NMDA conductance\n",
    "\n",
    "<font size='3'>Finally, let's configure the synapse to realistic biological ranges for the AMPA and NMDA conductances, and the Mg2+ concentration. Then, let's see the dynamics."
   ]
  },
  {
   "cell_type": "code",
   "execution_count": null,
   "metadata": {
    "tags": []
   },
   "outputs": [],
   "source": [
    "synapse.gmax_AMPA = 0.001  # uS\n",
    "synapse.gmax_NMDA = (\n",
    "    0.7 * 0.001\n",
    ")  # uS - 0.7 is a biologically typical ratio of NMDA to AMPA conductance\n",
    "synapse.mg = 1.0  # mM\n",
    "g_NMDA = h.Vector()\n",
    "g_NMDA.record(synapse._ref_g_NMDA)\n",
    "g_AMPA = h.Vector()\n",
    "g_AMPA.record(synapse._ref_g_AMPA)\n",
    "h.finitialize(-70)\n",
    "h.continuerun(DURATION)"
   ]
  },
  {
   "cell_type": "code",
   "execution_count": null,
   "metadata": {
    "tags": []
   },
   "outputs": [],
   "source": [
    "# This could take a while\n",
    "plt.figure()\n",
    "plt.plot(time, g_syn, label=\"g\")\n",
    "plt.plot(time, g_NMDA, label=\"g_NMDA\")\n",
    "plt.plot(time, g_AMPA, label=\"g_AMPA\")\n",
    "plt.xlim(80, 150)\n",
    "#plt.axis([80.0, 150.0, 0.0, 0.0011])\n",
    "plt.legend()"
   ]
  }
 ],
 "metadata": {
  "kernelspec": {
   "display_name": "Python3",
   "language": "python",
   "name": "python3"
  },
  "language_info": {
   "codemirror_mode": {
    "name": "ipython",
    "version": 3
   },
   "file_extension": ".py",
   "mimetype": "text/x-python",
   "name": "python",
   "nbconvert_exporter": "python",
   "pygments_lexer": "ipython3",
   "version": "3.11.5"
  }
 },
 "nbformat": 4,
 "nbformat_minor": 4
}
