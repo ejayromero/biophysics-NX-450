{
 "cells": [
  {
   "cell_type": "markdown",
   "metadata": {},
   "source": [
    "<center><font size = \"10\"> Week 8 - Synapses<center>\n",
    "<center><font size = \"8\">Tutorial 03: Real synaptic trace analysis<center>"
   ]
  },
  {
   "cell_type": "markdown",
   "metadata": {
    "jp-MarkdownHeadingCollapsed": true,
    "tags": []
   },
   "source": [
    "<font size='3'><font color='blue'>In this tutorial you will see how to:\n",
    "    \n",
    "<font size='3'><font color='blue'>- open and plot synaptic traces from h5 files\n",
    "\n",
    "<font size='3'><font color='blue'>- extract some parameters from the traces\n",
    "    \n",
    "### Features that can be extracted from a synaptic trace\n",
    "    \n",
    "<br><img src=\"images/Synapse_param.png\" width=\"800\" height=\"400\">  \n",
    "    \n",
    "    \n",
    "    \n",
    "The synaptic traces are changes in membrane potential in a postsynaptic cell when the presynaptic cell is stimulated.Features"
   ]
  },
  {
   "cell_type": "markdown",
   "metadata": {},
   "source": [
    "### 1. Load packages and libraries to be used"
   ]
  },
  {
   "cell_type": "code",
   "execution_count": null,
   "metadata": {
    "tags": []
   },
   "outputs": [],
   "source": [
    "import h5py\n",
    "import numpy as np\n",
    "import matplotlib.pyplot as plt\n",
    "\n",
    "%matplotlib inline"
   ]
  },
  {
   "cell_type": "markdown",
   "metadata": {},
   "source": [
    "### 2. Open the file and plot"
   ]
  },
  {
   "cell_type": "code",
   "execution_count": null,
   "metadata": {
    "tags": []
   },
   "outputs": [],
   "source": [
    "# Open and print keys to check how many sweeps (repetitions) of the experiment there are in the file\n",
    "data = h5py.File(\"connection_test.h5\", \"r\")\n",
    "print(data.keys())"
   ]
  },
  {
   "cell_type": "code",
   "execution_count": null,
   "metadata": {
    "tags": []
   },
   "outputs": [],
   "source": [
    "# Create a data array and compute the mean trace by computing the mean of all sweeps\n",
    "traces = []\n",
    "for key in data.keys():\n",
    "    traces.append(data.get(key))\n",
    "\n",
    "traces = np.array(traces)\n",
    "\n",
    "mean_trace = np.mean(traces, axis=0)"
   ]
  },
  {
   "cell_type": "code",
   "execution_count": null,
   "metadata": {
    "tags": []
   },
   "outputs": [],
   "source": [
    "# plot the sweeps and the mean voltage trace\n",
    "plt.figure()\n",
    "\n",
    "for trace in traces:\n",
    "    plt.plot(trace, \"b--\")\n",
    "\n",
    "plt.plot(mean_trace, \"r\")\n",
    "plt.ylabel('V (V)')\n",
    "plt.xlabel('time (ms)')"
   ]
  },
  {
   "cell_type": "markdown",
   "metadata": {},
   "source": [
    "### 3. Extract features from first EPSP: tau rise, latency and amplitude\n",
    "<font size='3'> According to [Feldmeyer et al., 1999](https://www.ncbi.nlm.nih.gov/pmc/articles/PMC2269646/)"
   ]
  },
  {
   "cell_type": "code",
   "execution_count": null,
   "metadata": {
    "tags": []
   },
   "outputs": [],
   "source": [
    "def extract_PSP_window(trace, time, stimulation_index, time_before=50, time_after=300):\n",
    "    \"\"\"Extract a time window with a single EPSP trace\"\"\"\n",
    "    psp_trace = trace[stimulation_index - time_before : stimulation_index + time_after]\n",
    "    psp_time = time[stimulation_index - time_before : stimulation_index + time_after]\n",
    "\n",
    "    return psp_trace, psp_time"
   ]
  },
  {
   "cell_type": "code",
   "execution_count": null,
   "metadata": {
    "tags": []
   },
   "outputs": [],
   "source": [
    "def extract_EPSP_features(psp_trace, psp_time, stimulation_time):\n",
    "    \"\"\"\n",
    "    Function takes in a EPSP curve and calculates the following features: amplitude;\n",
    "    5%, 20% and 80% of the amplitude, tau rise and latency. Based on defintions from\n",
    "    Feldmeyer et al., 1999.\n",
    "\n",
    "    Parameters\n",
    "    ----------\n",
    "    psp_trace : array with voltage trace [mV]\n",
    "    psp_time : array of psp times [s]\n",
    "    stimulation_time : time of the stimulation [s]\n",
    "\n",
    "    Returns\n",
    "    -------\n",
    "    psp_percent : dictionary with psp amplitudes at 5%, 20% and 80% of the amplitude\n",
    "    times : dictionary with psp times at 5%, 20% and 80% of the amplitude\n",
    "    amplitude : mplitude of the first EPSP computed as the difference between the 20 and the 80 % of rise\n",
    "    tau_rise : distance between the time of 20% and 80% of the rise of the EPSP [s]\n",
    "    latency : time between the AP of the presynaptic cell and 5% amplitude rise of the EPSP [s]\n",
    "    \"\"\"\n",
    "\n",
    "    # find absolute values of the psp trace\n",
    "    max_psp = np.max(psp_trace)\n",
    "    min_psp = np.min(psp_trace)\n",
    "    amplitude_psp = np.abs(max_psp - min_psp)\n",
    "\n",
    "    # compute percentages of amplitudes\n",
    "    twenty_amplitude = amplitude_psp * 80.0 / 100.0\n",
    "    eighty_amplitude = amplitude_psp * 20.0 / 100.0\n",
    "    five_amplitude = amplitude_psp * 95.0 / 100.0\n",
    "    amplitude = eighty_amplitude - twenty_amplitude\n",
    "\n",
    "    # compute amplitude percentages on the psp trace\n",
    "    psp_percent = {\n",
    "        \"five\": -(five_amplitude - max_psp),\n",
    "        \"twenty\": -(twenty_amplitude - max_psp),\n",
    "        \"eighty\": -(eighty_amplitude - max_psp),\n",
    "    }\n",
    "\n",
    "    # find corresponding index of an array\n",
    "    five_index = np.where(psp_trace >= psp_percent[\"five\"])[0][0]\n",
    "    twenty_index = np.where(psp_trace >= psp_percent[\"twenty\"])[0][0]\n",
    "    eighty_index = np.where(psp_trace >= psp_percent[\"eighty\"])[0][0]\n",
    "\n",
    "    # extract time points for percentage points of the trace\n",
    "    psp_times = {\n",
    "        \"five\": psp_time[five_index],\n",
    "        \"twenty\": psp_time[twenty_index],\n",
    "        \"eighty\": psp_time[eighty_index],\n",
    "    }\n",
    "    \n",
    "    # calculate time features of a PSP\n",
    "    tau_rise = np.abs((psp_times[\"twenty\"] - psp_times[\"eighty\"]))\n",
    "    latency = np.abs((psp_times[\"five\"]) - stimulation_time)\n",
    "\n",
    "    return psp_percent, psp_times, amplitude, tau_rise, latency"
   ]
  },
  {
   "cell_type": "markdown",
   "metadata": {},
   "source": [
    "### 3.1 Define time array and stimulation protocol"
   ]
  },
  {
   "cell_type": "code",
   "execution_count": null,
   "metadata": {
    "tags": []
   },
   "outputs": [],
   "source": [
    "time = np.linspace(0, 1.3, 13000)\n",
    "stimulation_indices = np.array([1000, 1500, 2000, 2500, 3000, 3500, 4000, 4500, 10000])"
   ]
  },
  {
   "cell_type": "markdown",
   "metadata": {},
   "source": [
    "#### Calculate and visualize the features"
   ]
  },
  {
   "cell_type": "code",
   "execution_count": null,
   "metadata": {
    "tags": []
   },
   "outputs": [],
   "source": [
    "stimulation_time = time[stimulation_indices[0]]\n",
    "\n",
    "psp_trace, psp_time = extract_PSP_window(mean_trace, time, stimulation_indices[0])\n",
    "\n",
    "psp_percent, psp_times, amplitude, tau_rise, latency = extract_EPSP_features(\n",
    "    psp_trace, psp_time, stimulation_time\n",
    ")"
   ]
  },
  {
   "cell_type": "code",
   "execution_count": null,
   "metadata": {
    "tags": []
   },
   "outputs": [],
   "source": [
    "plt.figure(figsize=(10, 5))\n",
    "plt.plot(psp_time, psp_trace, label=\"first EPSP\")\n",
    "plt.scatter(psp_times[\"five\"], psp_percent[\"five\"], c=\"g\", label=\"5%\")\n",
    "plt.scatter(psp_times[\"twenty\"], psp_percent[\"twenty\"], c=\"r\", label=\"20%\")\n",
    "plt.scatter(psp_times[\"eighty\"], psp_percent[\"eighty\"], c=\"m\", label=\"80%\")\n",
    "plt.xlabel(\"Time [s]\")\n",
    "plt.ylabel(\"Voltage [V]\")\n",
    "\n",
    "plt.legend()\n",
    "plt.show()\n",
    "\n",
    "print(\"Amplitude = \", np.abs(amplitude*1000.0), \"mV\")\n",
    "print(\"Tau_rise = \", tau_rise, \"s\")\n",
    "print(\"latency = \", latency, \"s\")"
   ]
  },
  {
   "cell_type": "markdown",
   "metadata": {},
   "source": [
    "### 4. Compute amplitudes of all EPSP of the mean trace\n",
    "\n",
    "<font size=\"3\">Now we will compute the amplitude in a different way, as the difference between the min and the max voltage point within a pre-defined psp window."
   ]
  },
  {
   "cell_type": "code",
   "execution_count": null,
   "metadata": {
    "tags": []
   },
   "outputs": [],
   "source": [
    "def extract_amplitude(psp_trace):\n",
    "    \"\"\"Extract amplitude from a single EPSP trace and convert to mV\"\"\"\n",
    "    max_psp = np.max(psp_trace)\n",
    "    min_psp = np.min(psp_trace)\n",
    "\n",
    "    return np.abs(max_psp - min_psp) * 1000"
   ]
  },
  {
   "cell_type": "code",
   "execution_count": null,
   "metadata": {
    "tags": []
   },
   "outputs": [],
   "source": [
    "amplitudes = np.array([])\n",
    "\n",
    "for index in stimulation_indices:\n",
    "    psp_trace, psp_time = extract_PSP_window(mean_trace, time, index)\n",
    "    amp = extract_amplitude(psp_trace)\n",
    "\n",
    "    amplitudes = np.append(amplitudes, amp)"
   ]
  },
  {
   "cell_type": "code",
   "execution_count": null,
   "metadata": {
    "tags": []
   },
   "outputs": [],
   "source": [
    "fig, ax = plt.subplots(2, 1, figsize=(10, 10), sharex=True)\n",
    "print(stimulation_indices, time.shape)\n",
    "ax[0].scatter(time[stimulation_indices], amplitudes, c=\"black\")\n",
    "ax[1].plot(time, mean_trace, \"r\")\n",
    "ax[0].set_ylabel(\"Voltage [mV]\")\n",
    "ax[1].set_ylabel(\"Voltage [V]\")\n",
    "ax[1].set_xlabel(\"Time [ms]\");"
   ]
  }
 ],
 "metadata": {
  "kernelspec": {
   "display_name": "Python3",
   "language": "python",
   "name": "python3"
  },
  "language_info": {
   "codemirror_mode": {
    "name": "ipython",
    "version": 3
   },
   "file_extension": ".py",
   "mimetype": "text/x-python",
   "name": "python",
   "nbconvert_exporter": "python",
   "pygments_lexer": "ipython3",
   "version": "3.11.5"
  }
 },
 "nbformat": 4,
 "nbformat_minor": 4
}
